{
 "cells": [
  {
   "cell_type": "markdown",
   "metadata": {},
   "source": [
    "# 0. About this course\n",
    "\n",
    "<div class=\"alert alert-warning\">\n",
    "<strong>Goal of this course:</strong>\n",
    "There are some skills that you never really _get_ until you try to apply them. \n",
    "Handling experimental data is such a skill.\n",
    "The aim of this course is to make sure you comfortable with getting hold of data\n",
    "(either from simulations or by importing it), \n",
    "manipulating it, and plotting it. With a minimum of fuss, and with decent\n",
    "speed, using the programming language Python.\n",
    "</div>"
   ]
  },
  {
   "cell_type": "markdown",
   "metadata": {},
   "source": [
    "## 0.0 What is scientific computing?\n",
    "\n",
    "Scientific computing means using computers as a tool to gain understanding from data, either simulated or observed. The 'output' is improved understanding of a system, as opposed to software engineering where the output is a working system. This gives it a distinct flavour:\n",
    "\n",
    "* Often we write small snippets of code, learn something, then discard the code and try something new, over and over again. We need tools that are concise and expressive, to make the gap between \"what if...\" and an answer as small as possible.\n",
    "* It is mostly a personal effort to gain understanding, not a team effort. We're not bothered about \"Will this codebase be robust when 20 people work on it and the requirements change each month?\", we are bothered about \"Is this result reproducible, and will people be able to re-run this same code and understand it a year from now?\"\n",
    "* Scientific computing is oriented around data. We need to always interact, and query, and visualize, and inspect. Compilers are out, interpreters are in.\n",
    "* We always have to communicate whatever we've understood: there is an emphasis on visualisations, and on write-ups in the style of scientific reports. This course will use Jupyter Notebooks, \"live documents\" that mix code and text and plots.\n",
    "* Programming languages for scientific computing tend to be glue-like, good at linking together assorted libraries and tools. This is what lets them be concise and expressive, and also fast at working with large amounts of data. It means you need to know your way around some big libraries, so you don't spend all your time endlessly rewriting boilerplate code. This course will use Python; the other two main languages for scientific computing are R and MATLAB.\n",
    "\n",
    "Scientific computing will be useful in all the data-themed courses you study: machine learning, data science, signal processing, computer vision, etc. It will be useful for experimental subjects, such as aspects of HCI. It will be useful for subjects that involve simulations, such as computer systems modelling. In the short term, it is loosely linked to some other IA/IB courses:\n",
    "\n",
    "* IA _Maths for Natural Sciences_. Science students have their own version of the _Scientific Computing_ course, which uses MATLAB. The course you are reading is for 50%-CS and 75%-CS students, and it uses Python instead, and it has a greater emphasis on working with data.\n",
    "\n",
    "* IA/IB _Machine Learning and Real World Data_. The MLRD course involves lots of scientific computing and plotting. It expects you to program your work in Java, but some of you might like to sketch out your ideas in Python first.\n",
    "\n",
    "* IA _Foundations of Computer Science_ and _Object Oriented Programming_. This course will introduce you to Python (if you don't know it already). Python is a general-purpose programming language, \n",
    "[Appendix A1](A1.%20Python%20language%20choices.ipynb) discusses some of the similarities and differences with ML and Java.\n",
    "\n",
    "* IA _Algorithms_. The algorithms you will study will be presented in pseudocode that closely resembles Python. If you want to become more fluent in Python, tinker with the code presented in that course.\n",
    "\n",
    "* IA/IB _Databases_. Section 3 of this course is about handling tables of data, which closely resembles querying a database. Also, [Appendix A3](http://localhost:8888/notebooks/src/scicomp/A3.%20Data%20import%20and%20cleanup.ipynb) gives examples of importing data by querying an SQL database, so you can use Python as a sandbox to familiarise yourself with SQL and to visualize query results."
   ]
  },
  {
   "cell_type": "markdown",
   "metadata": {},
   "source": [
    "## 0.1 Course structure\n",
    "\n",
    "* [**1. Programming in Python**](1.%20Programming%20in%20Python.ipynb)\n",
    "&hellip;&hellip; Appendix: [Python language choices](A1.%20Python%20language%20choices.ipynb)\n",
    "* [**2. Numerical computation**](2.%20Numerical%20computation.ipynb) &hellip; [Assignment 2](Assignment%202.ipynb)\n",
    "&hellip;&hellip; Appendix: [vectorized thinking](A2.%20Vectorized%20thinking.ipynb)\n",
    "* [**3. Working with data**](3.%20Working%20with%20data.ipynb) &hellip; [Assignment 3](Assignment%203.ipynb)\n",
    "&hellip;&hellip; Appendix: [data import and cleanup](A3.%20Data%20import%20and%20cleanup.ipynb)\n",
    "\n",
    "This course is for you to work through at your own pace. You may like to approach it as a problem-solving course, jumping straight into the assignments and skimming through the notes only as you need to. Or you may like to work through the notes systematically before going on to the assignments. It's up to you. There are three appendices which aren't part of the course, but which you may find thought-provoking or useful as a reference in your later studies; and there are also further exercises scattered through each section of the notes."
   ]
  },
  {
   "cell_type": "markdown",
   "metadata": {},
   "source": [
    "**Assessment.**\n",
    "The course is marked out of 4. There are two assignments, each split into two parts, each part marked 0 or 1. (There's no assignment for Section 1, because your Python skills will be thoroughly tested by Sections 2 and 3.) The assignments are assessed in two ways:\n",
    "\n",
    "* As you work through an assignment, you will submit answers to an **automatic grader**, which checks if the answers are correct. This is for you to use as a debugging aide: run the automatic grader as many times as you need until your code gives the right answers. You should aim to answer all the questions. The automatic grader will show you your progress.\n",
    "\n",
    "\n",
    "* There is a final **ticking session**, when you present your work for the entire course to a (human) demonstrator. The demonstrator will choose some parts of the assignments, and ask you to explain your answers. The demonstrator will only ask you about the parts where you have submitted complete and correct answers to the autograder.\n",
    "The ticking session is for the examiners to guard against plagiarism. At the ticking session, you should have your notebooks ready and open in a browser, and your code should execute without errors. For scheduling of ticks, see [Moodle](https://www.vle.cam.ac.uk/course/view.php?id=141182&section=12).\n",
    "\n",
    "**Getting help.**\n",
    "You must understand what your programs are doing, and in the ticking session you will be asked justify your answers to the assignments. However, it's fine to get help, and if you are having difficulty this is encouraged. The main help forum is on [Moodle](https://www.vle.cam.ac.uk/mod/hsuforum/view.php?id=8256591). In addition, there will be help sessions at the beginning of Lent term; see [Moodle](https://www.vle.cam.ac.uk/course/view.php?id=141182&section=12) for timetabling information."
   ]
  },
  {
   "cell_type": "markdown",
   "metadata": {},
   "source": [
    "## 0.2 Running notebooks<a name=\"notebooks\"></a>\n",
    "\n",
    "This is a [Jupyter notebook](http://jupyter.org/). Jupyter notebooks are \"live documents\" that intersperse text and running code.\n",
    "We will be using Jupyter hosted on the Microsoft Azure cloud computing environment.\n",
    "You can access it from any device &mdash; all you need is a web browser. \n",
    "\n",
    "Click on \n",
    "<span style=\"border: solid black 1px\">\n",
    "<img src=\"res/clone-icon-fa.png\" \n",
    "style=\"display:inline-block; padding:1pt\">\n",
    "Clone</span> at the top of the page to get your own runnable version of the \n",
    "Library (consisting of all notebooks for this course).\n",
    "If you are not logged in, you will be prompted to log in: type in your Cambridge University CRSid e.g. `spqr1@cam.ac.uk`, click in the password field, and you will automatically be redirected to a Raven login page. \n",
    "Experiment freely with your clone of the library &mdash; you can always go back and read the [master version](https://notebooks.azure.com/djw1005/libraries/cl-scicomp).\n",
    "\n",
    "> For academic staff at Cambridge: if your Raven password doesn't work, then you need to [activate your Microsoft account](https://www.uis.cam.ac.uk/initiatives/ees/ees-sign-up/ees-enable-account) first. For other users: you can sign up for a free Microsoft account on the login page.\n",
    "\n",
    "Once you are logged in you can also create your own\n",
    "libraries and notebooks, using the `Libraries` link at the top left at [https://notebooks.azure.com/](https://notebooks.azure.com/). When you create a notebook you will be asked which language to use. This course uses Python 3.6, which is substantially different to Python 2.7, so be alert when you look for help online.\n",
    "\n",
    "These notebooks are hosted on the cloud, and the first lesson of cloud computing is that **the cloud will fail when you need it most.** Take regular backups, by going to the `Libraries` page, clicking on the library, clicking on the line with the relevant notebook, then clicking on <span style=\"border: solid black 1px;\"><img src=\"res/download.png\" style=\"height:1em; display:inline-block; padding:1pt; padding-right:3pt\">Download</span>.\n",
    "You can also run the notebooks on your own machine: follow the [Jupyter installation instructions](http://jupyter.org/install.html), and clone the notebooks from their [GitHub repository](https://github.com/damonjw/scicomp). More detailed instructions will be available on [Moodle](https://www.vle.cam.ac.uk/mod/wiki/view.php?id=8257621)."
   ]
  },
  {
   "cell_type": "markdown",
   "metadata": {},
   "source": [
    "## 0.3 Using the automatic grader<span id=\"grader\"></span>"
   ]
  },
  {
   "cell_type": "markdown",
   "metadata": {},
   "source": [
    "Once you've answered some exercises and you're ready to check your answers, \n",
    "paste the following code at the top of your notebook and run it. Each section of the notes tells you what value to use for `section`. To illustrate how it works, we'll use `section=notes0`."
   ]
  },
  {
   "cell_type": "code",
   "execution_count": 1,
   "metadata": {},
   "outputs": [
    {
     "name": "stdout",
     "output_type": "stream",
     "text": [
      "Waiting for you to log in ..... done.\n"
     ]
    }
   ],
   "source": [
    "!pip install ucamcl --upgrade\n",
    "import ucamcl\n",
    "GRADER = ucamcl.autograder('https://markmy.solutions', course='scicomp', section='notes0')\n",
    "# paste in whatever section is appropriate for the section of notes / assignment you're working on"
   ]
  },
  {
   "cell_type": "markdown",
   "metadata": {},
   "source": [
    "> The first line installs a Python package `ucamcl`, with the functions used by the automatic grader. \n",
    "> (On Azure, you sometimes get a new virtual machine, sometimes an old one. It's safest to install the `ucamcl`\n",
    "> package every time, and to make sure you have the latest version.)\n",
    "> The next line makes it available in your current notebook.\n",
    "> The third line will produce a login button, which you should click on. It will open a web page, showing you your progress so far."
   ]
  },
  {
   "cell_type": "markdown",
   "metadata": {},
   "source": [
    "### Submitting answers to assessed exercises\n",
    "\n",
    "A typical question will look something like this."
   ]
  },
  {
   "cell_type": "markdown",
   "metadata": {},
   "source": [
    "**Question 1.** Given an integer $n$ and a value $v$, create a list containing $n$ copies of $v$.\n",
    "```\n",
    "# Submit your answer:\n",
    "q = GRADER.fetch_question('q1')\n",
    "# Let x be a list consisting of q.n copies of q.v\n",
    "GRADER.submit_answer(q, x)\n",
    "```"
   ]
  },
  {
   "cell_type": "markdown",
   "metadata": {},
   "source": [
    "When you call `GRADER.fetch_question`, the function returns an object `q` with the question parameters. Your fellow students might be given different parameters. You can call `print(q)` to see them, and to see what format the answer should take.\n",
    "\n",
    "When you call `submit_answer`, the server checks if the answer is correct for the question parameters you were given. If not, it may tell you what answer it was expecting. If you get the question wrong, don't be tempted to just paste in the correct answer and resubmit &mdash; it won't do you any good in the ticking session, and anyway the system marks the question as \"stale\" and requires you to call `fetch_question` again to fetch new question parameters before you are allowed to resubmit."
   ]
  },
  {
   "cell_type": "markdown",
   "metadata": {},
   "source": [
    "### Checking answers to non-assessed exercises\n",
    "\n",
    "Some non-assessed exercises come with answers. Such exercises have labels: for example if you see <span style=\"background-color:wheat\"><strong>Exercise (ex5)</strong></span> then the label is `ex5`. Check your answers by calling\n",
    "<pre>\n",
    "q = GRADER.fetch_question('ex5')\n",
    "print(q)\n",
    "</pre>\n",
    "It might print out the full answer. Or it might print out instructions for how you can submit your own answer for checking. In the latter case, <code>print(q)</code> will tell you what format it expects the answer to be in. Follow the instructions, and check your answer by running\n",
    "<pre>\n",
    "GRADER.submit_answer(q, ans)\n",
    "</pre>"
   ]
  }
 ],
 "metadata": {
  "kernelspec": {
   "display_name": "Python 3",
   "language": "python",
   "name": "python3"
  },
  "language_info": {
   "codemirror_mode": {
    "name": "ipython",
    "version": 3
   },
   "file_extension": ".py",
   "mimetype": "text/x-python",
   "name": "python",
   "nbconvert_exporter": "python",
   "pygments_lexer": "ipython3",
   "version": "3.6.3"
  }
 },
 "nbformat": 4,
 "nbformat_minor": 2
}
