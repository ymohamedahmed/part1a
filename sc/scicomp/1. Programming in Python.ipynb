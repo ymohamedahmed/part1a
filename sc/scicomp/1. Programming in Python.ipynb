{
 "cells": [
  {
   "cell_type": "code",
   "execution_count": 2,
   "metadata": {},
   "outputs": [
    {
     "name": "stdout",
     "output_type": "stream",
     "text": [
      "Waiting for you to log in ... done.\n"
     ]
    }
   ],
   "source": [
    "#!pip install ucamcl --upgrade\n",
    "import ucamcl\n",
    "GRADER = ucamcl.autograder('https://markmy.solutions', course='scicomp', section='notes1')"
   ]
  },
  {
   "cell_type": "markdown",
   "metadata": {},
   "source": [
    "# 1 Programming Python in a Jupyter notebook\n",
    "* [**1.0 Editing notebooks**](#notebooks)\n",
    "* [**1.1 Using Python for simple calculation**](#eval)\n",
    "* [**1.2 Basic Python expressions**](#expr) &hellip;&hellip; [maths and logic](#maths), [strings and formatting](#strings)\n",
    "* [**1.3 Collection types and control flow**](#program) &hellip;&hellip;\n",
    "[tuples, lists, dictionaries](#collections),\n",
    "[control flow](#control),\n",
    "[comprehensions](#comprehension)\n",
    "* [**1.4 Functions**](#functions)\n",
    "* [**More exercises**](#exercises)"
   ]
  },
  {
   "cell_type": "markdown",
   "metadata": {},
   "source": [
    "<div class=\"alert alert-warning\">**Goal of this notebook:**\n",
    "Familiarize yourself with how to use a notebook, how to use Python for simple calculation, and the basics of Python programming.\n",
    "<ul>\n",
    "<li> If you know Python already, skim through the section on <a href=\"#comprehension\">comprehensions</a> first and then jump ahead to <a href=\"2.%20Numerical%20computation.ipynb\">Section 2</a>.\n",
    "<li> To see how Python compares to other programming languages, particularly ML and Java, see <a href=\"A1.%20Python%20language%20choices.ipynb\">Section A1</a>.\n",
    "</ul>\n",
    "</div>"
   ]
  },
  {
   "cell_type": "markdown",
   "metadata": {},
   "source": [
    "## 1.0 Editing notebooks<span id=\"notebooks\"></span>\n",
    "\n",
    "This is a [Jupyter notebook](http://jupyter.org/). Jupyter notebooks provide an interactive environment where you can mix text, equations, programming and visual outputs. The famous computer scientist Donald Knuth introduced \n",
    "this style of programming, mixing source code with explanations written in natural language, which he calls\n",
    "[literate programming](https://en.wikipedia.org/wiki/Literate_programming). It has become popular in data science and machine learning, wherever scientific explanation and coding go hand in hand. Scientific notebooks of course have a long and venerable history.\n",
    "\n",
    "<a href=\"http://www.bl.uk/onlinegallery/onlineex/remarkmanu/leonardo/large17758.html\"><img alt=\"Da Vinci notebook\" src=\"res/leonardolge.jpg\" style=\"height:15em\"></a>"
   ]
  },
  {
   "cell_type": "markdown",
   "metadata": {},
   "source": [
    "These notebooks are a mixture of text, input code, and output. \n",
    "* Edit a text cell by double-clicking on it\n",
    "* When you've finished editing a text cell, press `shift-enter` to make it display nicely, or choose `Cell | Run Cells` from the menu\n",
    "* Insert new cells using the `Insert` menu\n",
    "* Change a cell from text to input code and _vice versa_ using the `Cell | Cell Type` menu\n",
    "\n",
    "The text format is called [Markdown](https://daringfireball.net/projects/markdown/basics)."
   ]
  },
  {
   "cell_type": "markdown",
   "metadata": {},
   "source": [
    "<div class=\"alert alert-warning\">**Exercise.** Try editing the cell above. How do you type in bullet lists, italics, and links?\n",
    "(If you can't edit cells, you need to clone the notebook, as described in <a href=\"0.%20About%20this%20course.ipynb#notebooks\">&sect;0.2 Running notebooks</a>.)\n",
    "</div>"
   ]
  },
  {
   "cell_type": "markdown",
   "metadata": {},
   "source": [
    "## 1.1 Using Python for simple calculations<span id=\"eval\"></span>"
   ]
  },
  {
   "cell_type": "markdown",
   "metadata": {},
   "source": [
    "We will be programming in the language [Python](https://www.python.org/).\n",
    "At the top right of your notebook you should see \n",
    "<span style=\"padding:1pt; border: solid rgb(200,200,200) 1px; background-color: rgb(245,245,245); color: rgb(120,120,120)\">Python 3 <span style=\"font-size:80%\">&#x25EF;</span></span>\n",
    "or\n",
    "<span style=\"padding:1pt; border: solid rgb(200,200,200) 1px; background-color: rgb(245,245,245); color: rgb(120,120,120)\">Python 3.6 <span style=\"font-size:80%\">&#x25EF;</span></span>\n",
    "telling you which version you're running. \n",
    "If you're not running one or other of these, then use the menu `Kernel | Change kernel` to switch.\n",
    "Python 3 has slightly different syntax to Python 2, and when you look for help online please be aware that many older resources are for Python 2.\n",
    "\n",
    "We can use Python like a calculator. Here are some simple expressions and their values. Try editing the expressions, then to evaluate the cell press `shift-enter` or choose `Cell | Run Cells` from the menu.\n",
    "(Remember, if you can't edit cells, you need to [clone the notebook](0.%20About%20this%20course.ipynb#notebooks) first.)"
   ]
  },
  {
   "cell_type": "code",
   "execution_count": 1,
   "metadata": {},
   "outputs": [
    {
     "data": {
      "text/plain": [
       "11"
      ]
     },
     "execution_count": 1,
     "metadata": {},
     "output_type": "execute_result"
    }
   ],
   "source": [
    "3 + 8"
   ]
  },
  {
   "cell_type": "code",
   "execution_count": 2,
   "metadata": {},
   "outputs": [
    {
     "data": {
      "text/plain": [
       "161800.0"
      ]
     },
     "execution_count": 2,
     "metadata": {},
     "output_type": "execute_result"
    }
   ],
   "source": [
    "1.618 * 1e5"
   ]
  },
  {
   "cell_type": "code",
   "execution_count": 3,
   "metadata": {},
   "outputs": [
    {
     "data": {
      "text/plain": [
       "7.6000000000000005"
      ]
     },
     "execution_count": 3,
     "metadata": {},
     "output_type": "execute_result"
    }
   ],
   "source": [
    "x = 3\n",
    "y = 2.2\n",
    "z = 1\n",
    "x * y + z"
   ]
  },
  {
   "cell_type": "code",
   "execution_count": 4,
   "metadata": {},
   "outputs": [
    {
     "data": {
      "text/plain": [
       "18.6"
      ]
     },
     "execution_count": 4,
     "metadata": {},
     "output_type": "execute_result"
    }
   ],
   "source": [
    "(x,y,z) = (3, 2.2, 4)  # You can assign multiple values at once.\n",
    "x * (y + z)            # And you can comment your code with the # symbol!"
   ]
  },
  {
   "cell_type": "code",
   "execution_count": 5,
   "metadata": {},
   "outputs": [
    {
     "data": {
      "text/plain": [
       "'hello world world '"
      ]
     },
     "execution_count": 5,
     "metadata": {},
     "output_type": "execute_result"
    }
   ],
   "source": [
    "'hello ' + 'world ' * 2"
   ]
  },
  {
   "cell_type": "markdown",
   "metadata": {},
   "source": [
    "<div class=\"alert alert-warning\">**Exercise.** What happens when you type in an erroneous expression? Run the expression below to find out.</div>"
   ]
  },
  {
   "cell_type": "code",
   "execution_count": 6,
   "metadata": {},
   "outputs": [
    {
     "ename": "TypeError",
     "evalue": "must be str, not int",
     "output_type": "error",
     "traceback": [
      "\u001b[0;31m---------------------------------------------------------------------------\u001b[0m",
      "\u001b[0;31mTypeError\u001b[0m                                 Traceback (most recent call last)",
      "\u001b[0;32m<ipython-input-6-809f0f3c0b01>\u001b[0m in \u001b[0;36m<module>\u001b[0;34m()\u001b[0m\n\u001b[1;32m      1\u001b[0m \u001b[0;31m# This expression should produce an error message\u001b[0m\u001b[0;34m\u001b[0m\u001b[0;34m\u001b[0m\u001b[0m\n\u001b[0;32m----> 2\u001b[0;31m \u001b[0;34m'hello'\u001b[0m \u001b[0;34m+\u001b[0m \u001b[0;36m5\u001b[0m\u001b[0;34m\u001b[0m\u001b[0m\n\u001b[0m",
      "\u001b[0;31mTypeError\u001b[0m: must be str, not int"
     ]
    }
   ],
   "source": [
    "# This expression should produce an error message\n",
    "'hello' + 5"
   ]
  },
  {
   "cell_type": "markdown",
   "metadata": {},
   "source": [
    "In a notebook, we can pick which cells to execute when. We can define a variable lower down in the notebook, run that cell, then use it higher up in the notebook. Jupyter prints e.g. `In[42]` at the left to tell you about the order it executed cells. However, for the sanity of anyone reading your notebook (which includes you a week after you wrote it), once you've got your code working you should rearrange it all into clean top-to-bottom order. The menu item `Kernel | Restart & Run All` should then produce all the right output."
   ]
  },
  {
   "cell_type": "markdown",
   "metadata": {},
   "source": [
    "## 1.2 Basic Python expressions<span id=\"expr\"></span>"
   ]
  },
  {
   "cell_type": "markdown",
   "metadata": {},
   "source": [
    "### Maths and logic<span id=\"maths\"></span>"
   ]
  },
  {
   "cell_type": "markdown",
   "metadata": {},
   "source": [
    "All the usual mathematical operators work, though watch out for division which uses different syntax to Java. (The following code block uses `print` statements, to print multiple outputs from one cell.)"
   ]
  },
  {
   "cell_type": "markdown",
   "metadata": {},
   "source": [
    "<div class=\"alert alert-warning\">**Exercise.** Before running the code, guess what these statements produce. Then check your answers.</div>"
   ]
  },
  {
   "cell_type": "code",
   "execution_count": 7,
   "metadata": {
    "scrolled": true
   },
   "outputs": [
    {
     "name": "stdout",
     "output_type": "stream",
     "text": [
      "a: 2.3333333333333335\n",
      "b: 2\n",
      "c: 3 4\n",
      "d: 10 5.0\n",
      "e: 7 -7 3.46\n",
      "f: 9\n",
      "g: 10 1\n",
      "h: 1 7\n",
      "i: 3.0 4.0\n"
     ]
    }
   ],
   "source": [
    "print('a:', 7 / 3)                       # floating point division\n",
    "print('b:', 7 // 3)                      # integer division (rounds down)\n",
    "print('c:', min(3,4), max(3,4))\n",
    "print('d:', abs(-10), abs(3+4j))         # 3+4j is a complex number\n",
    "print('e:', round(7.4), round(-7.4), round(3.4567, 2))\n",
    "print('f:', 3**2)                        # power\n",
    "print('g:', 5 << 1, 5 >> 2)              # bitwise shifting\n",
    "print('h:', 7 & 1, 6 | 1)                # bitwise operations\n",
    "print('i:', (3+4j).real, (3+4j).imag)"
   ]
  },
  {
   "cell_type": "markdown",
   "metadata": {},
   "source": [
    "The usual logical operators work too, though the syntax is wordier than other languages."
   ]
  },
  {
   "cell_type": "code",
   "execution_count": 8,
   "metadata": {},
   "outputs": [
    {
     "name": "stdout",
     "output_type": "stream",
     "text": [
      "a: True\n",
      "b: False\n",
      "c: lower\n"
     ]
    }
   ],
   "source": [
    "(x,y) = (5,12)\n",
    "print('a:', x < y or y < 10)\n",
    "print('b:', x < y and not y < 15)\n",
    "print('c:', 'lower' if x < y else 'higher')  # same as Java's (x < y) ? 'lower' : 'higher'"
   ]
  },
  {
   "cell_type": "markdown",
   "metadata": {},
   "source": [
    "Some useful maths functions are found in the `math` module. To use them, you need to run `import math`. (It's common to put your import statements at the top of the notebook, as they only need to be run once per session, but they can actually appear anywhere.)"
   ]
  },
  {
   "cell_type": "code",
   "execution_count": 9,
   "metadata": {},
   "outputs": [
    {
     "name": "stdout",
     "output_type": "stream",
     "text": [
      "a: -4 -3\n",
      "b: 3.0 3.0\n",
      "c: 7.38905609893065 1.0 2.0043213737826426\n",
      "d: -0.8090169943749473 0.6435011087932844\n",
      "e: 3j\n",
      "f: 1.2246467991473532e-16j\n",
      "g: 0.18622709535053128 0.8934828849676276\n"
     ]
    }
   ],
   "source": [
    "import math\n",
    "print('a:', math.floor(-3.4), math.ceil(-3.4))\n",
    "print('b:', math.pow(9, 0.5), math.sqrt(9))\n",
    "print('c:', math.exp(2), math.log(math.e), math.log(101, 10))\n",
    "print('d:', math.sin(math.pi*1.3), math.atan2(3,4))\n",
    "\n",
    "import cmath   # for functions on complex numbers\n",
    "print('e:', cmath.sqrt(-9))\n",
    "print('f:', cmath.exp(math.pi * 1j) + 1)\n",
    "\n",
    "import random  # for generating random numbers\n",
    "print('g:', random.random(), random.random())"
   ]
  },
  {
   "cell_type": "markdown",
   "metadata": {},
   "source": [
    "### Strings and formatting<span id=\"strings\"></span>"
   ]
  },
  {
   "cell_type": "markdown",
   "metadata": {},
   "source": [
    "Python strings can be enclosed by either single quotes or double quotes. Strings (like everything else in Python) are objects, and they have methods for various string-processing tasks. See [\"String Methods\" documentation](https://docs.python.org/3/library/stdtypes.html#string-methods) for a full list."
   ]
  },
  {
   "cell_type": "code",
   "execution_count": 10,
   "metadata": {},
   "outputs": [
    {
     "name": "stdout",
     "output_type": "stream",
     "text": [
      "a: SHOUT\n",
      "b: matchmaker\n",
      "c: False\n"
     ]
    }
   ],
   "source": [
    "print('a:', \"shout\".upper())\n",
    "print('b:', \"hitchhiker\".replace('hi', 'ma'))\n",
    "print('c:', 'i' in 'team')"
   ]
  },
  {
   "cell_type": "code",
   "execution_count": 11,
   "metadata": {},
   "outputs": [],
   "source": [
    "x = '''\n",
    "Also, a multi-line string can be\n",
    "entered with triple-quotes.\n",
    "'''"
   ]
  },
  {
   "cell_type": "markdown",
   "metadata": {},
   "source": [
    "To control how values are printed, we can use the `str.format` method. Here are some examples."
   ]
  },
  {
   "cell_type": "code",
   "execution_count": 12,
   "metadata": {},
   "outputs": [
    {
     "name": "stdout",
     "output_type": "stream",
     "text": [
      "My name is Zaphod and I am 27 years old\n",
      "The value of π to 3 significant figures is 3.14, and to 5 is 3.1416\n",
      "The value of e to 3 significant figures is 2.72, and to 5 is 2.7183\n"
     ]
    }
   ],
   "source": [
    "print(\"My name is {} and I am {} years old\".format('Zaphod', 27))                                 # values inserted by position\n",
    "print(\"The value of π to 3 significant figures is {p:.3}, and to 5 is {p:.5}\".format(p=math.pi))  # values inserted by name\n",
    "print(f\"The value of e to 3 significant figures is {math.e:.3}, and to 5 is {math.e:.5}\")         # string interpolation (requires Python 3.6)"
   ]
  },
  {
   "cell_type": "markdown",
   "metadata": {},
   "source": [
    "If you do any serious data processing in Python, you will likely find yourself needing [regular expressions](A.%20Data%20import%20and%20cleanup.ipynb#regexp)."
   ]
  },
  {
   "cell_type": "markdown",
   "metadata": {
    "collapsed": true
   },
   "source": [
    "## 1.3 Collection types and control flow<span id=\"program\"></span>"
   ]
  },
  {
   "cell_type": "markdown",
   "metadata": {},
   "source": [
    "### Tuples, lists, and dictionaries<span id=\"collections\"></span>"
   ]
  },
  {
   "cell_type": "markdown",
   "metadata": {},
   "source": [
    "Python has three common types for storing collections of values: tuples, lists, and dictionaries. (Also [two types of set](https://docs.python.org/3/library/stdtypes.html#set-types-set-frozenset) which we won't cover in this course.)\n",
    "\n",
    "In ML and Java we learned about lists _versus_ arrays, and in Algorithms we will study the efficiency of various implementation choices. The Pythonic style is to just go ahead and code, and only worry about efficiency after we have working code. We'll simply use the built-in type for storing sequences, not even bothering whether it should be a list or an array, and we expect it to work reasonably well most of the time. If we have special needs we switch to a dedicated collection type, such as \n",
    "a [deque](https://docs.python.org/3/library/collections.html#collections.deque) or a\n",
    "[heap](https://docs.python.org/3/library/heapq.html) or the specialized numerical types we'll learn about in [&sect;2. Numerical computation](notes2--numerics.ipynb). As the famous computer scientist Donald Knuth said,\n",
    "\n",
    "> Programmers waste enormous amounts of time thinking about, or worrying about, the speed of\n",
    "> noncritical parts of their programs, and these attempts at efficiency actually have a strong\n",
    "> negative impact when debugging and maintenance are considered. We should forget about small\n",
    "> efficiencies, say about 97% of the time: premature optimization is the root of all evil.\n",
    "> Yet we should not pass up our opportunities in that critical 3%."
   ]
  },
  {
   "cell_type": "markdown",
   "metadata": {},
   "source": [
    "Lists and tuples are both ways to store sequences of elements."
   ]
  },
  {
   "cell_type": "code",
   "execution_count": 13,
   "metadata": {},
   "outputs": [
    {
     "name": "stdout",
     "output_type": "stream",
     "text": [
      "a: [1, 2, 'buckle my shoe', 3, 4, 'knock at the door']\n",
      "b: (1, 2, 'buckle my shoe', 3, 4, 'knock at the door')\n",
      "c: 3 3\n",
      "d: 1 2 knock at the door\n",
      "e: buckle my shoe 2\n",
      "f: [[1, 2, 'buckle my shoe'], 'then', (3, 4, 'knock at the door')]\n",
      "g: False True\n"
     ]
    }
   ],
   "source": [
    "a = [1, 2, 'buckle my shoe']      # a list\n",
    "b = (3, 4, 'knock at the door')   # a tuple\n",
    "print('a:', a + list(b))\n",
    "print('b:', tuple(a) + b)\n",
    "print('c:', len(a), len(b))\n",
    "print('d:', a[0], a[1], b[2])     # indexes start at 0\n",
    "print('e:', a[-1], a[-2])         # negative indexes count from the end\n",
    "print('f:', [a, 'then', b])\n",
    "print('g:', 3 in a, 3 in b)"
   ]
  },
  {
   "cell_type": "markdown",
   "metadata": {},
   "source": [
    "As you see, both lists and tuples can hold mixed types, including other lists or tuples. You can convert a list to a tuple and vice versa, and extract elements. The difference between them is that tuples are immutable whereas lists are mutable:"
   ]
  },
  {
   "cell_type": "code",
   "execution_count": 14,
   "metadata": {},
   "outputs": [
    {
     "name": "stdout",
     "output_type": "stream",
     "text": [
      "[5, 2, 'buckle my shoe', 'then', 3, 4, 'knock at the door']\n"
     ]
    },
    {
     "ename": "TypeError",
     "evalue": "'tuple' object does not support item assignment",
     "output_type": "error",
     "traceback": [
      "\u001b[0;31m---------------------------------------------------------------------------\u001b[0m",
      "\u001b[0;31mTypeError\u001b[0m                                 Traceback (most recent call last)",
      "\u001b[0;32m<ipython-input-14-198fb7a8152b>\u001b[0m in \u001b[0;36m<module>\u001b[0;34m()\u001b[0m\n\u001b[1;32m      4\u001b[0m \u001b[0mprint\u001b[0m\u001b[0;34m(\u001b[0m\u001b[0ma\u001b[0m\u001b[0;34m)\u001b[0m\u001b[0;34m\u001b[0m\u001b[0m\n\u001b[1;32m      5\u001b[0m \u001b[0;34m\u001b[0m\u001b[0m\n\u001b[0;32m----> 6\u001b[0;31m \u001b[0mb\u001b[0m\u001b[0;34m[\u001b[0m\u001b[0;36m0\u001b[0m\u001b[0;34m]\u001b[0m \u001b[0;34m=\u001b[0m \u001b[0;36m5\u001b[0m  \u001b[0;31m# error\u001b[0m\u001b[0;34m\u001b[0m\u001b[0m\n\u001b[0m\u001b[1;32m      7\u001b[0m \u001b[0mprint\u001b[0m\u001b[0;34m(\u001b[0m\u001b[0mb\u001b[0m\u001b[0;34m)\u001b[0m\u001b[0;34m\u001b[0m\u001b[0m\n",
      "\u001b[0;31mTypeError\u001b[0m: 'tuple' object does not support item assignment"
     ]
    }
   ],
   "source": [
    "a[0] = 5\n",
    "a.append('then')\n",
    "a.extend(b)\n",
    "print(a)\n",
    "\n",
    "b[0] = 5  # error\n",
    "print(b)"
   ]
  },
  {
   "cell_type": "markdown",
   "metadata": {},
   "source": [
    "<div class=\"alert alert-warning\">**Exercise (ex1).** What is the difference between the two commented lines? Do they give the same result?\n",
    "<pre style=\"background-color:inherit\">\n",
    "a = [1, 2, 'buckle my shoe']\n",
    "b = (a, 3, 4, 'knock at the door')\n",
    "# b[0].append('then')\n",
    "# b[0] = a + ['then']\n",
    "print(a, b)\n",
    "</pre>\n",
    "    \n",
    "Note: For labelled exercises, like this one, you can look up the answer or check your solution. The procedure is described in <a href=\"0.%20About%20this%20course.ipynb#grader\">&sect;0.3 Using the automatic grader</a>, and for this notebook you should use <code style=\"background-color:inherit\">section='notes1'</code>.\n",
    "</div>"
   ]
  },
  {
   "cell_type": "code",
   "execution_count": 3,
   "metadata": {},
   "outputs": [
    {
     "name": "stdout",
     "output_type": "stream",
     "text": [
      "The first line mutates the list referred to by b[0], but it does not change b itself.\n",
      "The second line tries to change b my altering its first element, but b is a tuple, so it cannot be changed.\n"
     ]
    }
   ],
   "source": [
    "q = GRADER.fetch_question('ex1')\n",
    "print(q)"
   ]
  },
  {
   "cell_type": "markdown",
   "metadata": {},
   "source": [
    "<div class=\"alert alert-warning\">**Exercise (ex2).** How do you type in a tuple of length 1? How about a tuple of length 0?</div>"
   ]
  },
  {
   "cell_type": "code",
   "execution_count": 5,
   "metadata": {},
   "outputs": [
    {
     "name": "stdout",
     "output_type": "stream",
     "text": [
      "`(5,)` is a tuple of length 1. `tuple()` is a tuple of length 0. Check this by e.g. `x = tuple(); x.__class__`.\n",
      "Use StackOverflow for questions like this!\n"
     ]
    }
   ],
   "source": [
    "print(GRADER.fetch_question('ex2'))"
   ]
  },
  {
   "cell_type": "markdown",
   "metadata": {},
   "source": [
    "We can pick out subsequences using the _slice_ notation, `x[start:end:sep]`."
   ]
  },
  {
   "cell_type": "code",
   "execution_count": 11,
   "metadata": {
    "scrolled": true
   },
   "outputs": [
    {
     "name": "stdout",
     "output_type": "stream",
     "text": [
      "a: [0, 1, 2, 3, 4, 5, 6, 7, 8, 9]\n",
      "b: [1, 2]\n",
      "c: [0, 1]\n",
      "d: [2, 3, 4, 5, 6, 7, 8, 9]\n",
      "e: [7, 8, 9]\n",
      "f: [0, 1, 2, 3, 4, 5, 6]\n",
      "g: [0, 4, 8]\n"
     ]
    }
   ],
   "source": [
    "x = list(range(10))     # creates a list with 10 elements, starting at 0\n",
    "print('a:', x)\n",
    "print('b:', x[1:3])     # start is inclusive and end is exclusive, so x[1:3] == [x[1],x[2]]\n",
    "print('c:', x[:2])      # first two elements\n",
    "print('d:', x[2:])      # everything after the first two\n",
    "print('e:', x[-3:])     # last three elements \n",
    "print('f:', x[:-3])     # everything prior to the last three\n",
    "print('g:', x[::4])     # every fourth element"
   ]
  },
  {
   "cell_type": "markdown",
   "metadata": {},
   "source": [
    "We can sort a list."
   ]
  },
  {
   "cell_type": "code",
   "execution_count": null,
   "metadata": {
    "collapsed": true
   },
   "outputs": [],
   "source": [
    "names = ['adrian', 'chloe', 'guarav', 'shay', 'alexis', 'rebecca', 'zubin']\n",
    "\n",
    "# The function sorted(list) returns a new list, and doesn't alter the original.\n",
    "print(sorted(names))   \n",
    "print(names)\n",
    "\n",
    "# The method list.sort() sorts the list in-place\n",
    "names.sort()\n",
    "print(names)"
   ]
  },
  {
   "cell_type": "markdown",
   "metadata": {},
   "source": [
    "Another common operation is to concatenate a list of strings. Python's syntax for this is unusual:"
   ]
  },
  {
   "cell_type": "code",
   "execution_count": 6,
   "metadata": {},
   "outputs": [
    {
     "data": {
      "text/plain": [
       "'alpher, bethe, gamovwrote a famous paper on nuclear physics'"
      ]
     },
     "execution_count": 6,
     "metadata": {},
     "output_type": "execute_result"
    }
   ],
   "source": [
    "', '.join(['alpher', 'bethe', 'gamov']) + 'wrote a famous paper on nuclear physics'"
   ]
  },
  {
   "cell_type": "markdown",
   "metadata": {},
   "source": [
    "The other very useful data type is the dictionary."
   ]
  },
  {
   "cell_type": "code",
   "execution_count": 7,
   "metadata": {},
   "outputs": [
    {
     "name": "stdout",
     "output_type": "stream",
     "text": [
      "32\n",
      "{'Adrian': None, 'Laura': 32, 'Guarav': 19}\n",
      "False\n",
      "1\n"
     ]
    }
   ],
   "source": [
    "room_alloc = {'Adrian': None, 'Laura': 32, 'John': 31}\n",
    "room_alloc['Guarav'] = 19\n",
    "print(room_alloc['Laura'])          # get an item\n",
    "del room_alloc['John']              # remove an item\n",
    "print(room_alloc)\n",
    "print('Alexis' in room_alloc)       # does this dictionary contain the key 'Alexis'?\n",
    "print(room_alloc.get('Alexis', 1))  # get room_alloc['Alexis'] if it exists, else default to 1"
   ]
  },
  {
   "cell_type": "markdown",
   "metadata": {},
   "source": [
    "### Control flow<span id=\"control\"></span>"
   ]
  },
  {
   "cell_type": "markdown",
   "metadata": {},
   "source": [
    "Python supports the usual control flow statements: `for`, `while`, `continue`, `break`, `next`, `if`, `else`. Here's an example: suppose we're given a list of room allocations, and we want to find the occupants of each room."
   ]
  },
  {
   "cell_type": "code",
   "execution_count": 8,
   "metadata": {},
   "outputs": [
    {
     "name": "stdout",
     "output_type": "stream",
     "text": [
      "Room 10 has adrian, guarav, rebecca\n",
      "Room 5 has chloe, zubin\n",
      "Room 11 has shay, alexis\n"
     ]
    }
   ],
   "source": [
    "room_alloc = {'adrian': 10, 'chloe': 5, 'guarav': 10, 'shay': 11, \n",
    "              'alexis': 11, 'rebecca': 10, 'zubin': 5}\n",
    "occupants = {}\n",
    "for name, room in room_alloc.items():  # iterate over keys and values\n",
    "    if room not in occupants:\n",
    "        occupants[room] = []\n",
    "    occupants[room].append(name)\n",
    "for room, occupants_here in occupants.items():\n",
    "    ns = ', '.join(occupants_here)\n",
    "    print('Room {r} has {ns}'.format(r=room, ns=ns))"
   ]
  },
  {
   "cell_type": "markdown",
   "metadata": {},
   "source": [
    "The above code iterates over the keys and values in a dictionary. We can also iterate over just the keys (`for name in room_alloc`), or just the values (`for room in room_alloc.values()`).\n",
    "\n",
    "If we have a list, we sometimes want to iterate over items and their positions in the list. We use `enumerate` for this:"
   ]
  },
  {
   "cell_type": "code",
   "execution_count": 9,
   "metadata": {},
   "outputs": [
    {
     "name": "stdout",
     "output_type": "stream",
     "text": [
      "Person adrian is in position 0\n",
      "Person chloe is in position 1\n",
      "Person guarav is in position 2\n",
      "Person shay is in position 3\n",
      "Person alexis is in position 4\n",
      "Person rebecca is in position 5\n",
      "Person zubin is in position 6\n"
     ]
    }
   ],
   "source": [
    "for i, name in enumerate(['adrian', 'chloe', 'guarav', 'shay', 'alexis', 'rebecca', 'zubin']):\n",
    "    print('Person {} is in position {}'.format(name, i))"
   ]
  },
  {
   "cell_type": "markdown",
   "metadata": {},
   "source": [
    "### Comprehensions<span id=\"comprehension\"></span>"
   ]
  },
  {
   "cell_type": "markdown",
   "metadata": {},
   "source": [
    "Python has a distinctive piece of syntax called a [_comprehension_](https://en.wikipedia.org/wiki/List_comprehension) for creating lists. It's a very common pattern to write code that transforms lists, e.g.\n",
    "```\n",
    "mylist = ...    # start with some list\n",
    "newlist = []\n",
    "for i in range(len(mylist)):\n",
    "    x = mylist[i]\n",
    "    if testfunc(x):\n",
    "        newlist.append(mapfunc(x))\n",
    "```\n",
    "This is so common that Python has a special syntax for it:\n",
    "```\n",
    "newlist = [mapfunc(x) for x in mylist if testfunc(x)]\n",
    "```\n",
    "We can also use comprehension to create dictionaries and sets. Here are \n",
    "examples of list comprehension and dictionary comprehension:"
   ]
  },
  {
   "cell_type": "code",
   "execution_count": 10,
   "metadata": {},
   "outputs": [
    {
     "name": "stdout",
     "output_type": "stream",
     "text": [
      "[0, 4, 16, 36, 64]\n",
      "{0: 0, 1: 1, 2: 4, 3: 9, 4: 16, 5: 25, 6: 36, 7: 49, 8: 64, 9: 81}\n"
     ]
    }
   ],
   "source": [
    "xs = range(10)\n",
    "print([x**2 for x in xs if x % 2 == 0])  # create a list, filtered to process only even values\n",
    "print({x: x**2 for x in xs})             # create a dictionary "
   ]
  },
  {
   "cell_type": "markdown",
   "metadata": {},
   "source": [
    "<div class=\"alert alert-warning\">**Exercise (ex3).** If you go overboard with list comprehensions, your code becomes unreadable. What does the following code do?\n",
    "<pre style=\"background-color:inherit\">\n",
    "print('\\n'.join(['Room {} has {}'.format(r, ', '.join(occs))\n",
    "                 for r,occs in rooms.items() if r is not None]))\n",
    "</pre>\n",
    "</div>"
   ]
  },
  {
   "cell_type": "markdown",
   "metadata": {},
   "source": [
    "<div class=\"alert alert-warning\">**Exercise (ex4).** Write a single line of code to sort the names in this list\n",
    "<pre style=\"background-color:inherit\">\n",
    "names = ['adrian', 'chloe', 'guarav', 'shay', 'alexis', 'rebecca', 'zubin']\n",
    "</pre>\n",
    "by length, breaking ties alphabetically, using list comprehension. Hint: make a list of <code style=\"background-color:inherit\">(len(name), name)</code> then sort it,\n",
    "where <code style=\"background-color:inherit\">len(str)</code> gives the length of a string. When\n",
    "Python sorts a list of tuples, it uses <a href=\"https://en.wikipedia.org/wiki/Lexicographical_order\">lexicographic ordering</a>.\n",
    "</div>"
   ]
  },
  {
   "cell_type": "markdown",
   "metadata": {},
   "source": [
    "## 1.4 Functions<span id=\"functions\"></span>"
   ]
  },
  {
   "cell_type": "markdown",
   "metadata": {},
   "source": [
    "The code snippet below shows how we define a function in Python. There are several things to note:\n",
    "* The function is defined with a default argument, `c=0`. You can invoke it by either `roots(2,3,1)` or `roots(2,3)`.\n",
    "* Functions can be called with named arguments, `roots(b=3, a=2)`, in which case they can be provided in any order.\n",
    "\n",
    "In scientific computing, we'll come across many functions that accept 10 or more arguments, all of them with sensible defaults, and typically we'll only specify a few of the arguments."
   ]
  },
  {
   "cell_type": "code",
   "execution_count": 11,
   "metadata": {},
   "outputs": [],
   "source": [
    "import math\n",
    "\n",
    "def roots(a, b, c=0):\n",
    "    \"\"\"Return a list with the real roots of a + b*x + c*(x**2) == 0\"\"\"\n",
    "    if b == 0 and c == 0:\n",
    "        raise Exception(\"This polynomial is constant\")\n",
    "    if c == 0:\n",
    "        return [-a/b]\n",
    "    elif a == 0:\n",
    "        return [0] + roots(b=c, a=b)\n",
    "    else:\n",
    "        discr = b**2 - 4*a*c\n",
    "        if discr < 0:\n",
    "            return []\n",
    "        else:\n",
    "            return [(-b+s*math.sqrt(discr))/2/a for s in [-1,1]]"
   ]
  },
  {
   "cell_type": "code",
   "execution_count": 12,
   "metadata": {},
   "outputs": [],
   "source": [
    "?roots"
   ]
  },
  {
   "cell_type": "markdown",
   "metadata": {},
   "source": [
    "Some more notes:\n",
    "\n",
    "* This function either returns a value, or it throws an exception i.e. generates an error message and finishes. If your function finishes without an explicit `return` statement, it will return `None`. Unlike Java, it's possible for different branches of your function to return values of different types &mdash; at risk to your sanity.\n",
    "* This function returns a single variable, namely a list. If you want to return several variables, return them in a tuple, and unpack the tuple using multiple assignment as shown [above](#eval).\n",
    "* It's conventional to document your function by providing a documentation string as the first line."
   ]
  },
  {
   "cell_type": "markdown",
   "metadata": {},
   "source": [
    "<div class=\"alert alert-warning\">**Exercise.** Execute <code style=\"background-color:inherit\">?roots</code>. What does it tell you? Look at some other functions, e.g.\n",
    "<code style=\"background-color:inherit\">?sorted</code>.\n",
    "</div>"
   ]
  },
  {
   "cell_type": "markdown",
   "metadata": {},
   "source": [
    "We can pass functions as arguments to other functions, and we can use the keyword `lambda` to define so-called _anonymous_ functions. Look back at Exercise 5 in ML, then try this code:"
   ]
  },
  {
   "cell_type": "code",
   "execution_count": 1,
   "metadata": {},
   "outputs": [
    {
     "data": {
      "text/plain": [
       "13"
      ]
     },
     "execution_count": 1,
     "metadata": {},
     "output_type": "execute_result"
    }
   ],
   "source": [
    "def twice(f, x):\n",
    "    return f(f(x))\n",
    "twice(lambda i: i+5, 3)"
   ]
  },
  {
   "cell_type": "markdown",
   "metadata": {},
   "source": [
    "We often use anonymous functions as a way to fill in arguments:"
   ]
  },
  {
   "cell_type": "code",
   "execution_count": 13,
   "metadata": {},
   "outputs": [
    {
     "name": "stdout",
     "output_type": "stream",
     "text": [
      "f(0) = []\n",
      "f(1) = []\n",
      "f(2) = []\n",
      "f(3) = [-2.0, -1.0]\n",
      "f(4) = [-3.414213562373095, -0.5857864376269049]\n"
     ]
    }
   ],
   "source": [
    "def illustrate_func(f, xs):\n",
    "    for x in xs:\n",
    "        print(f'f({x}) = {f(x)}')\n",
    "\n",
    "illustrate_func(lambda b: roots(1,b,2), range(5))"
   ]
  },
  {
   "cell_type": "markdown",
   "metadata": {},
   "source": [
    "# More exercises<span id=\"exercises\"></span>"
   ]
  },
  {
   "cell_type": "markdown",
   "metadata": {},
   "source": [
    "The exercises in this notebook are to give you practice. They are optional, and do not contribute to your final grade. You can check your answers to labelled exercises by \n",
    "following the instructions in [&sect; 0.3 Using the automatic grader](\"0.%20About%20this%20course.ipynb#0.3-Using-the-automatic-grader) with\n",
    "`section='notes1'`."
   ]
  },
  {
   "cell_type": "markdown",
   "metadata": {},
   "source": [
    "**Exercise (ex5).** \n",
    "<a name=\"lindley\"></a>\n",
    "A simple queue can be simulated by the following equations. Let $a_t$ be the queue size just before timestep $t$, let the service rate be $C$, and let $a_t$ be the amount of work arriving in timestep $t$. Then\n",
    "$$\n",
    "q_{t+1} = \\max(q_t + a_t - C, 0).\n",
    "$$\n",
    "This is called Lindley's Recursion.\n",
    "Write a function `sim(q0,C,a)` to compute the queue sizes at every timestep $t\\geq 1$, \n",
    "where `q0` is the initial queue size, and `a` is the list $[a_0, a_1, \\dots]$. For example, \n",
    "> `sim(1, 3, [4, 1, 2, 8, 2, 3, 1])`\n",
    "\n",
    "should produce the answer\n",
    "> `[2, 0, 0, 5, 4, 4, 2]`"
   ]
  },
  {
   "cell_type": "markdown",
   "metadata": {},
   "source": [
    "**Exercise (ex6).**\n",
    "* Calculate the base 10 logarithm of 1200 (answer is 3.079)\n",
    "* Calculate the tangent of 60 degrees (answer is 1.7321)\n",
    "* Calculate the square root of -20 (answer is 0+4.4721i)"
   ]
  },
  {
   "cell_type": "markdown",
   "metadata": {},
   "source": [
    "**Exercise (ex7).**\n",
    "Create the list of lists `[[1],[2],[3],...,[n]]` for `n=10`."
   ]
  }
 ],
 "metadata": {
  "kernelspec": {
   "display_name": "Python 3",
   "language": "python",
   "name": "python3"
  },
  "language_info": {
   "codemirror_mode": {
    "name": "ipython",
    "version": 3
   },
   "file_extension": ".py",
   "mimetype": "text/x-python",
   "name": "python",
   "nbconvert_exporter": "python",
   "pygments_lexer": "ipython3",
   "version": "3.6.3"
  }
 },
 "nbformat": 4,
 "nbformat_minor": 2
}
