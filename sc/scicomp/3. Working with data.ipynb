{
 "cells": [
  {
   "cell_type": "markdown",
   "metadata": {},
   "source": [
    "# 3. Working with data\n",
    "\n",
    "* [**3.0 Preamble**](#preamble)\n",
    "* [**3.1 What data looks like**](#data)\n",
    "* [**3.2 Dataframes**](#dataframe)\n",
    "* [**3.3 Selecting from a dataframe**](#select)\n",
    "* [**3.4 Tabulation and indexed arrays**](#table)\n",
    "* [**3.5 Joining dataframes**](#join)\n",
    "* [**3.6 Extended example**](#example) &hellip;&hellip; [categorical](#categorical), [numerical](#numerical), [date/time](#datetime) variables, [clever joins](#wrangling), [fancy plots](#plotting)"
   ]
  },
  {
   "cell_type": "markdown",
   "metadata": {},
   "source": [
    "<div class=\"alert alert-warning\">\n",
    "**Goal of this notebook:**\n",
    "<ul style=\"margin-top: 0px\">\n",
    "<li>Get used to the standard ways of thinking about data, _data frames_ and _indexed arrays_</li>\n",
    "<li>Learn how to use the <a href=\"http://pandas.pydata.org/\">Pandas</a> library to handle data</li>\n",
    "<li>See some more advanced plotting with <a href=\"https://matplotlib.org/\">matplotlib</a></li>\n",
    "</ul>"
   ]
  },
  {
   "cell_type": "markdown",
   "metadata": {},
   "source": [
    "There are some exercises in this section of notes. They are for you to get practice on: they are optional, and do not contribute to your final grade. You can check your answers to labelled exercises as described in [&sect;0.3](0.%20About%20this%20course.ipynb#grader) using `section='notes3'`."
   ]
  },
  {
   "cell_type": "markdown",
   "metadata": {},
   "source": [
    "# 3.0 Preamble<span id=\"preamble\"><span>\n",
    "\n",
    "At the top of almost every piece of data-oriented scientific computing work, we'll import these standard modules."
   ]
  },
  {
   "cell_type": "code",
   "execution_count": 3,
   "metadata": {},
   "outputs": [],
   "source": [
    "# Import modules, and give them short aliases so we can write e.g. np.foo rather than numpy.foo\n",
    "import numpy as np\n",
    "import pandas\n",
    "import matplotlib\n",
    "import matplotlib.pyplot as plt\n",
    "# The next line is a piece of magic, to let plots appear in our Jupyter notebooks\n",
    "%matplotlib inline "
   ]
  },
  {
   "cell_type": "markdown",
   "metadata": {},
   "source": [
    "The running example for this section is a dataset of stop-and-search records, [made available](https://data.police.uk/data/) by the UK home office. As it's a moderate-sized file (172MB) I like to download it to disk, so it's fast to reread it each time I restart the notebook. Here's how we can fetch a file from a url, using the Unix command-line tool `wget`. (The exclamation mark is called a [_Jupyter magic_](http://ipython.readthedocs.io/en/stable/interactive/magics.html), and it means \"Treat this line as though it were executed at the command prompt\". In IB _Unix Tools_ you'll learn more about the Unix command line.)"
   ]
  },
  {
   "cell_type": "code",
   "execution_count": 4,
   "metadata": {},
   "outputs": [
    {
     "name": "stdout",
     "output_type": "stream",
     "text": [
      "--2017-12-11 18:53:15--  https://teachingfiles.blob.core.windows.net/founds/stop-and-search.csv\n",
      "Loaded CA certificate '/etc/ssl/certs/ca-certificates.crt'\n",
      "Resolving teachingfiles.blob.core.windows.net... 52.174.224.26\n",
      "Connecting to teachingfiles.blob.core.windows.net|52.174.224.26|:443... connected.\n",
      "HTTP request sent, awaiting response... 200 OK\n",
      "Length: 179821411 (171M) [text/csv]\n",
      "Saving to: ‘stop-and-search.csv’\n",
      "\n",
      "stop-and-search.csv 100%[===================>] 171.49M  1.41MB/s    in 2m 21s  \n",
      "\n",
      "2017-12-11 18:55:37 (1.22 MB/s) - ‘stop-and-search.csv’ saved [179821411/179821411]\n",
      "\n"
     ]
    }
   ],
   "source": [
    "# Execute a unix command to download a file (if it's not already downloaded), and show download progress\n",
    "import os.path\n",
    "if os.path.exists('stop-and-search.csv'):\n",
    "    print(\"file already downloaded\")\n",
    "else:\n",
    "    !wget \"https://teachingfiles.blob.core.windows.net/founds/stop-and-search.csv\""
   ]
  },
  {
   "cell_type": "markdown",
   "metadata": {},
   "source": [
    "# 3.1 What data looks like<span id=\"data\"></span>\n",
    "\n",
    "We almost always work with data in the form of a spreadsheet-like table, referred to as a _dataframe_. Here's how to load a dataframe from a file and inspect it. (This dataframe will be used as a running example in the rest of &sect;3.)"
   ]
  },
  {
   "cell_type": "code",
   "execution_count": 5,
   "metadata": {},
   "outputs": [
    {
     "name": "stdout",
     "output_type": "stream",
     "text": [
      "This dataset has 808101 rows\n"
     ]
    },
    {
     "data": {
      "text/html": [
       "<div>\n",
       "<style>\n",
       "    .dataframe thead tr:only-child th {\n",
       "        text-align: right;\n",
       "    }\n",
       "\n",
       "    .dataframe thead th {\n",
       "        text-align: left;\n",
       "    }\n",
       "\n",
       "    .dataframe tbody tr th {\n",
       "        vertical-align: top;\n",
       "    }\n",
       "</style>\n",
       "<table border=\"1\" class=\"dataframe\">\n",
       "  <thead>\n",
       "    <tr style=\"text-align: right;\">\n",
       "      <th></th>\n",
       "      <th>Type</th>\n",
       "      <th>Date</th>\n",
       "      <th>Part of a policing operation</th>\n",
       "      <th>Policing operation</th>\n",
       "      <th>Latitude</th>\n",
       "      <th>Longitude</th>\n",
       "      <th>Gender</th>\n",
       "      <th>Age range</th>\n",
       "      <th>Self-defined ethnicity</th>\n",
       "      <th>Officer-defined ethnicity</th>\n",
       "      <th>Legislation</th>\n",
       "      <th>Object of search</th>\n",
       "      <th>Outcome</th>\n",
       "      <th>Outcome linked to object of search</th>\n",
       "      <th>Removal of more than just outer clothing</th>\n",
       "      <th>year</th>\n",
       "      <th>month</th>\n",
       "      <th>police_force</th>\n",
       "    </tr>\n",
       "  </thead>\n",
       "  <tbody>\n",
       "    <tr>\n",
       "      <th>0</th>\n",
       "      <td>Person search</td>\n",
       "      <td>2014-07-31T23:20:00+00:00</td>\n",
       "      <td>NaN</td>\n",
       "      <td>NaN</td>\n",
       "      <td>50.938234</td>\n",
       "      <td>-1.388559</td>\n",
       "      <td>Male</td>\n",
       "      <td>25-34</td>\n",
       "      <td>Asian or Asian British - Pakistani (A2)</td>\n",
       "      <td>Asian</td>\n",
       "      <td>Misuse of Drugs Act 1971 (section 23)</td>\n",
       "      <td>Controlled drugs</td>\n",
       "      <td>Nothing found - no further action</td>\n",
       "      <td>NaN</td>\n",
       "      <td>NaN</td>\n",
       "      <td>2014</td>\n",
       "      <td>8</td>\n",
       "      <td>hampshire</td>\n",
       "    </tr>\n",
       "    <tr>\n",
       "      <th>1</th>\n",
       "      <td>Person search</td>\n",
       "      <td>2014-07-31T23:30:00+00:00</td>\n",
       "      <td>NaN</td>\n",
       "      <td>NaN</td>\n",
       "      <td>50.912978</td>\n",
       "      <td>-1.431990</td>\n",
       "      <td>Male</td>\n",
       "      <td>over 34</td>\n",
       "      <td>White - White British (W1)</td>\n",
       "      <td>White</td>\n",
       "      <td>Misuse of Drugs Act 1971 (section 23)</td>\n",
       "      <td>Controlled drugs</td>\n",
       "      <td>Suspect summonsed to court</td>\n",
       "      <td>NaN</td>\n",
       "      <td>NaN</td>\n",
       "      <td>2014</td>\n",
       "      <td>8</td>\n",
       "      <td>hampshire</td>\n",
       "    </tr>\n",
       "    <tr>\n",
       "      <th>2</th>\n",
       "      <td>Person search</td>\n",
       "      <td>2014-07-31T23:45:00+00:00</td>\n",
       "      <td>NaN</td>\n",
       "      <td>NaN</td>\n",
       "      <td>51.005612</td>\n",
       "      <td>-1.497576</td>\n",
       "      <td>Male</td>\n",
       "      <td>10-17</td>\n",
       "      <td>White - White British (W1)</td>\n",
       "      <td>White</td>\n",
       "      <td>Misuse of Drugs Act 1971 (section 23)</td>\n",
       "      <td>Controlled drugs</td>\n",
       "      <td>Nothing found - no further action</td>\n",
       "      <td>NaN</td>\n",
       "      <td>NaN</td>\n",
       "      <td>2014</td>\n",
       "      <td>8</td>\n",
       "      <td>hampshire</td>\n",
       "    </tr>\n",
       "  </tbody>\n",
       "</table>\n",
       "</div>"
      ],
      "text/plain": [
       "            Type                       Date Part of a policing operation  \\\n",
       "0  Person search  2014-07-31T23:20:00+00:00                          NaN   \n",
       "1  Person search  2014-07-31T23:30:00+00:00                          NaN   \n",
       "2  Person search  2014-07-31T23:45:00+00:00                          NaN   \n",
       "\n",
       "   Policing operation   Latitude  Longitude Gender Age range  \\\n",
       "0                 NaN  50.938234  -1.388559   Male     25-34   \n",
       "1                 NaN  50.912978  -1.431990   Male   over 34   \n",
       "2                 NaN  51.005612  -1.497576   Male     10-17   \n",
       "\n",
       "                    Self-defined ethnicity Officer-defined ethnicity  \\\n",
       "0  Asian or Asian British - Pakistani (A2)                     Asian   \n",
       "1               White - White British (W1)                     White   \n",
       "2               White - White British (W1)                     White   \n",
       "\n",
       "                             Legislation  Object of search  \\\n",
       "0  Misuse of Drugs Act 1971 (section 23)  Controlled drugs   \n",
       "1  Misuse of Drugs Act 1971 (section 23)  Controlled drugs   \n",
       "2  Misuse of Drugs Act 1971 (section 23)  Controlled drugs   \n",
       "\n",
       "                             Outcome Outcome linked to object of search  \\\n",
       "0  Nothing found - no further action                                NaN   \n",
       "1         Suspect summonsed to court                                NaN   \n",
       "2  Nothing found - no further action                                NaN   \n",
       "\n",
       "  Removal of more than just outer clothing  year  month police_force  \n",
       "0                                      NaN  2014      8    hampshire  \n",
       "1                                      NaN  2014      8    hampshire  \n",
       "2                                      NaN  2014      8    hampshire  "
      ]
     },
     "execution_count": 5,
     "metadata": {},
     "output_type": "execute_result"
    }
   ],
   "source": [
    "# Import a dataframe using the pandas library\n",
    "stopsearch = pandas.read_csv('stop-and-search.csv')\n",
    "\n",
    "# How many rows are there?\n",
    "print(\"This dataset has\", len(stopsearch), \"rows\")\n",
    "# Display the first 3 rows. iloc[:3] means \"select the first three rows\"\n",
    "stopsearch.iloc[:3]"
   ]
  },
  {
   "cell_type": "markdown",
   "metadata": {},
   "source": [
    "A dataframe is a collection of named columns. Each column has the same length, and all entries in a column have the same type, though different columns may have different types. If you have taken IA/IB _Databases_, you'll see that dataframes are similar to tables in a relational database. There are some differences:\n",
    "\n",
    "* Scientific data is best thought of as logs of observations. Observed facts cannot be unobserved, so UPDATE and DELETE database operations are irrelevant, as are questions about database consistency.\n",
    "* A dataframe has ordered rows, like an array, whereas a database table is unordered.\n",
    "* We are often given messy badly structured data to work with; and we often create dataframes on the fly, work with them for a little while, then discard them. There is rarely a phase of entity-relationship modeling: instead we learn how to think about a dataset by working with it."
   ]
  },
  {
   "cell_type": "markdown",
   "metadata": {},
   "source": [
    "In Python, there are several choices about how to represent dataframes. A simple choice is as a dictionary of lists:\n",
    "```\n",
    "mydata = {'police_force': ['hampshire', 'hampshire', 'hampshire', ...],\n",
    "          'Age range': ['25-34', 'over 34', '10-17', ...],\n",
    "          'year': [2014, 2014, 2014, ...],\n",
    "          ...}\n",
    "```\n",
    "We won't use this representation. Instead we'll use the [Pandas](http://pandas.pydata.org/) library, designed specifically for working with data. It has several benefits:\n",
    "\n",
    "* Data import and export has lots of fiddly corner cases. Even printing a dataframe takes a surprisingly large amount of code to do well.\n",
    "* For fast numerical computation and concise code, `numpy` is best as we saw in [&sect;2](2.%20Numerical%20computation.ipynb). Pandas stores dataframe columns as `numpy` vectors.\n",
    "* Some simple operations, like selecting a subset of rows, takes a lot of boilerplate code if implemented in pure Python. Much better to use a Pandas dataframe, which lets us write e.g. `stopsearch.iloc[:3]` to select some entries from each column, without our even having to think about iterating over columns.\n",
    "\n",
    "It has the disadvantage of being yet another library to learn. It also has some idiosyncratic notation for indexing, which in my experience can lead to\n",
    "rather cryptic error messages when plotting, and which will be discussed in [&sect;3.2](#indexing). It has poor support for missing values in data, which it inherits from `numpy`. Despite these problems, it's the best choice at this stage in Python's evolution."
   ]
  },
  {
   "cell_type": "markdown",
   "metadata": {},
   "source": [
    "# 3.2 Importing, exporting, and creating dataframes<span id=\"dataframe\"></span>"
   ]
  },
  {
   "cell_type": "markdown",
   "metadata": {},
   "source": [
    "It's very easy to import data from a simple comma-separated value (CSV) file. A CSV file looks like this:\n",
    "\n",
    ">```\n",
    ">\"Sepal.Length\",\"Sepal.Width\",\"Petal.Length\",\"Petal.Width\",\"Species\"\n",
    ">5.1,3.5,1.4,0.2,\"setosa\"\n",
    ">4.9,3,1.4,0.2,\"setosa\"\n",
    ">4.7,3.2,1.3,0.2,\"setosa\"\n",
    ">4.6,3.1,1.5,0.2,\"setosa\"\n",
    ">5,3.6,1.4,0.2,\"setosa\"\n",
    ">```\n",
    "\n",
    "i.e. a header line, then one line per row of the data frame, with values separated by commas.\n",
    "We've already seen how to import a CSV, using [`pandas.read_csv`](https://pandas.pydata.org/pandas-docs/stable/generated/pandas.read_csv.html).\n",
    "If your file is nearly a CSV but has some quirks such as comments or a missing header row, experiment with the 55 options in [`pandas.read_csv`](https://pandas.pydata.org/pandas-docs/stable/generated/pandas.read_csv.html).\n",
    "We can use the same function to read CSV files from remote urls (though if you're using Azure Notebooks, be aware that Azure only permits you to connect to Azure web servers.)"
   ]
  },
  {
   "cell_type": "code",
   "execution_count": 4,
   "metadata": {},
   "outputs": [],
   "source": [
    "import urllib.request  # standard Python library for url requests\n",
    "iris = pandas.read_csv(urllib.request.urlopen('https://teachingfiles.blob.core.windows.net/scicomp/iris.csv'))"
   ]
  },
  {
   "cell_type": "markdown",
   "metadata": {},
   "source": [
    "In my experience, around 70% of the time you spend working with data will be fighting to import it and clean it up. See\n",
    "[&sect;A3](A3.%20Data%20import%20and%20cleanup.ipynb) for a collection of recipes for web scraping, reading from a database, and parsing log files."
   ]
  },
  {
   "cell_type": "markdown",
   "metadata": {},
   "source": [
    "To write a CSV file,\n",
    "```\n",
    "iris.to_csv('iris.csv', index=False)\n",
    "```\n",
    "If you're running this notebook with Azure Notebooks, you would then use the `Data | Download` menu to download the file from Azure Notebooks to your local machine."
   ]
  },
  {
   "cell_type": "markdown",
   "metadata": {},
   "source": [
    "To create a dataframe from scratch, pass in a dictionary of columns. Python dictionaries are unordered, so you can optionally specify the column order you want with the `columns` argument."
   ]
  },
  {
   "cell_type": "code",
   "execution_count": 5,
   "metadata": {},
   "outputs": [],
   "source": [
    "iris = pandas.DataFrame({'species': ['setosa', 'virginica', 'virginica', 'setosa', 'versicolor'],\n",
    "                         'Petal.length': [1.0, 5.0, 5.8, 1.7, 4.2],\n",
    "                         'Petal.width': [0.2, 1.9, 1.6, 0.5, 1.2]},\n",
    "                        columns = ['species', 'Petal.length', 'Petal.width'])"
   ]
  },
  {
   "cell_type": "markdown",
   "metadata": {},
   "source": [
    "Or you can create a dataframe from a list of tuples. Now the `columns` argument is needed to say what the column names are."
   ]
  },
  {
   "cell_type": "code",
   "execution_count": 6,
   "metadata": {},
   "outputs": [],
   "source": [
    "iris = pandas.DataFrame([('setosa', 1.0, 0.2), ('virginica', 5.0, 1.9), ('virginica', 5.8, 1.6),\n",
    "                         ('setosa', 1.7, 0.5), ('versicolor', 4.2, 1.2)],\n",
    "                        columns = ['species', 'Petal.length', 'Petal.width'])"
   ]
  },
  {
   "cell_type": "markdown",
   "metadata": {},
   "source": [
    "A dataframe behaves like a dictionary of vectors, and you can add and remove columns using the same syntax you'd use for dictionaries. When you add new columns, Pandas converts them to `numpy` vectors for you, so you can use the usual `numpy` operations. (The columns aren't actually plain `numpy` vectors, as [&sect;3.3](#indexing) explains, and the difference will bite you whenever you try to subset a column.)"
   ]
  },
  {
   "cell_type": "code",
   "execution_count": 7,
   "metadata": {},
   "outputs": [
    {
     "data": {
      "text/html": [
       "<div>\n",
       "<style>\n",
       "    .dataframe thead tr:only-child th {\n",
       "        text-align: right;\n",
       "    }\n",
       "\n",
       "    .dataframe thead th {\n",
       "        text-align: left;\n",
       "    }\n",
       "\n",
       "    .dataframe tbody tr th {\n",
       "        vertical-align: top;\n",
       "    }\n",
       "</style>\n",
       "<table border=\"1\" class=\"dataframe\">\n",
       "  <thead>\n",
       "    <tr style=\"text-align: right;\">\n",
       "      <th></th>\n",
       "      <th>species</th>\n",
       "      <th>Petal.length</th>\n",
       "      <th>Sepal.length</th>\n",
       "      <th>P/S</th>\n",
       "    </tr>\n",
       "  </thead>\n",
       "  <tbody>\n",
       "    <tr>\n",
       "      <th>0</th>\n",
       "      <td>setosa</td>\n",
       "      <td>1.0</td>\n",
       "      <td>4.6</td>\n",
       "      <td>0.217391</td>\n",
       "    </tr>\n",
       "    <tr>\n",
       "      <th>1</th>\n",
       "      <td>virginica</td>\n",
       "      <td>5.0</td>\n",
       "      <td>6.3</td>\n",
       "      <td>0.793651</td>\n",
       "    </tr>\n",
       "    <tr>\n",
       "      <th>2</th>\n",
       "      <td>virginica</td>\n",
       "      <td>5.8</td>\n",
       "      <td>7.2</td>\n",
       "      <td>0.805556</td>\n",
       "    </tr>\n",
       "    <tr>\n",
       "      <th>3</th>\n",
       "      <td>setosa</td>\n",
       "      <td>1.7</td>\n",
       "      <td>5.1</td>\n",
       "      <td>0.333333</td>\n",
       "    </tr>\n",
       "    <tr>\n",
       "      <th>4</th>\n",
       "      <td>versicolor</td>\n",
       "      <td>4.2</td>\n",
       "      <td>5.7</td>\n",
       "      <td>0.736842</td>\n",
       "    </tr>\n",
       "  </tbody>\n",
       "</table>\n",
       "</div>"
      ],
      "text/plain": [
       "      species  Petal.length  Sepal.length       P/S\n",
       "0      setosa           1.0           4.6  0.217391\n",
       "1   virginica           5.0           6.3  0.793651\n",
       "2   virginica           5.8           7.2  0.805556\n",
       "3      setosa           1.7           5.1  0.333333\n",
       "4  versicolor           4.2           5.7  0.736842"
      ]
     },
     "execution_count": 7,
     "metadata": {},
     "output_type": "execute_result"
    }
   ],
   "source": [
    "iris.keys()                                                # what column names are present?\n",
    "iris['Sepal.length'] = [4.6, 6.3, 7.2, 5.1, 5.7]           # add a column\n",
    "if 'Petal.width' in iris: del iris['Petal.width']          # delete a column (if present)\n",
    "iris['P/S'] = iris['Petal.length'] / iris['Sepal.length']  # vectorized whole-column operation\n",
    "iris"
   ]
  },
  {
   "cell_type": "markdown",
   "metadata": {},
   "source": [
    "To modify an entry in a dataframe, I prefer to \"think vectorized\" and replace the entire column, e.g.\n",
    "```\n",
    "iris['Petal.length'] = np.where(np.arange(5)==0, 100, iris['Petal.length'])\n",
    "```\n",
    "If we modify only some of the rows of a dataframe, then (depending how exactly we do it) Pandas will tell us off, warning us that the operation may be inefficient."
   ]
  },
  {
   "cell_type": "code",
   "execution_count": 16,
   "metadata": {},
   "outputs": [
    {
     "name": "stderr",
     "output_type": "stream",
     "text": [
      "/home/djw/.local/lib/python3.6/site-packages/ipykernel_launcher.py:1: SettingWithCopyWarning: \n",
      "A value is trying to be set on a copy of a slice from a DataFrame\n",
      "\n",
      "See the caveats in the documentation: http://pandas.pydata.org/pandas-docs/stable/indexing.html#indexing-view-versus-copy\n",
      "  \"\"\"Entry point for launching an IPython kernel.\n"
     ]
    }
   ],
   "source": [
    "iris['Petal.length'][0] = 200"
   ]
  },
  {
   "cell_type": "markdown",
   "metadata": {},
   "source": [
    "# 3.3 Selecting from a dataframe<span id=\"select\"></span>\n",
    "Dataframes have a triple identity: part array, part database table, part dictionary. Because of this, there are several ways to select subsets of rows and columns.\n",
    "\n",
    "Selecting columns is easy. We've already seen how to select one column. To select several columns,"
   ]
  },
  {
   "cell_type": "code",
   "execution_count": 8,
   "metadata": {},
   "outputs": [
    {
     "data": {
      "text/html": [
       "<div>\n",
       "<style>\n",
       "    .dataframe thead tr:only-child th {\n",
       "        text-align: right;\n",
       "    }\n",
       "\n",
       "    .dataframe thead th {\n",
       "        text-align: left;\n",
       "    }\n",
       "\n",
       "    .dataframe tbody tr th {\n",
       "        vertical-align: top;\n",
       "    }\n",
       "</style>\n",
       "<table border=\"1\" class=\"dataframe\">\n",
       "  <thead>\n",
       "    <tr style=\"text-align: right;\">\n",
       "      <th></th>\n",
       "      <th>Date</th>\n",
       "      <th>Object of search</th>\n",
       "      <th>Legislation</th>\n",
       "    </tr>\n",
       "  </thead>\n",
       "  <tbody>\n",
       "    <tr>\n",
       "      <th>0</th>\n",
       "      <td>2014-07-31T23:20:00+00:00</td>\n",
       "      <td>Controlled drugs</td>\n",
       "      <td>Misuse of Drugs Act 1971 (section 23)</td>\n",
       "    </tr>\n",
       "    <tr>\n",
       "      <th>1</th>\n",
       "      <td>2014-07-31T23:30:00+00:00</td>\n",
       "      <td>Controlled drugs</td>\n",
       "      <td>Misuse of Drugs Act 1971 (section 23)</td>\n",
       "    </tr>\n",
       "    <tr>\n",
       "      <th>2</th>\n",
       "      <td>2014-07-31T23:45:00+00:00</td>\n",
       "      <td>Controlled drugs</td>\n",
       "      <td>Misuse of Drugs Act 1971 (section 23)</td>\n",
       "    </tr>\n",
       "    <tr>\n",
       "      <th>3</th>\n",
       "      <td>2014-08-01T00:40:00+00:00</td>\n",
       "      <td>Stolen goods</td>\n",
       "      <td>Police and Criminal Evidence Act 1984 (section 1)</td>\n",
       "    </tr>\n",
       "    <tr>\n",
       "      <th>4</th>\n",
       "      <td>2014-08-01T02:05:00+00:00</td>\n",
       "      <td>Article for use in theft</td>\n",
       "      <td>Police and Criminal Evidence Act 1984 (section 1)</td>\n",
       "    </tr>\n",
       "  </tbody>\n",
       "</table>\n",
       "</div>"
      ],
      "text/plain": [
       "                        Date          Object of search  \\\n",
       "0  2014-07-31T23:20:00+00:00          Controlled drugs   \n",
       "1  2014-07-31T23:30:00+00:00          Controlled drugs   \n",
       "2  2014-07-31T23:45:00+00:00          Controlled drugs   \n",
       "3  2014-08-01T00:40:00+00:00              Stolen goods   \n",
       "4  2014-08-01T02:05:00+00:00  Article for use in theft   \n",
       "\n",
       "                                         Legislation  \n",
       "0              Misuse of Drugs Act 1971 (section 23)  \n",
       "1              Misuse of Drugs Act 1971 (section 23)  \n",
       "2              Misuse of Drugs Act 1971 (section 23)  \n",
       "3  Police and Criminal Evidence Act 1984 (section 1)  \n",
       "4  Police and Criminal Evidence Act 1984 (section 1)  "
      ]
     },
     "execution_count": 8,
     "metadata": {},
     "output_type": "execute_result"
    }
   ],
   "source": [
    "# Select three columns, and print out the first 5 rows of the resulting dataframe\n",
    "stopsearch[['Date', 'Object of search', 'Legislation']].iloc[:5]"
   ]
  },
  {
   "cell_type": "markdown",
   "metadata": {},
   "source": [
    "To select subsets of rows by row number use `.iloc[row_indexes]`. This can take any slice or list of integers."
   ]
  },
  {
   "cell_type": "code",
   "execution_count": null,
   "metadata": {},
   "outputs": [],
   "source": [
    "stopsearch.iloc[:3]       # the first 3 rows; stopsearch[:3] is an abbreviation for this\n",
    "stopsearch.iloc[[0,3,5]]  # select several rows, by providing a list of row numbers\n",
    "stopsearch.iloc[[5]]      # select a dataframe object consisting of just one row\n",
    "stopsearch.iloc[:3][['Date', 'Object of search']]  #first a row selector, then a column selector"
   ]
  },
  {
   "cell_type": "markdown",
   "metadata": {},
   "source": [
    "To select subsets of rows by a boolean vector use `.loc[rows_indicator]` where `rows_indicator` is a boolean vector as long as the dataframe. You can optionally also specify a list of columns to select."
   ]
  },
  {
   "cell_type": "code",
   "execution_count": null,
   "metadata": {},
   "outputs": [],
   "source": [
    "wantcols = ['Date', 'Object of search', 'Outcome']\n",
    "wantrows = stopsearch['police_force'] == 'cambridgeshire'  # a boolean vector\n",
    "stopsearch.loc[wantrows, wantcols][:3]"
   ]
  },
  {
   "cell_type": "markdown",
   "metadata": {},
   "source": [
    "There is a third way to select rows from a dataframe, which in my experience is the source of endless confusion: selecting by row index.\n",
    "\n",
    "When you see a Pandas dataframe printed out, there is a column at the left printed in bold. These aren't row numbers, they are _row indexes_, which behave like the keys in a dictionary. In all the examples we've seen so far the indexes happen to be numbers, but they could be any other Python object. Pandas remembers row indexes, even when you pull out a single column, and it always tries to match indexes. This is usually not what we want.\n",
    "I recommend that you \n",
    "**always use <code style=\"background-color:red; color:white\">.values</code> when you are working with subsets of rows.**\n",
    "This gives you the actual `numpy` vector behind the column, not the confusing Pandas vector-plus-index object.\n",
    "\n",
    "We won't be using row indexes in this course, but it's worth knowing they exist so you can understand the cryptic errors and error messages you will undoubtedly come across."
   ]
  },
  {
   "cell_type": "code",
   "execution_count": null,
   "metadata": {},
   "outputs": [],
   "source": [
    "df = pandas.DataFrame({'x': [3,3,4,8,2,7,6]})\n",
    "\n",
    "# This looks like it's adding [3,3,4,8] and [8,2,7,6] -- but it's not!\n",
    "df['x'][:4] + df['x'][-4:]\n",
    "\n",
    "# This is the way to do it\n",
    "df['x'][:4].values + df['x'][-4:].values"
   ]
  },
  {
   "cell_type": "markdown",
   "metadata": {},
   "source": [
    "# 3.4 Tabulations and indexed arrays<span id=\"table\"></span>\n",
    "The pattern behind much data processing is split-apply-combine-join: split your data into pieces, apply a transformation to each piece, combine the pieces, and join results from different datasets together. We could code this explicitly with a `for` loop, but it would involve lots of boilerplate code &mdash; and I hope you have been persuaded by [&sect;2](2.%20Numerical%20computation.ipynb) that `for` loops are considered harmful. Instead, let's see how to do it with Pandas.\n",
    "\n",
    "The following line of code performs a cross-tabulation: it splits the data into a separate dataframe for each combination of officer-defined ethnicity and gender, applies the `len` function to each sub-dataframe to get the number of rows it contains, and combines the results into a single indexed object. "
   ]
  },
  {
   "cell_type": "code",
   "execution_count": 18,
   "metadata": {},
   "outputs": [
    {
     "data": {
      "text/plain": [
       "Officer-defined ethnicity  Gender\n",
       "Asian                      Female      2230\n",
       "                           Male       72458\n",
       "                           Other         85\n",
       "Black                      Female      7497\n",
       "                           Male      151988\n",
       "                           Other        189\n",
       "Mixed                      Female        22\n",
       "                           Male         327\n",
       "Other                      Female       974\n",
       "                           Male       16221\n",
       "                           Other        147\n",
       "White                      Female     47947\n",
       "                           Male      414428\n",
       "                           Other        986\n",
       "dtype: int64"
      ]
     },
     "execution_count": 18,
     "metadata": {},
     "output_type": "execute_result"
    }
   ],
   "source": [
    "x = stopsearch.groupby(['Officer-defined ethnicity', 'Gender']).apply(len)\n",
    "x"
   ]
  },
  {
   "cell_type": "markdown",
   "metadata": {},
   "source": [
    "* If you have a function you want to apply to only one column, use `dataframe.groupby(...)[colname].apply(fun)`.\n",
    "* For this course, we will only `apply` functions that return simple Python values. It's [more complicated](http://pandas.pydata.org/pandas-docs/stable/groupby.html) to apply functions that return dataframes or Pandas columns or indexed arrays."
   ]
  },
  {
   "cell_type": "markdown",
   "metadata": {},
   "source": [
    "The groupby/apply command has produced an _indexed array_.\n",
    "An indexed array is a cross between a normal numpy array and a dataframe. We access elements and sub-arrays by dimension, like a numpy array &mdash; but we use `.loc[]` and the indexes aren't integer positions, they're values from the underlying column. Also, the array might be 'incomplete', as in the example above which has no entry for `['Mixed','Other']`."
   ]
  },
  {
   "cell_type": "code",
   "execution_count": null,
   "metadata": {},
   "outputs": [],
   "source": [
    "x.loc['Asian']               # select a sub-array indexed just by Gender\n",
    "x.loc[:, 'Other']            # select a sub-array indexed by Ethnicity (all levels)\n",
    "x.loc[['Mixed','White']]     # select a sub-array indexed by Ethnicity (two levels) and Gender (all levels)\n",
    "# The index labels can be accessed with  x.index.levels[0].values and x.index.levels[1].values"
   ]
  },
  {
   "cell_type": "markdown",
   "metadata": {},
   "source": [
    "To pretty-print an indexed array, use [`unstack()`](https://pandas.pydata.org/pandas-docs/stable/generated/pandas.Series.unstack.html). It will by default fill in any missing values with `NaN` (not a number), and you can override this with `fill_value`."
   ]
  },
  {
   "cell_type": "code",
   "execution_count": 74,
   "metadata": {},
   "outputs": [
    {
     "data": {
      "text/html": [
       "<div>\n",
       "<style>\n",
       "    .dataframe thead tr:only-child th {\n",
       "        text-align: right;\n",
       "    }\n",
       "\n",
       "    .dataframe thead th {\n",
       "        text-align: left;\n",
       "    }\n",
       "\n",
       "    .dataframe tbody tr th {\n",
       "        vertical-align: top;\n",
       "    }\n",
       "</style>\n",
       "<table border=\"1\" class=\"dataframe\">\n",
       "  <thead>\n",
       "    <tr style=\"text-align: right;\">\n",
       "      <th>Gender</th>\n",
       "      <th>Female</th>\n",
       "      <th>Male</th>\n",
       "      <th>Other</th>\n",
       "    </tr>\n",
       "    <tr>\n",
       "      <th>Officer-defined ethnicity</th>\n",
       "      <th></th>\n",
       "      <th></th>\n",
       "      <th></th>\n",
       "    </tr>\n",
       "  </thead>\n",
       "  <tbody>\n",
       "    <tr>\n",
       "      <th>Mixed</th>\n",
       "      <td>22</td>\n",
       "      <td>327</td>\n",
       "      <td>0</td>\n",
       "    </tr>\n",
       "    <tr>\n",
       "      <th>White</th>\n",
       "      <td>47947</td>\n",
       "      <td>414428</td>\n",
       "      <td>986</td>\n",
       "    </tr>\n",
       "  </tbody>\n",
       "</table>\n",
       "</div>"
      ],
      "text/plain": [
       "Gender                     Female    Male  Other\n",
       "Officer-defined ethnicity                       \n",
       "Mixed                          22     327      0\n",
       "White                       47947  414428    986"
      ]
     },
     "execution_count": 74,
     "metadata": {},
     "output_type": "execute_result"
    }
   ],
   "source": [
    "x[['Mixed','White']].unstack(fill_value=0)"
   ]
  },
  {
   "cell_type": "markdown",
   "metadata": {},
   "source": [
    "When you first start working with data, I recommend you do all your calculations on dataframes rather than indexed arrays. If you want to do calculations on an indexed array, first turn it into a dataframe. There are two ways to do this, depending on whether you want it _long form_ or _wide form_."
   ]
  },
  {
   "cell_type": "code",
   "execution_count": 75,
   "metadata": {},
   "outputs": [
    {
     "data": {
      "text/html": [
       "<div>\n",
       "<style>\n",
       "    .dataframe thead tr:only-child th {\n",
       "        text-align: right;\n",
       "    }\n",
       "\n",
       "    .dataframe thead th {\n",
       "        text-align: left;\n",
       "    }\n",
       "\n",
       "    .dataframe tbody tr th {\n",
       "        vertical-align: top;\n",
       "    }\n",
       "</style>\n",
       "<table border=\"1\" class=\"dataframe\">\n",
       "  <thead>\n",
       "    <tr style=\"text-align: right;\">\n",
       "      <th></th>\n",
       "      <th>Officer-defined ethnicity</th>\n",
       "      <th>Gender</th>\n",
       "      <th>0</th>\n",
       "    </tr>\n",
       "  </thead>\n",
       "  <tbody>\n",
       "    <tr>\n",
       "      <th>0</th>\n",
       "      <td>Mixed</td>\n",
       "      <td>Female</td>\n",
       "      <td>22</td>\n",
       "    </tr>\n",
       "    <tr>\n",
       "      <th>1</th>\n",
       "      <td>Mixed</td>\n",
       "      <td>Male</td>\n",
       "      <td>327</td>\n",
       "    </tr>\n",
       "    <tr>\n",
       "      <th>2</th>\n",
       "      <td>White</td>\n",
       "      <td>Female</td>\n",
       "      <td>47947</td>\n",
       "    </tr>\n",
       "    <tr>\n",
       "      <th>3</th>\n",
       "      <td>White</td>\n",
       "      <td>Male</td>\n",
       "      <td>414428</td>\n",
       "    </tr>\n",
       "    <tr>\n",
       "      <th>4</th>\n",
       "      <td>White</td>\n",
       "      <td>Other</td>\n",
       "      <td>986</td>\n",
       "    </tr>\n",
       "  </tbody>\n",
       "</table>\n",
       "</div>"
      ],
      "text/plain": [
       "  Officer-defined ethnicity  Gender       0\n",
       "0                     Mixed  Female      22\n",
       "1                     Mixed    Male     327\n",
       "2                     White  Female   47947\n",
       "3                     White    Male  414428\n",
       "4                     White   Other     986"
      ]
     },
     "execution_count": 75,
     "metadata": {},
     "output_type": "execute_result"
    }
   ],
   "source": [
    "# Convert an indexed array into a long-form dataframe \n",
    "x[['Mixed','White']].reset_index()"
   ]
  },
  {
   "cell_type": "code",
   "execution_count": 76,
   "metadata": {},
   "outputs": [
    {
     "data": {
      "text/html": [
       "<div>\n",
       "<style>\n",
       "    .dataframe thead tr:only-child th {\n",
       "        text-align: right;\n",
       "    }\n",
       "\n",
       "    .dataframe thead th {\n",
       "        text-align: left;\n",
       "    }\n",
       "\n",
       "    .dataframe tbody tr th {\n",
       "        vertical-align: top;\n",
       "    }\n",
       "</style>\n",
       "<table border=\"1\" class=\"dataframe\">\n",
       "  <thead>\n",
       "    <tr style=\"text-align: right;\">\n",
       "      <th></th>\n",
       "      <th>Officer-defined ethnicity</th>\n",
       "      <th>Female</th>\n",
       "      <th>Male</th>\n",
       "      <th>Other</th>\n",
       "    </tr>\n",
       "  </thead>\n",
       "  <tbody>\n",
       "    <tr>\n",
       "      <th>0</th>\n",
       "      <td>Mixed</td>\n",
       "      <td>22</td>\n",
       "      <td>327</td>\n",
       "      <td>0</td>\n",
       "    </tr>\n",
       "    <tr>\n",
       "      <th>1</th>\n",
       "      <td>White</td>\n",
       "      <td>47947</td>\n",
       "      <td>414428</td>\n",
       "      <td>986</td>\n",
       "    </tr>\n",
       "  </tbody>\n",
       "</table>\n",
       "</div>"
      ],
      "text/plain": [
       "  Officer-defined ethnicity  Female    Male  Other\n",
       "0                     Mixed      22     327      0\n",
       "1                     White   47947  414428    986"
      ]
     },
     "execution_count": 76,
     "metadata": {},
     "output_type": "execute_result"
    }
   ],
   "source": [
    "# Convert an indexed array into a wide-form dataframe. See note below about rename_axis\n",
    "x[['Mixed','White']].unstack(fill_value=0).reset_index().rename_axis(None, axis=1)"
   ]
  },
  {
   "cell_type": "markdown",
   "metadata": {},
   "source": [
    "As you get deeper into working with data, you'll discover that the skill in working with data is knowing which representation works best for your task, dataframe or indexed array. Also,\n",
    "\n",
    "* Pandas blurs the boundary between dataframes and indexed arrays\n",
    "* Both rows and columns can have hierarchical indexes, called  [multi-indexes](https://pandas.pydata.org/pandas-docs/stable/advanced.html)\n",
    "* For clever tricks with higher-dimensional indexed arrays, read the documentation for [`unstack`](https://pandas.pydata.org/pandas-docs/stable/generated/pandas.DataFrame.unstack.html) and [`rename_axis`](https://pandas.pydata.org/pandas-docs/stable/generated/pandas.DataFrame.rename_axis.html)\n",
    "* When you read the documentation or look for help, please note that \n",
    "what I'm calling an indexed array, Pandas calls a [`Series`](https://pandas.pydata.org/pandas-docs/stable/generated/pandas.Series.html)."
   ]
  },
  {
   "cell_type": "markdown",
   "metadata": {},
   "source": [
    "<div class=\"alert alert-warning\">**Exercise (ex1).**\n",
    "Here is a function for finding the most frequent value in a vector:\n",
    "<pre style=\"background-color:inherit\">\n",
    "def mode(x):\n",
    "    # Remove any NaN values using because np.unique doesn't like NaN (see Section 3.6 for more on missing values)\n",
    "    vals,counts = np.unique(x[~pandas.isnull(x)], return_counts=True)\n",
    "    return vals[np.argmax(counts)]\n",
    "</pre>\n",
    "Generate a table showing the most frequent age range for each combination of ethnicity and gender, in the stop-and-search dataset.\n",
    "</div>"
   ]
  },
  {
   "cell_type": "markdown",
   "metadata": {},
   "source": [
    "<div class=\"alert alert-warning\">**Exercise (ex2).**\n",
    "Given the dataframe\n",
    "<pre style=\"background-color:inherit\">\n",
    "df = pandas.DataFrame({'A': [0,0,0,1,1,1], 'B': [0,1,2,0,1,2], 'X': range(6)})\n",
    "</pre>\n",
    "pretty-print an indexed array that has rows for A, columns for B, and shows values of X. <em>[Hint. Make sure your \n",
    "    <code style=\"background-color:inherit\">apply</code> function returns a simple Python value, not a Pandas column or dataframe.]</em>\n",
    "</div>"
   ]
  },
  {
   "cell_type": "markdown",
   "metadata": {},
   "source": [
    "# 3.5 Joining dataframes<span id=\"join\"></span>\n",
    "Suppose we've got a table that lists, for each ethnic group and possible outcome, the number of such cases:"
   ]
  },
  {
   "cell_type": "code",
   "execution_count": 31,
   "metadata": {},
   "outputs": [
    {
     "data": {
      "text/html": [
       "<div>\n",
       "<style>\n",
       "    .dataframe thead tr:only-child th {\n",
       "        text-align: right;\n",
       "    }\n",
       "\n",
       "    .dataframe thead th {\n",
       "        text-align: left;\n",
       "    }\n",
       "\n",
       "    .dataframe tbody tr th {\n",
       "        vertical-align: top;\n",
       "    }\n",
       "</style>\n",
       "<table border=\"1\" class=\"dataframe\">\n",
       "  <thead>\n",
       "    <tr style=\"text-align: right;\">\n",
       "      <th></th>\n",
       "      <th>Officer-defined ethnicity</th>\n",
       "      <th>outcome</th>\n",
       "      <th>n</th>\n",
       "    </tr>\n",
       "  </thead>\n",
       "  <tbody>\n",
       "    <tr>\n",
       "      <th>0</th>\n",
       "      <td>Asian</td>\n",
       "      <td>find</td>\n",
       "      <td>23864</td>\n",
       "    </tr>\n",
       "    <tr>\n",
       "      <th>1</th>\n",
       "      <td>Asian</td>\n",
       "      <td>nothing</td>\n",
       "      <td>55628</td>\n",
       "    </tr>\n",
       "    <tr>\n",
       "      <th>2</th>\n",
       "      <td>Black</td>\n",
       "      <td>find</td>\n",
       "      <td>52161</td>\n",
       "    </tr>\n",
       "    <tr>\n",
       "      <th>3</th>\n",
       "      <td>Black</td>\n",
       "      <td>nothing</td>\n",
       "      <td>111695</td>\n",
       "    </tr>\n",
       "    <tr>\n",
       "      <th>4</th>\n",
       "      <td>Mixed</td>\n",
       "      <td>find</td>\n",
       "      <td>212</td>\n",
       "    </tr>\n",
       "    <tr>\n",
       "      <th>5</th>\n",
       "      <td>Mixed</td>\n",
       "      <td>nothing</td>\n",
       "      <td>138</td>\n",
       "    </tr>\n",
       "    <tr>\n",
       "      <th>6</th>\n",
       "      <td>Other</td>\n",
       "      <td>find</td>\n",
       "      <td>6117</td>\n",
       "    </tr>\n",
       "    <tr>\n",
       "      <th>7</th>\n",
       "      <td>Other</td>\n",
       "      <td>nothing</td>\n",
       "      <td>12363</td>\n",
       "    </tr>\n",
       "    <tr>\n",
       "      <th>8</th>\n",
       "      <td>White</td>\n",
       "      <td>find</td>\n",
       "      <td>157927</td>\n",
       "    </tr>\n",
       "    <tr>\n",
       "      <th>9</th>\n",
       "      <td>White</td>\n",
       "      <td>nothing</td>\n",
       "      <td>325545</td>\n",
       "    </tr>\n",
       "  </tbody>\n",
       "</table>\n",
       "</div>"
      ],
      "text/plain": [
       "  Officer-defined ethnicity  outcome       n\n",
       "0                     Asian     find   23864\n",
       "1                     Asian  nothing   55628\n",
       "2                     Black     find   52161\n",
       "3                     Black  nothing  111695\n",
       "4                     Mixed     find     212\n",
       "5                     Mixed  nothing     138\n",
       "6                     Other     find    6117\n",
       "7                     Other  nothing   12363\n",
       "8                     White     find  157927\n",
       "9                     White  nothing  325545"
      ]
     },
     "execution_count": 31,
     "metadata": {},
     "output_type": "execute_result"
    }
   ],
   "source": [
    "# The 'Outcome' column has lots of possible values -- let's simplify it to just two\n",
    "stopsearch['outcome'] = np.where(stopsearch['Outcome'] == 'Nothing found - no further action', 'nothing', 'find')\n",
    "x = stopsearch.groupby(['Officer-defined ethnicity', 'outcome']).apply(len).reset_index(name='n')\n",
    "x"
   ]
  },
  {
   "cell_type": "markdown",
   "metadata": {},
   "source": [
    "We might want to know `outcome==find` is equally likely for each ethnic group (to test for ethnic bias in police behaviour). \n",
    "We could achieve this with a `for` loop, looking at each ethnic group in turn &mdash; but `for` loops are considered harmful, and a more idiomatic way to do it is by combining tables, as follows.\n",
    "First, create a summary table that lists, for each ethnic group, the total number of cases:"
   ]
  },
  {
   "cell_type": "code",
   "execution_count": 33,
   "metadata": {},
   "outputs": [
    {
     "data": {
      "text/html": [
       "<div>\n",
       "<style>\n",
       "    .dataframe thead tr:only-child th {\n",
       "        text-align: right;\n",
       "    }\n",
       "\n",
       "    .dataframe thead th {\n",
       "        text-align: left;\n",
       "    }\n",
       "\n",
       "    .dataframe tbody tr th {\n",
       "        vertical-align: top;\n",
       "    }\n",
       "</style>\n",
       "<table border=\"1\" class=\"dataframe\">\n",
       "  <thead>\n",
       "    <tr style=\"text-align: right;\">\n",
       "      <th></th>\n",
       "      <th>Officer-defined ethnicity</th>\n",
       "      <th>ntot</th>\n",
       "    </tr>\n",
       "  </thead>\n",
       "  <tbody>\n",
       "    <tr>\n",
       "      <th>0</th>\n",
       "      <td>Asian</td>\n",
       "      <td>79492</td>\n",
       "    </tr>\n",
       "    <tr>\n",
       "      <th>1</th>\n",
       "      <td>Black</td>\n",
       "      <td>163856</td>\n",
       "    </tr>\n",
       "    <tr>\n",
       "      <th>2</th>\n",
       "      <td>Mixed</td>\n",
       "      <td>350</td>\n",
       "    </tr>\n",
       "    <tr>\n",
       "      <th>3</th>\n",
       "      <td>Other</td>\n",
       "      <td>18480</td>\n",
       "    </tr>\n",
       "    <tr>\n",
       "      <th>4</th>\n",
       "      <td>White</td>\n",
       "      <td>483472</td>\n",
       "    </tr>\n",
       "  </tbody>\n",
       "</table>\n",
       "</div>"
      ],
      "text/plain": [
       "  Officer-defined ethnicity    ntot\n",
       "0                     Asian   79492\n",
       "1                     Black  163856\n",
       "2                     Mixed     350\n",
       "3                     Other   18480\n",
       "4                     White  483472"
      ]
     },
     "execution_count": 33,
     "metadata": {},
     "output_type": "execute_result"
    }
   ],
   "source": [
    "y = x.groupby('Officer-defined ethnicity')['n'].apply(sum).reset_index(name='ntot')\n",
    "y"
   ]
  },
  {
   "cell_type": "markdown",
   "metadata": {},
   "source": [
    "Second, divide the values in the first table by the corresponding values in the second table. The key word here is _corresponding_. This is the equivalent of `JOIN` in SQL, which you learn about in IA/IB _Databases_."
   ]
  },
  {
   "cell_type": "code",
   "execution_count": 36,
   "metadata": {},
   "outputs": [
    {
     "data": {
      "text/html": [
       "<div>\n",
       "<style>\n",
       "    .dataframe thead tr:only-child th {\n",
       "        text-align: right;\n",
       "    }\n",
       "\n",
       "    .dataframe thead th {\n",
       "        text-align: left;\n",
       "    }\n",
       "\n",
       "    .dataframe tbody tr th {\n",
       "        vertical-align: top;\n",
       "    }\n",
       "</style>\n",
       "<table border=\"1\" class=\"dataframe\">\n",
       "  <thead>\n",
       "    <tr style=\"text-align: right;\">\n",
       "      <th></th>\n",
       "      <th>Officer-defined ethnicity</th>\n",
       "      <th>percent_find</th>\n",
       "    </tr>\n",
       "  </thead>\n",
       "  <tbody>\n",
       "    <tr>\n",
       "      <th>0</th>\n",
       "      <td>Asian</td>\n",
       "      <td>30.020631</td>\n",
       "    </tr>\n",
       "    <tr>\n",
       "      <th>2</th>\n",
       "      <td>Black</td>\n",
       "      <td>31.833439</td>\n",
       "    </tr>\n",
       "    <tr>\n",
       "      <th>4</th>\n",
       "      <td>Mixed</td>\n",
       "      <td>60.571429</td>\n",
       "    </tr>\n",
       "    <tr>\n",
       "      <th>6</th>\n",
       "      <td>Other</td>\n",
       "      <td>33.100649</td>\n",
       "    </tr>\n",
       "    <tr>\n",
       "      <th>8</th>\n",
       "      <td>White</td>\n",
       "      <td>32.665180</td>\n",
       "    </tr>\n",
       "  </tbody>\n",
       "</table>\n",
       "</div>"
      ],
      "text/plain": [
       "  Officer-defined ethnicity  percent_find\n",
       "0                     Asian     30.020631\n",
       "2                     Black     31.833439\n",
       "4                     Mixed     60.571429\n",
       "6                     Other     33.100649\n",
       "8                     White     32.665180"
      ]
     },
     "execution_count": 36,
     "metadata": {},
     "output_type": "execute_result"
    }
   ],
   "source": [
    "z = x.merge(y, on='Officer-defined ethnicity')  # you can join on a column name, or a list of column names\n",
    "\n",
    "# Compute the ratio n/ntot, and display percent_find for each ethnicity\n",
    "z['percent_find'] = z['n'] / z['ntot'] * 100\n",
    "z.loc[z['outcome']=='find', ['Officer-defined ethnicity','percent_find']]\n",
    "# (If we select rows first and then add a column, Pandas will tell us off for trying to modify part of a dataframe.)"
   ]
  },
  {
   "cell_type": "markdown",
   "metadata": {},
   "source": [
    "Pandas also lets us join indexed arrays on their common indices, and that would be a more natural way to write this calculation; but that counts as more advanced Pandas usage than we will cover here."
   ]
  },
  {
   "cell_type": "markdown",
   "metadata": {},
   "source": [
    "<div class=\"alert alert-warning\">**Exercise (ex3).**\n",
    "    Use <code style=\"background-color:inherit\">merge</code> to produce a dataframe with one row per ethnic group, one column for the number of cases of \n",
    "    <code style=\"background-color:inherit\">outcome==find</code>, and one column for the number of cases\n",
    "    with \n",
    "    <code style=\"background-color:inherit\">outcome==nothing</code>.\n",
    "Use this table to compute the\n",
    "    <code style=\"background-color:inherit\">percent_find</code> column.\n",
    "</div>"
   ]
  },
  {
   "cell_type": "markdown",
   "metadata": {},
   "source": [
    "# 3.6 Extended example<span id=\"example\"></span>\n",
    "Here is an extended example, a deeper look at the stop and search dataset. The goal of this section is to see how everything we've learnt comes together. Every piece of data work is different, so don't worry about the details of this example. Instead you should skim through and just look at the pictures, and come back to use this section as a reference if you find yourself wondering how to produce a similar picture. The general themes illustrated in this example are:\n",
    "\n",
    "* What are common steps we might take when approaching a new dataset?\n",
    "* How do all the various pieces of Python and numpy come together when tidying a dataset?\n",
    "* See a more involved use of `merge`\n",
    "* Get a flavour of advanced plotting with matplotlib\n",
    "\n",
    "Matplotlib is a huge and not very coherent library. You'll see some of the most important parts here, but you'll need to make frequent use of Google, [Stack Overflow](https://stackoverflow.com/questions/tagged/matplotlib), the [matplotlib gallery](https://matplotlib.org/2.1.0/gallery/index.html), maybe even the [documentation](https://matplotlib.org/2.1.0/api/pyplot_summary.html)."
   ]
  },
  {
   "cell_type": "markdown",
   "metadata": {},
   "source": [
    "The first step is analysing a dataframe is always to look at a few of the rows, as we did right at the top of this notebook. I like to look at a random sample of rows, to get a picture of variety in the data."
   ]
  },
  {
   "cell_type": "code",
   "execution_count": 19,
   "metadata": {},
   "outputs": [
    {
     "data": {
      "text/html": [
       "<div>\n",
       "<style>\n",
       "    .dataframe thead tr:only-child th {\n",
       "        text-align: right;\n",
       "    }\n",
       "\n",
       "    .dataframe thead th {\n",
       "        text-align: left;\n",
       "    }\n",
       "\n",
       "    .dataframe tbody tr th {\n",
       "        vertical-align: top;\n",
       "    }\n",
       "</style>\n",
       "<table border=\"1\" class=\"dataframe\">\n",
       "  <thead>\n",
       "    <tr style=\"text-align: right;\">\n",
       "      <th></th>\n",
       "      <th>Type</th>\n",
       "      <th>Date</th>\n",
       "      <th>Part of a policing operation</th>\n",
       "      <th>Policing operation</th>\n",
       "      <th>Latitude</th>\n",
       "      <th>Longitude</th>\n",
       "      <th>Gender</th>\n",
       "      <th>Age range</th>\n",
       "      <th>Self-defined ethnicity</th>\n",
       "      <th>Officer-defined ethnicity</th>\n",
       "      <th>Legislation</th>\n",
       "      <th>Object of search</th>\n",
       "      <th>Outcome</th>\n",
       "      <th>Outcome linked to object of search</th>\n",
       "      <th>Removal of more than just outer clothing</th>\n",
       "      <th>year</th>\n",
       "      <th>month</th>\n",
       "      <th>police_force</th>\n",
       "      <th>outcome</th>\n",
       "    </tr>\n",
       "  </thead>\n",
       "  <tbody>\n",
       "    <tr>\n",
       "      <th>364933</th>\n",
       "      <td>Person search</td>\n",
       "      <td>2016-01-22T00:10:00+00:00</td>\n",
       "      <td>False</td>\n",
       "      <td>NaN</td>\n",
       "      <td>51.252699</td>\n",
       "      <td>-0.015391</td>\n",
       "      <td>Male</td>\n",
       "      <td>18-24</td>\n",
       "      <td>White - White British (W1)</td>\n",
       "      <td>White</td>\n",
       "      <td>NaN</td>\n",
       "      <td>Stolen goods</td>\n",
       "      <td>Nothing found - no further action</td>\n",
       "      <td>NaN</td>\n",
       "      <td>NaN</td>\n",
       "      <td>2016</td>\n",
       "      <td>1</td>\n",
       "      <td>surrey</td>\n",
       "      <td>nothing</td>\n",
       "    </tr>\n",
       "    <tr>\n",
       "      <th>741425</th>\n",
       "      <td>Person search</td>\n",
       "      <td>2017-04-29T14:50:00+00:00</td>\n",
       "      <td>False</td>\n",
       "      <td>NaN</td>\n",
       "      <td>51.473878</td>\n",
       "      <td>-0.088951</td>\n",
       "      <td>Male</td>\n",
       "      <td>18-24</td>\n",
       "      <td>White - Any other White background</td>\n",
       "      <td>NaN</td>\n",
       "      <td>Misuse of Drugs Act 1971 (section 23)</td>\n",
       "      <td>Controlled drugs</td>\n",
       "      <td>Offender given drugs possession warning</td>\n",
       "      <td>NaN</td>\n",
       "      <td>NaN</td>\n",
       "      <td>2017</td>\n",
       "      <td>4</td>\n",
       "      <td>metropolitan</td>\n",
       "      <td>find</td>\n",
       "    </tr>\n",
       "    <tr>\n",
       "      <th>222012</th>\n",
       "      <td>Person search</td>\n",
       "      <td>2015-09-01T12:00:00+00:00</td>\n",
       "      <td>NaN</td>\n",
       "      <td>NaN</td>\n",
       "      <td>NaN</td>\n",
       "      <td>NaN</td>\n",
       "      <td>Male</td>\n",
       "      <td>25-34</td>\n",
       "      <td>White - White British (W1)</td>\n",
       "      <td>White</td>\n",
       "      <td>Misuse of Drugs Act 1971 (section 23)</td>\n",
       "      <td>NaN</td>\n",
       "      <td>Nothing found - no further action</td>\n",
       "      <td>NaN</td>\n",
       "      <td>NaN</td>\n",
       "      <td>2015</td>\n",
       "      <td>9</td>\n",
       "      <td>metropolitan</td>\n",
       "      <td>nothing</td>\n",
       "    </tr>\n",
       "  </tbody>\n",
       "</table>\n",
       "</div>"
      ],
      "text/plain": [
       "                 Type                       Date Part of a policing operation  \\\n",
       "364933  Person search  2016-01-22T00:10:00+00:00                        False   \n",
       "741425  Person search  2017-04-29T14:50:00+00:00                        False   \n",
       "222012  Person search  2015-09-01T12:00:00+00:00                          NaN   \n",
       "\n",
       "        Policing operation   Latitude  Longitude Gender Age range  \\\n",
       "364933                 NaN  51.252699  -0.015391   Male     18-24   \n",
       "741425                 NaN  51.473878  -0.088951   Male     18-24   \n",
       "222012                 NaN        NaN        NaN   Male     25-34   \n",
       "\n",
       "                    Self-defined ethnicity Officer-defined ethnicity  \\\n",
       "364933          White - White British (W1)                     White   \n",
       "741425  White - Any other White background                       NaN   \n",
       "222012          White - White British (W1)                     White   \n",
       "\n",
       "                                  Legislation  Object of search  \\\n",
       "364933                                    NaN      Stolen goods   \n",
       "741425  Misuse of Drugs Act 1971 (section 23)  Controlled drugs   \n",
       "222012  Misuse of Drugs Act 1971 (section 23)               NaN   \n",
       "\n",
       "                                        Outcome  \\\n",
       "364933        Nothing found - no further action   \n",
       "741425  Offender given drugs possession warning   \n",
       "222012        Nothing found - no further action   \n",
       "\n",
       "       Outcome linked to object of search  \\\n",
       "364933                                NaN   \n",
       "741425                                NaN   \n",
       "222012                                NaN   \n",
       "\n",
       "       Removal of more than just outer clothing  year  month  police_force  \\\n",
       "364933                                      NaN  2016      1        surrey   \n",
       "741425                                      NaN  2017      4  metropolitan   \n",
       "222012                                      NaN  2015      9  metropolitan   \n",
       "\n",
       "        outcome  \n",
       "364933  nothing  \n",
       "741425     find  \n",
       "222012  nothing  "
      ]
     },
     "execution_count": 19,
     "metadata": {},
     "output_type": "execute_result"
    }
   ],
   "source": [
    "stopsearch.iloc[np.random.choice(len(stopsearch), size=3)]"
   ]
  },
  {
   "cell_type": "markdown",
   "metadata": {},
   "source": [
    "## (a) Investigate categorical columns<span id=\"categorical\"></span>"
   ]
  },
  {
   "cell_type": "markdown",
   "metadata": {},
   "source": [
    "Let's look at one column in detail, `Age range`. Entries in this column take one of a small number of possible values; it is what is known as a _categorical_ variable. In other languages we'd store it as an enumeration type, but Python and numpy have poor support for enumerations, and it's typical to either store it as a string or (if the dataset is huge) to code it as an integer. \n",
    "\n",
    "We could use any numpy routines we like to summarize the column, but Pandas column objects have a helpful method `describe()`, which is polymorphic and displays appropriate information for most types of column. (If we want to call `describe` on a numpy vector, we have to convert it to a Pandas column object first: `pandas.Series(x).describe()`.)"
   ]
  },
  {
   "cell_type": "code",
   "execution_count": 20,
   "metadata": {},
   "outputs": [
    {
     "data": {
      "text/plain": [
       "count     759820\n",
       "unique         5\n",
       "top        18-24\n",
       "freq      292998\n",
       "Name: Age range, dtype: object"
      ]
     },
     "execution_count": 20,
     "metadata": {},
     "output_type": "execute_result"
    }
   ],
   "source": [
    "stopsearch['Age range'].describe()"
   ]
  },
  {
   "cell_type": "markdown",
   "metadata": {},
   "source": [
    "It tells us, somewhat unhelpfully, that this column is of type `object`. Numpy insists that each item in a vector or array have exactly the same length, whereas strings are variable length, so Pandas has stored it as a vector of _pointers_ to string objects, so it displays as `dtype=object`. Numpy can also store vectors of fixed-length strings, but this is rarely a good idea. In my experience, numpy has poor support for strings (as one might guess from its name), and I prefer to use general-purpose Python functions for string handling.\n",
    "\n",
    "The `describe()` method has gotcha behaviour when there are missing values. When Pandas reads a CSV, if there are missing values then Pandas stores them as NaN (Not a Number &mdash; a floating point value, despite its name!). The count printed out by `describe()` doesn't include NaNs.\n",
    "\n",
    "The standard way to depict a categorical variable is with a histogram. In matplotlib, we have to do the counting ourself and then draw bars with [`matplotlib.pyplot.bar`](https://matplotlib.org/api/pyplot_api.html#matplotlib.pyplot.bar). Missing values are a gotcha: we can either convert NaN into the string `'nan'` and show it in the plot, or we can discard NaN values using `pandas.isnull`."
   ]
  },
  {
   "cell_type": "code",
   "execution_count": 37,
   "metadata": {},
   "outputs": [
    {
     "data": {
      "image/png": "[encoded data removed]",
      "text/plain": [
       "<matplotlib.figure.Figure at 0x7f0dc01accf8>"
      ]
     },
     "metadata": {},
     "output_type": "display_data"
    }
   ],
   "source": [
    "x = stopsearch['Age range']\n",
    "\n",
    "# Count the number of occurrences of each value in the column\n",
    "vs,ns = np.unique(x[~pandas.isnull(x)], return_counts=True)  # discard NaN values,\n",
    "vs,ns = np.unique(x.astype(str), return_counts=True)         # or convert NaN to 'nan'\n",
    "\n",
    "xs = np.arange(len(vs))                                      # pick x coordinates\n",
    "plt.bar(xs, ns, align='center')                              # you can also set width=...\n",
    "plt.xticks(xs, vs, rotation=-30, ha='left')                  # specify and label the x ticks\n",
    "plt.ylabel('count')\n",
    "plt.show()"
   ]
  },
  {
   "cell_type": "markdown",
   "metadata": {},
   "source": [
    "Here's another display, a table showing the most frequent items and their counts. We're using `np.argsort(-ns)` to rearrange the rows in the order of decreasing `ns`, and keeping the first three rows."
   ]
  },
  {
   "cell_type": "code",
   "execution_count": 22,
   "metadata": {},
   "outputs": [
    {
     "data": {
      "text/html": [
       "<div>\n",
       "<style>\n",
       "    .dataframe thead tr:only-child th {\n",
       "        text-align: right;\n",
       "    }\n",
       "\n",
       "    .dataframe thead th {\n",
       "        text-align: left;\n",
       "    }\n",
       "\n",
       "    .dataframe tbody tr th {\n",
       "        vertical-align: top;\n",
       "    }\n",
       "</style>\n",
       "<table border=\"1\" class=\"dataframe\">\n",
       "  <thead>\n",
       "    <tr style=\"text-align: right;\">\n",
       "      <th></th>\n",
       "      <th>Age range</th>\n",
       "      <th>n</th>\n",
       "    </tr>\n",
       "  </thead>\n",
       "  <tbody>\n",
       "    <tr>\n",
       "      <th>1</th>\n",
       "      <td>18-24</td>\n",
       "      <td>292998</td>\n",
       "    </tr>\n",
       "    <tr>\n",
       "      <th>2</th>\n",
       "      <td>25-34</td>\n",
       "      <td>180725</td>\n",
       "    </tr>\n",
       "    <tr>\n",
       "      <th>0</th>\n",
       "      <td>10-17</td>\n",
       "      <td>150286</td>\n",
       "    </tr>\n",
       "  </tbody>\n",
       "</table>\n",
       "</div>"
      ],
      "text/plain": [
       "  Age range       n\n",
       "1     18-24  292998\n",
       "2     25-34  180725\n",
       "0     10-17  150286"
      ]
     },
     "execution_count": 22,
     "metadata": {},
     "output_type": "execute_result"
    }
   ],
   "source": [
    "pandas.DataFrame({'Age range':vs, 'n':ns}, columns=['Age range','n']).iloc[np.argsort(-ns)[:3]]"
   ]
  },
  {
   "cell_type": "markdown",
   "metadata": {},
   "source": [
    "## (b) Investigate numerical columns<span id=\"numerical\"></span>\n",
    "Numerical columns also have a `describe()` method, which prints out some standard numerical summaries. The only numerical columns in this dataset are latitude and longitude, which it's daft to summarize numerically, but here goes."
   ]
  },
  {
   "cell_type": "code",
   "execution_count": 23,
   "metadata": {},
   "outputs": [
    {
     "data": {
      "text/plain": [
       "count    495557.000000\n",
       "mean         52.253553\n",
       "std           1.099470\n",
       "min          49.766800\n",
       "25%          51.469594\n",
       "50%          51.653199\n",
       "75%          53.161358\n",
       "max          55.945400\n",
       "Name: Latitude, dtype: float64"
      ]
     },
     "execution_count": 23,
     "metadata": {},
     "output_type": "execute_result"
    }
   ],
   "source": [
    "stopsearch['Latitude'].describe()"
   ]
  },
  {
   "cell_type": "markdown",
   "metadata": {},
   "source": [
    "The obvious way to plot a numerical column is with a histogram. The matplotlib `hist` command doesn't work if there are missing values, so they must be removed first."
   ]
  },
  {
   "cell_type": "code",
   "execution_count": 24,
   "metadata": {},
   "outputs": [
    {
     "data": {
      "image/png": "[encoded data removed]",
      "text/plain": [
       "<matplotlib.figure.Figure at 0x7f58cc351940>"
      ]
     },
     "metadata": {},
     "output_type": "display_data"
    }
   ],
   "source": [
    "x = stopsearch['Latitude']\n",
    "plt.hist(x[~pandas.isnull(x)], bins=30)\n",
    "plt.ylabel('count')\n",
    "plt.show()"
   ]
  },
  {
   "cell_type": "markdown",
   "metadata": {},
   "source": [
    "It's sometimes helpful to split a numerical column into categories. Here is a cheap-and-cheerful hack at geocoding. We could achieve the same effect ourselves by fiddling with [`np.digitize`](https://docs.scipy.org/doc/numpy-1.13.0/reference/generated/numpy.digitize.html), but [`pandas.cut`](https://pandas.pydata.org/pandas-docs/stable/generated/pandas.cut.html) does everything for us. If we want to cut into categories of roughly equal size, use [`pandas.qcut`](https://pandas.pydata.org/pandas-docs/stable/generated/pandas.qcut.html), or fiddle around with [`np.nanpercentile`](https://docs.scipy.org/doc/numpy-1.13.0/reference/generated/numpy.nanpercentile.html),"
   ]
  },
  {
   "cell_type": "code",
   "execution_count": 25,
   "metadata": {},
   "outputs": [
    {
     "data": {
      "text/html": [
       "<div>\n",
       "<style>\n",
       "    .dataframe thead tr:only-child th {\n",
       "        text-align: right;\n",
       "    }\n",
       "\n",
       "    .dataframe thead th {\n",
       "        text-align: left;\n",
       "    }\n",
       "\n",
       "    .dataframe tbody tr th {\n",
       "        vertical-align: top;\n",
       "    }\n",
       "</style>\n",
       "<table border=\"1\" class=\"dataframe\">\n",
       "  <thead>\n",
       "    <tr style=\"text-align: right;\">\n",
       "      <th></th>\n",
       "      <th>n</th>\n",
       "      <th>region</th>\n",
       "    </tr>\n",
       "  </thead>\n",
       "  <tbody>\n",
       "    <tr>\n",
       "      <th>0</th>\n",
       "      <td>mid/north</td>\n",
       "      <td>231792</td>\n",
       "    </tr>\n",
       "    <tr>\n",
       "      <th>1</th>\n",
       "      <td>nan</td>\n",
       "      <td>312544</td>\n",
       "    </tr>\n",
       "    <tr>\n",
       "      <th>2</th>\n",
       "      <td>scotland</td>\n",
       "      <td>304</td>\n",
       "    </tr>\n",
       "    <tr>\n",
       "      <th>3</th>\n",
       "      <td>south</td>\n",
       "      <td>263461</td>\n",
       "    </tr>\n",
       "  </tbody>\n",
       "</table>\n",
       "</div>"
      ],
      "text/plain": [
       "           n  region\n",
       "0  mid/north  231792\n",
       "1        nan  312544\n",
       "2   scotland     304\n",
       "3      south  263461"
      ]
     },
     "execution_count": 25,
     "metadata": {},
     "output_type": "execute_result"
    }
   ],
   "source": [
    "region = pandas.cut(stopsearch['Latitude'], bins=[-np.inf, 51.98, 55.27, np.inf], labels=['south','mid/north','scotland'])\n",
    "ns,vs = np.unique(region.astype(str), return_counts=True)\n",
    "pandas.DataFrame({'region':vs, 'n':ns})"
   ]
  },
  {
   "cell_type": "markdown",
   "metadata": {},
   "source": [
    "Here's a more intelligent plot of latitude and longitude, a scatter plot, coloured by police force. We iterate through the police forces and draw a scatter plot for each. The scatterplot automatically picks a new colour each time.\n",
    "(You can also use a mapping library like [gmplot](https://pypi.python.org/pypi/gmplot/1.0.5), which puts nice interactive maps in your Jupyter notebook, using Google map tiles.)"
   ]
  },
  {
   "cell_type": "code",
   "execution_count": 55,
   "metadata": {},
   "outputs": [
    {
     "data": {
      "image/png": "[encoded data removed]",
      "text/plain": [
       "<matplotlib.figure.Figure at 0x7f588c1edeb8>"
      ]
     },
     "metadata": {},
     "output_type": "display_data"
    }
   ],
   "source": [
    "# Plot a sample of points, because there's no point plotting loads of overlaps\n",
    "df = stopsearch.iloc[np.random.choice(len(stopsearch), size=100000)]\n",
    "\n",
    "for pf in np.unique(df['police_force']):\n",
    "    i = df['police_force'] == pf\n",
    "    plt.scatter(df['Longitude'][i], df['Latitude'][i], s=1, alpha=.1) # control size and alpha\n",
    "\n",
    "# Set the aspect ratio, based on the UK's average latitude\n",
    "plt.gca().set_aspect(1/np.cos(54/360*2*np.pi))\n",
    "plt.show()"
   ]
  },
  {
   "cell_type": "markdown",
   "metadata": {},
   "source": [
    "## (c) Investigate date/time columns<span id=\"datetime\"></span>\n",
    "Dates and times are always a nuisance because of timezones, as [xkcd](https://www.xkcd.com/1883/) observes &mdash; and also because of unequal months and leap years and so on, which make it hard work to get axes right in plots. But they're also very common, so here are a few recipes.\n",
    "\n",
    "<a href=\"https://www.xkcd.com/1883/\"><img src=\"https://imgs.xkcd.com/comics/supervillain_plan.png\" style=\"height:25em\" alt=\"supervillain timezone woes\"></a>"
   ]
  },
  {
   "cell_type": "markdown",
   "metadata": {},
   "source": [
    "Let's look at some typical values in the `Date` column."
   ]
  },
  {
   "cell_type": "code",
   "execution_count": 26,
   "metadata": {},
   "outputs": [
    {
     "data": {
      "text/plain": [
       "array(['2016-08-26T21:13:00+00:00', '2015-11-15T17:45:00+00:00',\n",
       "       '2014-12-02T13:10:00+00:00', '2015-11-20T20:00:00+00:00',\n",
       "       '2015-04-10T13:45:00+00:00'], dtype=object)"
      ]
     },
     "execution_count": 26,
     "metadata": {},
     "output_type": "execute_result"
    }
   ],
   "source": [
    "np.random.choice(stopsearch['Date'], 5)"
   ]
  },
  {
   "cell_type": "markdown",
   "metadata": {},
   "source": [
    "To find the time of day of each entry (measured in seconds since midnight), we can just trim the string, split it at colons, and add up the pieces. By using `np.vectorize` we can apply this to the entire vector. "
   ]
  },
  {
   "cell_type": "code",
   "execution_count": 27,
   "metadata": {},
   "outputs": [],
   "source": [
    "def as_timeofday(s):\n",
    "    return sum(int(x)*y for x,y in zip(s[11:19].split(':'), [3600,60,1]))\n",
    "timeofday = np.vectorize(as_timeofday)(stopsearch['Date'])"
   ]
  },
  {
   "cell_type": "markdown",
   "metadata": {},
   "source": [
    "Here's a plot, a histogram of the time of day of stop-and-search events. There are two fancy things going on here:\n",
    "\n",
    "* The plot size is set using [`plt.rc_context`](https://matplotlib.org/users/customizing.html), which lets you control size and many other options.\n",
    "* [Colours can be specified](https://matplotlib.org/2.0.2/api/colors_api.html) by name, by string for a grey-level, or by an (r,g,b) tuple. \n",
    "* Since stop-and-search events happen throughout the night, it's good to show context around midnight. Here we're showing three versions of the histogram in the same plot, and controlling the colour to draw the viewer's attention to a 24-hour window."
   ]
  },
  {
   "cell_type": "code",
   "execution_count": 28,
   "metadata": {},
   "outputs": [
    {
     "data": {
      "image/png": "[encoded data removed]",
      "text/plain": [
       "<matplotlib.figure.Figure at 0x7f5894999e10>"
      ]
     },
     "metadata": {},
     "output_type": "display_data"
    }
   ],
   "source": [
    "ONEHOUR = 3600\n",
    "with plt.rc_context({'figure.figsize': (8,3)}):\n",
    "    plt.hist(timeofday/ONEHOUR, bins=np.linspace(0,24,48+1))\n",
    "    plt.hist(timeofday[timeofday>18*ONEHOUR]/ONEHOUR-24, bins=np.linspace(-6,0,12+1), color=(.5,.6,.7))\n",
    "    plt.hist(timeofday[timeofday<6*ONEHOUR]/ONEHOUR+24, bins=np.linspace(24,30,12+1), color=(.5,.6,.7))\n",
    "plt.ylabel('count')\n",
    "plt.show()"
   ]
  },
  {
   "cell_type": "markdown",
   "metadata": {},
   "source": [
    "For the fancy plots that follow, we'll want to work with dates. In my experience, there is only one way to maintain your sanity when working with dates and times: \n",
    "\n",
    "* Store dates and datetimes as Unix timestamps, i.e. as seconds since 1970-01-01 00:00:00. \n",
    "* If timezones are irrelevant in your dataset, then just pretend everything is all UTC.\n",
    "* If timezones are relevant in your dataset, then store UTC timestamps, and store an additional column for timezone offset. Do not be tempted to store local time. \n",
    "\n",
    "Every language and every library and every database has its own quirks at dealing with datetimes, and it's not worth wasting your time on them, except for learning how to convert to a timestamp."
   ]
  },
  {
   "cell_type": "code",
   "execution_count": 43,
   "metadata": {},
   "outputs": [],
   "source": [
    "import datetime, pytz\n",
    "\n",
    "def as_timestamp(s):\n",
    "    t = datetime.datetime.strptime(s[:10], '%Y-%m-%d')  # create a naive datetime (with no timezone specified)\n",
    "    u = t.replace(tzinfo=pytz.UTC)  # set timezone=UTC, otherwise timestamp() is unpredictable\n",
    "    return int(u.timestamp())\n",
    "\n",
    "# Create a column with the date, stored as a Unix timestamp\n",
    "stopsearch['t'] = np.vectorize(as_timestamp)(stopsearch['Date'])"
   ]
  },
  {
   "cell_type": "markdown",
   "metadata": {},
   "source": [
    "## (d) Clever joins<span id=\"wrangling\"></span>\n",
    "\n",
    "Let's analyse in detail the number of stop-and-search events per day. The naive method, `stopsearch.groupby('Date').apply(len)`, doesn't make sense: it only aggregates the data there is, so it won't produce a row saying \"On date $d$, there were zero events\". We need to somehow augment this table to include all possible dates.\n",
    "\n",
    "Further challenge: this dataset happens to be uneven, with different dates of coverage for different police forces, as this very terse snippet shows. (You'll find yourself writing very powerful one-liners for quick looks at the data. Don't leave them in your finished code, because no one else will be able to understand them. This one is left in as an exercise!)"
   ]
  },
  {
   "cell_type": "code",
   "execution_count": 44,
   "metadata": {},
   "outputs": [
    {
     "data": {
      "text/html": [
       "<div>\n",
       "<style>\n",
       "    .dataframe thead tr:only-child th {\n",
       "        text-align: right;\n",
       "    }\n",
       "\n",
       "    .dataframe thead th {\n",
       "        text-align: left;\n",
       "    }\n",
       "\n",
       "    .dataframe tbody tr th {\n",
       "        vertical-align: top;\n",
       "    }\n",
       "</style>\n",
       "<table border=\"1\" class=\"dataframe\">\n",
       "  <thead>\n",
       "    <tr style=\"text-align: right;\">\n",
       "      <th></th>\n",
       "      <th>police_force</th>\n",
       "      <th>days</th>\n",
       "    </tr>\n",
       "  </thead>\n",
       "  <tbody>\n",
       "    <tr>\n",
       "      <th>0</th>\n",
       "      <td>avon-and-somerset</td>\n",
       "      <td>912</td>\n",
       "    </tr>\n",
       "    <tr>\n",
       "      <th>1</th>\n",
       "      <td>bedfordshire</td>\n",
       "      <td>851</td>\n",
       "    </tr>\n",
       "    <tr>\n",
       "      <th>2</th>\n",
       "      <td>btp</td>\n",
       "      <td>852</td>\n",
       "    </tr>\n",
       "    <tr>\n",
       "      <th>3</th>\n",
       "      <td>cambridgeshire</td>\n",
       "      <td>731</td>\n",
       "    </tr>\n",
       "    <tr>\n",
       "      <th>4</th>\n",
       "      <td>cheshire</td>\n",
       "      <td>853</td>\n",
       "    </tr>\n",
       "  </tbody>\n",
       "</table>\n",
       "</div>"
      ],
      "text/plain": [
       "        police_force  days\n",
       "0  avon-and-somerset   912\n",
       "1       bedfordshire   851\n",
       "2                btp   852\n",
       "3     cambridgeshire   731\n",
       "4           cheshire   853"
      ]
     },
     "execution_count": 44,
     "metadata": {},
     "output_type": "execute_result"
    }
   ],
   "source": [
    "stopsearch.groupby('police_force')['t'].apply(lambda t: (max(t)-min(t))/(3600*24)).astype(int).reset_index(name='days')[:5]"
   ]
  },
  {
   "cell_type": "markdown",
   "metadata": {},
   "source": [
    "To simplify the problem, let's restrict attention to a single police force. We'll assume that the data covers all incidents from the earliest date to the latest date present. This assumption should be verified by checking the dataset's original documentation &mdash; and remember, \"absence of evidence is not evidence of absence\"."
   ]
  },
  {
   "cell_type": "code",
   "execution_count": 45,
   "metadata": {},
   "outputs": [],
   "source": [
    "# Count the number of stop-and-search per day, grouped by outcome, for Cambridgeshire police force\n",
    "df = stopsearch.loc[stopsearch['police_force'] == 'cambridgeshire', ['t', 'Outcome']]\n",
    "df['outcome'] = np.where(df['Outcome'] == 'Nothing found - no further action', 'nothing', 'find')\n",
    "df = df.groupby(['t', 'outcome']).apply(len).reset_index(name='n')\n",
    "\n",
    "# Build a new dataframe consisting of all possible combinations of 't' and 'find'\n",
    "# In database language, this is called an 'outer join', and Pandas forces us to do it on a dummy key.\n",
    "alldays = pandas.DataFrame({'t': range(np.min(df['t']), np.max(df['t']), 3600*24)})\n",
    "allfind = pandas.DataFrame({'outcome': ['nothing', 'find']})\n",
    "alldays['k'] = 0\n",
    "allfind['k'] = 0\n",
    "allrows = alldays.merge(allfind, on='k', how='outer')[['t','outcome']]\n",
    "\n",
    "# Merge the dataframe of counts, and the dataframe of all possible rows.\n",
    "# The 'n' column will be filled with NaN for dates/outcomes not present in df, so turn them to 0.\n",
    "df = df.merge(allrows, on=['t','outcome'], how='outer')\n",
    "df['n'] = np.where(pandas.isnull(df['n']), 0, df['n'])\n",
    "\n",
    "# Reshape the dataframe, using merge, so it has one row per date, and columns for each outcome.\n",
    "# (This could also be done by converting a suitable indexed array to a wide-form dataframe.) \n",
    "x = df.loc[df['outcome'] == 'nothing', ['t','n']]\n",
    "y = df.loc[df['outcome'] == 'find', ['t','n']]\n",
    "df = x.merge(y, on='t', suffixes=('_nothing','_find'))"
   ]
  },
  {
   "cell_type": "markdown",
   "metadata": {},
   "source": [
    "## (c) Fancy plots<span id=\"plotting\"></span>\n",
    "\n",
    "If you want to save any of these plots, you can right-click on them in the browser and choose \"save as\", to save a bitmap. To save as PDF,\n",
    "use `plt.savefig(filename, transparent=True, bbox_inches='tight', pad_inches=0)` and then (on Azure Notebooks) choose the `Data | Download` menu option."
   ]
  },
  {
   "cell_type": "markdown",
   "metadata": {},
   "source": [
    "How many stops are there each day by the Cambridgeshire police force, and how any of them result in something being found? The plot below is a _grouped plot_, showing multiple pieces of data. For each piece, we call the usual plot command, and we also provide `label`. This picks a different colour for each piece, and it remembers the association between colours and labels, so that `plt.legend()` can draw the right thing."
   ]
  },
  {
   "cell_type": "code",
   "execution_count": 46,
   "metadata": {},
   "outputs": [
    {
     "data": {
      "image/png": "[encoded data removed]",
      "text/plain": [
       "<matplotlib.figure.Figure at 0x7f0d904da668>"
      ]
     },
     "metadata": {},
     "output_type": "display_data"
    }
   ],
   "source": [
    "# Sort the data by date, because otherwise the plotted lines could go back and forth across the plot\n",
    "df = df.iloc[np.argsort(df['t'])]\n",
    "\n",
    "# Make real date objects, so that matplotlib knows how to format the axis nicely\n",
    "dates = np.vectorize(datetime.datetime.utcfromtimestamp)(df['t'])\n",
    "\n",
    "# A grouped plot\n",
    "with plt.rc_context({'figure.figsize': (16,2.5)}):\n",
    "    plt.plot(dates, df['n_find']+df['n_nothing'], label='stop')\n",
    "    plt.plot(dates, df['n_find'], label='find')\n",
    "plt.legend()\n",
    "plt.show()"
   ]
  },
  {
   "cell_type": "markdown",
   "metadata": {},
   "source": [
    "Let's next look at police activity by day of the week, as measured by average number of stop-and-search events, and let's also show the variability as measured by the standard deviation. This involves computing two summaries of the data, combining them, and plotting the result.\n",
    "\n",
    "In this code I'm doing my own arithmetic on timestamps to get day of week. I find it's easier to do a little bit of arithmetic than to wade through library documentation about datetime utility functions."
   ]
  },
  {
   "cell_type": "code",
   "execution_count": 47,
   "metadata": {},
   "outputs": [
    {
     "data": {
      "image/png": "[encoded data removed]",
      "text/plain": [
       "<matplotlib.figure.Figure at 0x7f0d904ade10>"
      ]
     },
     "metadata": {},
     "output_type": "display_data"
    }
   ],
   "source": [
    "# Compute the weekday for each row.\n",
    "# Timestamp is measured in seconds since Thu 1970-01-01 00:00, so this computation gives me 0=Mon, 1=Tue, ...\n",
    "df['weekday'] = (df['t']//(24*3600) - 4) % 7\n",
    "weekday_names = ['Mon','Tue','Wed','Thu','Fri','Sat','Sun']\n",
    "\n",
    "# The previous plot suggests there's a change in policing after 2016-09,\n",
    "# so let's restrict attention to that range \n",
    "df['stops'] = df['n_find'] + df['n_nothing']\n",
    "t0 = datetime.datetime.strptime('2016-10-01', '%Y-%m-%d').replace(tzinfo=pytz.utc).timestamp()\n",
    "df2 = df.loc[df['t'] >= t0]\n",
    "\n",
    "# Compute the two statistics we want to plot: mean and standard deviation of number of stops\n",
    "x = df2.groupby('weekday')['stops'].apply(np.mean).reset_index(name='mean_stops')\n",
    "y = df2.groupby('weekday')['stops'].apply(np.std).reset_index(name='sd_stops')\n",
    "stats = x.merge(y, on='weekday')\n",
    "\n",
    "# A bar plot with error bars\n",
    "plt.bar(stats['weekday'], stats['mean_stops'], align='center', facecolor='wheat')\n",
    "plt.errorbar(stats['weekday'], stats['mean_stops'], yerr=stats['sd_stops'], linestyle='None', ecolor='black')\n",
    "plt.xticks(range(0,7), weekday_names)\n",
    "plt.ylabel('num stopped')\n",
    "plt.show()"
   ]
  },
  {
   "cell_type": "markdown",
   "metadata": {},
   "source": [
    "Our final plot is called a _facet plot_ or a _panel plot_ or a _small multiples_ plot. [According to the plotting guru Edward Tufte](https://en.wikipedia.org/wiki/Small_multiple),\n",
    "\n",
    "> At the heart of quantitative reasoning is a single question: Compared to what? Small multiple designs, multivariate and data bountiful,\n",
    "> answer directly by visually enforcing comparisons of changes, of the differences among objects, of the scope of alternatives. For a wide\n",
    "> range of problems in data presentation, small multiples are the best design solution.\n",
    "\n",
    "Let's plot a histogram for each day of the week, showing the distribution of the number of stops made."
   ]
  },
  {
   "cell_type": "code",
   "execution_count": 34,
   "metadata": {
    "scrolled": false
   },
   "outputs": [
    {
     "data": {
      "image/png": "[encoded data removed]",
      "text/plain": [
       "<matplotlib.figure.Figure at 0x7f588db59080>"
      ]
     },
     "metadata": {},
     "output_type": "display_data"
    }
   ],
   "source": [
    "with plt.rc_context({'figure.figsize': (8,5), 'figure.subplot.hspace': 0.35}):\n",
    "\n",
    "    # Get a colour map with 7 pretty colours: see https://matplotlib.org/users/colormaps.html\n",
    "    cols = plt.get_cmap('Set2', 7)\n",
    "\n",
    "    fig = plt.figure()\n",
    "    for i, weekday in enumerate(range(7)):\n",
    "        # Create a new facet\n",
    "        ax = fig.add_subplot(3, 3, i+1)\n",
    "\n",
    "        # Plot the histogram. Force the x-axis bins and y-axis range to be identical in each facet\n",
    "        ax.hist(df2.loc[df2['weekday']==weekday, 'stops'], alpha=.6, facecolor=cols(i), bins=range(15))\n",
    "        ax.set_ylim(0,15)\n",
    "\n",
    "        # Some annotations.\n",
    "        # Suppress the tick labels, except on the outside facets.\n",
    "        ax.axvline(x=np.median(df2['stops']), linestyle='dotted', color='.3')\n",
    "        ax.set_title(weekday_names[weekday])\n",
    "        if i < 4: ax.set_xticklabels([])\n",
    "        if (i % 3) != 0: ax.set_yticklabels([])\n",
    "\n",
    "fig.suptitle('Number of stops')\n",
    "plt.show()"
   ]
  },
  {
   "cell_type": "markdown",
   "metadata": {},
   "source": [
    "There are two ways to generate a facet plot.\n",
    "\n",
    "* When we want facets for one variable, as is the case here for the variable `weekday`, use [`ax = fig.add_subplot(nrows, ncols, i)`](https://matplotlib.org/api/figure_api.html#matplotlib.figure.Figure.add_subplot) to add facets one by one. This creates a new facet in position `i`, from a `nrows * ncols` grid arrangement.\n",
    "* When we want facets for two variables, use [`fig,ax_array = plt.subplots(nrows,ncols)`](https://matplotlib.org/examples/pylab_examples/subplots_demo.html), as in\n",
    "[these demos](https://matplotlib.org/examples/pylab_examples/subplots_demo.html), to create a full grid of facets in one go.\n",
    "\n",
    "Previously we have used commands like `plt.hist()` to draw histograms, but this code uses `ax.hist()` where `ax` is an `Axes` object. All the matplotlib `plt.*` plotting routines are actually [`Axes` methods](https://matplotlib.org/api/axes_api.html), and the `plt.*` names are just aliases. \n",
    "For a plot with a single facet, you can use either style."
   ]
  }
 ],
 "metadata": {
  "kernelspec": {
   "display_name": "Python 3",
   "language": "python",
   "name": "python3"
  },
  "language_info": {
   "codemirror_mode": {
    "name": "ipython",
    "version": 3
   },
   "file_extension": ".py",
   "mimetype": "text/x-python",
   "name": "python",
   "nbconvert_exporter": "python",
   "pygments_lexer": "ipython3",
   "version": "3.6.3"
  }
 },
 "nbformat": 4,
 "nbformat_minor": 2
}
