{
 "cells": [
  {
   "cell_type": "markdown",
   "metadata": {},
   "source": [
    "# A1. Python language choices"
   ]
  },
  {
   "cell_type": "markdown",
   "metadata": {},
   "source": [
    "<div class=\"alert alert-warning\">**Goal of this notebook:**\n",
    "See how Python fits in with the ideas you learnt in IA _Concepts in programming languages_ and _Object oriented programming_.\n",
    "</div>"
   ]
  },
  {
   "cell_type": "markdown",
   "metadata": {},
   "source": [
    "Python development documents are called [_Python Enhancement Proposals_ (PEPs)](https://www.python.org/dev/peps/). Significant changes in the language, or in the standard libraries, are discussed in mailing lists and written up for review as a PEP. PEPs typically suggest several ways a feature might be implemented, and give the reason for choosing one of them. If consensus is not reached to accept the PEP, then the reasons for its rejection are also documented. They are fascinating reading if you are interested in programming language design.\n",
    "\n",
    "The PEPs are a lot of reading, and so this document is a quick summary of certain features of Python and how they relate to ML and Java."
   ]
  },
  {
   "cell_type": "markdown",
   "metadata": {},
   "source": [
    "## A1.1 Dynamic typing\n",
    "\n",
    "Consider the functions\n",
    "```\n",
    "def double_items(xs): \n",
    "    return [x*2 for x in xs]\n",
    "def goodfunc():\n",
    "    return double_items([1,2,[3,4]]) + double_items(\"hello world\")\n",
    "def badfunc():\n",
    "    return double_items(10)\n",
    "```\n",
    "Python uses _dynamic typing_, which means that values are tagged with their types during execution and checked only then.\n",
    "then we won't be told of any errors until `badfunc()` is invoked, even though it's clear before executing it that `badfunc` will fail.\n",
    "\n",
    "Python programmers are encouraged to use _duck typing_, which means that you should test values for what they can do rather than what they're tagged as. \"If it walks like a duck, and it quacks like a duck, then it's a duck\". In this example, `double_items(l)` iterates through `xs` and applies `*2` to every element, so it should apply to any `xs` that supports iteration and whose elements all support `*2`. These mean different things: iterating over a list returns its elements while iterating over a string returns its characters; doubling a number is an arithmetical operation, doubling a string or list repeats it.\n",
    "Python does allow you to test the type of a value with e.g. `if isinstance(x, list): ...`, but programmers are encouraged not to do this. \n",
    "\n",
    "Python's philosophy is that library designers are providing a service, and programmers are adults. If a library function uses comparison and addition, and if the end-user programmer invents a new class that supports comparison and addition, then why on earth shouldn't the programmer be allowed to use the library function? (I've found this useful for simulators: I replaced \"real-valued timestamp\" with \"rich timestamp class that supports auditing, listing which events depended on which other events\", and I didn't have to change a single line of the simulator body.) Some statically typed languages like Haskell and Scala support this via _dynamic type classes_, but their syntax is rather heavy.\n",
    "\n",
    "To make duck typing useful, Python has a long list of [special method names](https://docs.python.org/3/reference/datamodel.html#special-method-names) so that you can create custom classes supporting the same operations as numbers, or as lists, or as dictionaries. For example, if you define a new class with the method [`__iter__`](https://docs.python.org/3/reference/datamodel.html#object.__iter__) then your new class can be iterated over just like a list."
   ]
  },
  {
   "cell_type": "markdown",
   "metadata": {},
   "source": [
    "### Example: trees\n",
    "Suppose we want to define a tree whose leaves are integers and whose branches can have an arbitrary number of children. Actually, in Python, there's nothing to define: we can just start using it, using a list to denote a branch node.\n",
    "```\n",
    "x = [1,[[2,4,3],9],[5,[6,7],8]]\n",
    "```\n",
    "To flatten a list like this we can use duck typing: given a node `n`, try to iterate over its children, and if this fails then the node must be a leaf so just return `[n]`.\n",
    "```\n",
    "def flatten(n):\n",
    "    try:\n",
    "        return [y for child in n for y in flatten(child)]\n",
    "    except TypeError as e:\n",
    "        return [n]\n",
    "flatten(x)  # returns [1, 2, 4, 3, 9, 5, 6, 7, 8]\n",
    "```\n",
    "This would work perfectly well for trees containing arbitrary types &mdash; unless the end-user programmer puts in leaves which are themselves iterable, in which case the duck typing test doesn't work &mdash; unless that is the user's intent all along, to be able to attach new custom sub-branches...\n",
    "\n",
    "A solution is to define a custom class for branch nodes, and use `isinstance` to test each element to see if it's a branch node. This is not very different to the ML solution, which is to declare nodes to be of type \"either leaf or branch\" &mdash; except that Python would still allow leaves of arbitrary mixed type."
   ]
  },
  {
   "cell_type": "markdown",
   "metadata": {},
   "source": [
    "## A1.2 None, Maybe, Enumeration types\n",
    "\n",
    "It's often handy for functions to be able to return either a value, or a marker that there is no value. For example, `head(list)` should return a value unless the list is empty in which case there's nothing to return. A common pattern in statically typed languages is to have a datatype that explicitly supports this, for example we'd define `head` to return an enumeration datatype with a constructor function, `None | Some['a]`. This forces everyone who uses `head` to check whether or not the answer is `None`.\n",
    "\n",
    "In Python, the return type of a function isn't constrained. It's a common convention to return `None` if you have nothing to return, and a value otherwise, and to trust that the person who called you will do the appropriate checks.\n",
    "\n",
    "Enumeration types are also used for general type restriction, e.g. to limit what can be placed in a list.\n",
    "When we actually do want to achieve this, Python isn't much help. It does have an [add-on library for enumeration types](https://docs.python.org/3/library/enum.html), but it's a lot of work for little benefit.\n",
    "\n",
    "One situation where enumeration types are very useful is when working with categorical values in data [Section 3](3.%20Working%20with%20data.ipynb). When working with data, the levels of the enumeration are decided at runtime (by the contents of the data we load in), so a compile-time type annotation is no use; but Python's dynamic typing is also no help in preventing errors."
   ]
  },
  {
   "cell_type": "markdown",
   "metadata": {},
   "source": [
    "## A1.3 Functions as values\n",
    "\n",
    "In Python, as in ML, functions are values. A common pattern is to define functions that return parameterized functions, e.g.\n",
    "```\n",
    "def percentile(p):\n",
    "    def f(xs):\n",
    "        return xs[int(p*len(xs))]\n",
    "    return f\n",
    "```\n",
    "I can define `median = percentile(.5)` and `lower_quartile = percentile(.25)`, and then apply `median` and `lower_quartile` to lists. The thing returned by `percentile` is a function `f` which also remembers the value `p`; this 'function plus variables it needs' is called a _closure_. In Python, the outer function is called a `decorator`.\n",
    "\n",
    "In Python web servers, it's common to define decorators for purposes like user authentication, cross-site scripting checks, etc."
   ]
  },
  {
   "cell_type": "markdown",
   "metadata": {},
   "source": [
    "## A1.4 Lists, lazy lists and generators<span id=\"lazy\"></span>\n",
    "Python has lists and lazy lists, which it calls _generators_. The simplest way to define a generator is like a list comprehension, but using `($\\cdot$)` rather than `[$\\cdot$]`. Consider the following code:\n",
    "```\n",
    "def f(x):\n",
    "    if x == 5:\n",
    "        raise Exception(\"Bad value!\")\n",
    "    else:\n",
    "        return x + 1\n",
    "\n",
    "xs = range(10)\n",
    "ys = (f(x) for x in xs)   # doesn't raise exception\n",
    "zs = [f(x) for x in xs]   # raises exception\n",
    "```\n",
    "\n",
    "This code raises an exception on the last line. The preceding line doesn't, because `ys` is a lazy list, not evaluated until you need it. We could for example pull out the first three values of `ys` by\n",
    "```\n",
    "[next(ys) for _ in range(3)]\n",
    "```\n",
    "and no exception would be raised because we haven't hit the bad value. (Here, `_` is a variable name, like any other. It's a convention to use `_` for loop variables that you don't use for anything.)\n",
    "\n",
    "Python also has a simple syntax for defining infinite lazy lists, using the `yield`. For example,\n",
    "```\n",
    "def fib():\n",
    "    a,b = 1,1\n",
    "    while True:\n",
    "       yield a\n",
    "       a,b = b, a+b\n",
    "       \n",
    "f = fib()\n",
    "[next(f) for _ in range(20)]  # produces the first 20 Fibonnaci numbers\n",
    "```\n",
    "This is like a closure, but richer: the `f` object remembers not only the variables `a` and `b` in its scope, but also the point where it should resume when next `next(f)` is called."
   ]
  },
  {
   "cell_type": "markdown",
   "metadata": {},
   "source": [
    "## A1.5 Object-oriented programming\n",
    "\n",
    "Python is an object-oriented programming language. Every value is an object. You can see the class of an object by calling `x.__class__`. For example,\n",
    "```\n",
    "x = 10\n",
    "x.__class__  # reports int\n",
    "dir(x)       # gives a list of x's methods and attributes\n",
    "```\n",
    "It supports inheritance and multiple inheritance, and static methods, and class variables, and so on. It doesn't support interfaces, because they don't make sense in a duck typing language.\n",
    "\n",
    "Here's a quick look at a Python object, and at how it might be used for the `flatten` function earlier.\n",
    "```\n",
    "class Branch(object):\n",
    "    def __init__(self, children):\n",
    "        self.children = children\n",
    "\n",
    "def flatten(n):\n",
    "    if isinstance(n, Branch):\n",
    "        return [y for child in n.children for y in flatten(child)]\n",
    "    else:\n",
    "        return [n]\n",
    "\n",
    "x = Branch([10,Branch([3,2]),\"hello\"])\n",
    "flatten(x)\n",
    "\n",
    "y = Branch([])\n",
    "y.my_label = \"added an attribute\"\n",
    "```\n",
    "Every method takes as its first argument a variable referring to the current object, `this` in Java.\n",
    "\n",
    "The last two lines are surprising. You can \"monkey patch\" an object, after it has been created, to change its attributes or give it new attributes. Like so many language features in Python, this is sometimes tremendously handy, and sometimes the source of infuriating bugs.\n",
    "\n",
    "Python doesn't support private and protected access modifiers, except by convention. The convention is that attributes and functions whose name beings with an underscore are considered private,\n",
    "and may be changed in future versions of the library."
   ]
  }
 ],
 "metadata": {
  "kernelspec": {
   "display_name": "Python 3",
   "language": "python",
   "name": "python3"
  },
  "language_info": {
   "codemirror_mode": {
    "name": "ipython",
    "version": 3
   },
   "file_extension": ".py",
   "mimetype": "text/x-python",
   "name": "python",
   "nbconvert_exporter": "python",
   "pygments_lexer": "ipython3",
   "version": "3.6.3"
  }
 },
 "nbformat": 4,
 "nbformat_minor": 2
}
