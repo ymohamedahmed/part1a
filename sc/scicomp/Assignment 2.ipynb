{
 "cells": [
  {
   "cell_type": "code",
   "execution_count": 44,
   "metadata": {},
   "outputs": [
    {
     "name": "stdout",
     "output_type": "stream",
     "text": [
      "Waiting for you to log in ... done.\n"
     ]
    }
   ],
   "source": [
    "!pip install ucamcl --upgrade\n",
    "import ucamcl\n",
    "GRADER = ucamcl.autograder('https://markmy.solutions', course='scicomp', section='assignment2a')\n",
    "# paste in whatever section is appropriate for the section of notes / assignment you're working on"
   ]
  },
  {
   "cell_type": "code",
   "execution_count": 41,
   "metadata": {},
   "outputs": [],
   "source": [
    "# Import modules, and give them short aliases so we can write e.g. np.foo rather than numpy.foo\n",
    "import numpy as np\n",
    "import pandas\n",
    "import matplotlib\n",
    "import matplotlib.pyplot as plt\n",
    "# The next line is a piece of magic, to let plots appear in our Jupyter notebooks\n",
    "%matplotlib inline "
   ]
  },
  {
   "cell_type": "markdown",
   "metadata": {
    "collapsed": true
   },
   "source": [
    "# Assignment 2. Econophysics simulator\n",
    "\n",
    "Economic inequality is one of the defining social issues of our age. Yet we have a poor grasp of the scale of inequality,\n",
    "as [described in Scientific American](https://www.scientificamerican.com/article/economic-inequality-it-s-far-worse-than-you-think/) \n",
    "and nicely shown in [this video](https://www.youtube.com/watch?v=QPKKQnijnsM):\n",
    "[<img src=\"res/inequality.png\" style=\"height:16em\">](https://www.youtube.com/watch?v=QPKKQnijnsM)\n",
    "\n",
    "How does inequality arise? Is it an inevitable outcome of liberal economics, and if so how can it be  mitigated by economic policy? These questions [have been studied by economists](https://link.springer.com/article/10.1140/epjst/e2016-60162-3) and more recently \n",
    "[by](https://phys.org/news/2007-04-world-economies-similarities-economic-inequality.html)\n",
    "[physicists](https://arxiv.org/abs/1606.06051).\n",
    "In this assignment you will investigate a simple \"econophysics\" model of inequality. The notes for [&sect;2](2.%20Numerical%20computation.ipynb) suggest ways to take the investigation further."
   ]
  },
  {
   "cell_type": "markdown",
   "metadata": {},
   "source": [
    "<div class=\"alert alert-warning\">**About this assignment:** This assignment tests your vectorized thinking. You will be asked to run simulations on a population of hundreds of thousands of individuals, over many timesteps. Your code _must_ use NumPy vectorized operations rather than iterating over the population. You may use Python iteration over timesteps.\n",
    "You can organize your code however you like. Please create a new notebook for your answers to this assignment.\n",
    "</div>"
   ]
  },
  {
   "cell_type": "markdown",
   "metadata": {},
   "source": [
    "# Part A: kinetic exchange model\n",
    "This section is worth 1 mark. Check your answers as described in \n",
    "[&sect;0.3](0.%20About%20this%20course.ipynb#grader) using `section='assignment2a'`."
   ]
  },
  {
   "cell_type": "markdown",
   "metadata": {},
   "source": [
    "Here is a simple model. There are $N$ individuals in the population, each with an initial wealth of &pound;1. Every timestep, we randomly group them into $N/2$ pairs. (Assume $N$ is even.) For every pair, we simulate an economic exchange, as follows. Let the two paired individuals have wealth $v$ and $w$, and update their wealth according to\n",
    "$$\n",
    "v_{\\text{new}} = R(v+w),\n",
    "\\quad\n",
    "w_{\\text{new}} = (1-R)(v+w)\n",
    "$$\n",
    "where $R$ is a random number in $[0,1]$, chosen independently for every pair and at every timestep.\n",
    "This model is loosely inspired by the physics of gases, in which two gas molecules exchange a random amount of energy whenever they collide.\n",
    "\n",
    "We can measure inequality with the [Gini coefficient](https://en.wikipedia.org/wiki/Gini_coefficient),\n",
    "$$\n",
    "G = 2\\frac{\\sum_{i=1}^N i\\, w_{(i)}}{N \\sum_i w_{(i)}} - \\Big(1 + \\frac{1}{N}\\Bigr)\n",
    "$$\n",
    "where $w_{(1)}$ is the smallest value, $w_{(2)}$ the second smallest etc. If everyone has the same wealth then $G=0$; if one person has all the wealth then $G=1-1/N$."
   ]
  },
  {
   "cell_type": "markdown",
   "metadata": {},
   "source": [
    "**Question 1.** The model needs us to randomly group the population into $N/2$ pairs. \n",
    "We can do this by randomly permuting the vector $[0,...,N-1]$, letting the vector `m1` consist of the first $N/2$ integers and `m2` consist of the rest, and interpreting it as \"`m1[i]` is paired with `m2[i]`\".\n",
    "\n",
    "Write a function `pairs(N)` that returns a tuple `(m1,m2)` where `m1` and `m2` are both vectors of length $N/2$ as described above. For example, if you run `pairs(6)`, you might get the output\n",
    "\n",
    "> `(array[(3, 0, 1]), array([2, 4, 5]))`\n",
    "\n",
    "```\n",
    "# Submitting your answer:\n",
    "q = GRADER.fetch_question('q1')\n",
    "m1,m2 = pairs(q.n)\n",
    "ans = {'n': len(np.unique(np.concatenate([m1,m2]))), 's': np.std(np.abs(m1-m2))}\n",
    "GRADER.submit_answer(q, ans)\n",
    "```"
   ]
  },
  {
   "cell_type": "code",
   "execution_count": 8,
   "metadata": {},
   "outputs": [
    {
     "name": "stdout",
     "output_type": "stream",
     "text": [
      "[ 197 2728 5664 ..., 8603 8680 5076]\n",
      "Correct!\n"
     ]
    },
    {
     "data": {
      "text/plain": [
       "(True, {'n': 10326, 's': 2433.1965341514333})"
      ]
     },
     "execution_count": 8,
     "metadata": {},
     "output_type": "execute_result"
    }
   ],
   "source": [
    "q = GRADER.fetch_question('q1')\n",
    "m1,m2 = pairs(q.n)\n",
    "ans = {'n': len(np.unique(np.concatenate([m1,m2]))), 's': np.std(np.abs(m1-m2))}\n",
    "GRADER.submit_answer(q, ans)"
   ]
  },
  {
   "cell_type": "code",
   "execution_count": 56,
   "metadata": {},
   "outputs": [],
   "source": [
    "def pairs (n):\n",
    "    a = np.random.permutation(n)\n",
    "    return (a[:n//2],a[n//2:])"
   ]
  },
  {
   "cell_type": "markdown",
   "metadata": {},
   "source": [
    "**Question 2.** Write a function `kinetic_exchange(v,w)` which takes two wealth vectors `v` and `w`, each of length $N/2$, and returns a tuple `(vnew, wnew)` with two new vectors, according to the kinetic exchange model.\n",
    "```\n",
    "# Submitting your answer:\n",
    "q = GRADER.fetch_question('q2')\n",
    "v,w = np.linspace(1,5,q.n), np.linspace(1,2,q.n)**q.p\n",
    "vnew,wnew = kinetic_exchange(v,w)\n",
    "ans = {'m1': np.mean(vnew), 's2': np.std(wnew)}\n",
    "GRADER.submit_answer(q, ans)\n",
    "```"
   ]
  },
  {
   "cell_type": "code",
   "execution_count": 12,
   "metadata": {},
   "outputs": [
    {
     "name": "stdout",
     "output_type": "stream",
     "text": [
      "Correct!\n"
     ]
    },
    {
     "data": {
      "text/plain": [
       "(True, {'m1': 2.4230207992699953, 's2': 1.6975230537033505})"
      ]
     },
     "execution_count": 12,
     "metadata": {},
     "output_type": "execute_result"
    }
   ],
   "source": [
    "q = GRADER.fetch_question('q2')\n",
    "v,w = np.linspace(1,5,q.n), np.linspace(1,2,q.n)**q.p\n",
    "vnew,wnew = kinetic_exchange(v,w)\n",
    "ans = {'m1': np.mean(vnew), 's2': np.std(wnew)}\n",
    "GRADER.submit_answer(q, ans)"
   ]
  },
  {
   "cell_type": "code",
   "execution_count": 11,
   "metadata": {},
   "outputs": [],
   "source": [
    "def kinetic_exchange(v,w):\n",
    "    length = len(w)\n",
    "    r = np.random.rand(length)\n",
    "    return (r*(v+w), (1-r)*(v+w))"
   ]
  },
  {
   "cell_type": "markdown",
   "metadata": {},
   "source": [
    "**Question 3.** Write a function `gini(w)` which takes a vector `w` and returns the Gini coefficient.\n",
    "```\n",
    "# Submitting your answer:\n",
    "q = GRADER.fetch_question('q3')\n",
    "w = np.linspace(0,1,q.n)**q.p\n",
    "g = gini(w)\n",
    "GRADER.submit_answer(q, {'g': g})\n",
    "```"
   ]
  },
  {
   "cell_type": "code",
   "execution_count": 57,
   "metadata": {},
   "outputs": [
    {
     "name": "stdout",
     "output_type": "stream",
     "text": [
      "Correct!\n"
     ]
    },
    {
     "data": {
      "text/plain": [
       "(True, {'g': 0.2395640107907515})"
      ]
     },
     "execution_count": 57,
     "metadata": {},
     "output_type": "execute_result"
    }
   ],
   "source": [
    "q = GRADER.fetch_question('q3')\n",
    "w = np.linspace(0,1,q.n)**q.p\n",
    "g = gini(w)\n",
    "GRADER.submit_answer(q, {'g': g})"
   ]
  },
  {
   "cell_type": "code",
   "execution_count": 58,
   "metadata": {},
   "outputs": [],
   "source": [
    "def gini(w):\n",
    "    a = np.sort(w)\n",
    "    numer = 0\n",
    "    denom = 0\n",
    "    N = len(w)\n",
    "    for i in range(1,N+1):\n",
    "        numer = numer + (i * a[i-1])\n",
    "        denom = denom + (a[i-1])\n",
    "    G = (2*numer)/(N*denom) - 1-(1/N)\n",
    "    return G"
   ]
  },
  {
   "cell_type": "markdown",
   "metadata": {},
   "source": [
    "**Question 4.** Write a function `sim(N, T)` which runs the kinetic exchange model on a population of $N$ individuals for $T$ timesteps. It should return a pair `(w, gs)` where `w` is the wealth vector after $T$ timesteps, and `gs` is a length $T$ vector where `gs[i]` is the Gini coefficient at timestep $i$.\n",
    "```\n",
    "# Submitting your answer:\n",
    "q = GRADER.fetch_question('q4')\n",
    "w,gs = sim(q.n, q.t)\n",
    "ans = {'gm': np.mean(gs[int(q.t/2):]), 'gs': np.std(gs[int(q.t/2):]), 'ws': np.std(w)}\n",
    "GRADER.submit_answer(q, ans)\n",
    "```"
   ]
  },
  {
   "cell_type": "code",
   "execution_count": 69,
   "metadata": {},
   "outputs": [
    {
     "name": "stdout",
     "output_type": "stream",
     "text": [
      "Correct!\n"
     ]
    },
    {
     "data": {
      "text/plain": [
       "(True,\n",
       " {'gm': 0.490426630799237,\n",
       "  'gs': 0.005663914005028157,\n",
       "  'ws': 0.9916624857500047})"
      ]
     },
     "execution_count": 69,
     "metadata": {},
     "output_type": "execute_result"
    }
   ],
   "source": [
    "q = GRADER.fetch_question('q4')\n",
    "w,gs = sim(q.n, q.t)\n",
    "ans = {'gm': np.mean(gs[int(q.t/2):]), 'gs': np.std(gs[int(q.t/2):]), 'ws': np.std(w)}\n",
    "GRADER.submit_answer(q, ans)"
   ]
  },
  {
   "cell_type": "code",
   "execution_count": 68,
   "metadata": {},
   "outputs": [],
   "source": [
    "def sim(N,T):\n",
    "    w = np.ones(N)\n",
    "    gs = np.ones(T)\n",
    "    for t in range(T):\n",
    "        gs[t] = gini(w)\n",
    "        a,b = pairs(N)\n",
    "        w[a],w[b] = kinetic_exchange(w[a],w[b])\n",
    "    return (w,gs)"
   ]
  },
  {
   "cell_type": "markdown",
   "metadata": {},
   "source": [
    "**Question 5.** Simulate a population of 500,000 over 30 iterations. Plot the Gini coefficient as a function of timestep. (You don't have to submit your plot, but it may be assessed in the ticking session.) Your plot should look something like this:\n",
    "![gini coefficient](res/ass2_q5.png)"
   ]
  },
  {
   "cell_type": "code",
   "execution_count": 70,
   "metadata": {},
   "outputs": [
    {
     "name": "stdout",
     "output_type": "stream",
     "text": [
      "[  5.75114195e-17]\n"
     ]
    }
   ],
   "source": [
    "w,gs = sim(500000, 1)\n",
    "print(gs)"
   ]
  },
  {
   "cell_type": "code",
   "execution_count": 72,
   "metadata": {},
   "outputs": [
    {
     "data": {
      "image/png": "[encoded data removed]",
      "text/plain": [
       "<matplotlib.figure.Figure at 0x7f3f751a4908>"
      ]
     },
     "metadata": {},
     "output_type": "display_data"
    }
   ],
   "source": [
    "w,gs = sim(500000,30)\n",
    "plt.plot(gs)\n",
    "plt.xlabel('timestep')\n",
    "plt.title('Gini coefficient')\n",
    "plt.show()"
   ]
  },
  {
   "cell_type": "markdown",
   "metadata": {},
   "source": [
    "# Part B: economic mobility\n",
    "This section is worth 1 mark. Check your answers as described in \n",
    "[&sect;0.3](0.%20About%20this%20course.ipynb#grader) using `section='assignment2b'`."
   ]
  },
  {
   "cell_type": "code",
   "execution_count": 180,
   "metadata": {
    "scrolled": true
   },
   "outputs": [
    {
     "name": "stdout",
     "output_type": "stream",
     "text": [
      "Waiting for you to log in ... done.\n"
     ]
    }
   ],
   "source": [
    "!pip install ucamcl --upgrade\n",
    "import ucamcl\n",
    "GRADER = ucamcl.autograder('https://markmy.solutions', course='scicomp', section='assignment2b')\n",
    "# paste in whatever section is appropriate for the section of notes / assignment you're working on"
   ]
  },
  {
   "cell_type": "markdown",
   "metadata": {},
   "source": [
    "Some degree of inequality might be acceptable if economic mobility were high, i.e. if everyone had similar chances of reaching either end of the wealth distribution. Economic mobility is often measured by splitting the population into five equal brackets, and measuring the chance of moving between brackets. From the [Wikipedia article on economic mobility](https://en.wikipedia.org/wiki/Economic_mobility):\n",
    "\n",
    "> in terms of relative mobility [a report](https://www.brookings.edu/research/economic-mobility-of-families-across-generations/) stated: \"contrary to American beliefs about\n",
    "> equality of opportunity, a child’s economic position is heavily influenced by that of his\n",
    "> or her parents.\" 42% of children born to parents in the bottom fifth of the income\n",
    "> distribution (\"quintile\") remain in the bottom, while 39% born to parents in the top fifth\n",
    "> remain at the top.\n",
    "\n",
    "Let's measure economic mobility by recording the wealth distribution at one timepoint, and again some number of timesteps later, splitting the two distributions into quintiles, and counting what fraction of the population moved by more than one quintile from beginning to end. (In each timestep a median individual might find their wealth increasing or decreasing by around 50%, so one timestep corresponds roughly to several years of human life.) For example, if we have a population of 5000 and we draw up a matrix $A$ where $A_{i j}$ is the number of people who start in quintile $i$ and end up in quintile $j$, we might get\n",
    "$$\n",
    "A = \\left( \\begin{matrix}\n",
    "344& 313& 243& 100&   0\\\\\n",
    "266& 261& 302& 167&   4\\\\\n",
    "212& 260& 225& 272&  31\\\\\n",
    "147& 143& 183& 331& 196\\\\\n",
    " 31&  23&  47& 130& 769\n",
    "\\end{matrix} \\right)\n",
    "$$\n",
    "(A quick check: the row sums and column sums are all 1000.) The number who moved by more than one quintile is 1148, which is 23% of the population."
   ]
  },
  {
   "cell_type": "markdown",
   "metadata": {
    "collapsed": true
   },
   "source": [
    "**Question 6.** In a perfectly mobile economy, where everyone has equal chance of reaching any quintile, what fraction of people are expected to move by more than one quintile?\n",
    "```\n",
    "q = GRADER.fetch_question('q6')\n",
    "GRADER.submit_answer(q, your_answer)\n",
    "```"
   ]
  },
  {
   "cell_type": "code",
   "execution_count": 99,
   "metadata": {},
   "outputs": [
    {
     "name": "stdout",
     "output_type": "stream",
     "text": [
      "Correct!\n"
     ]
    },
    {
     "data": {
      "text/plain": [
       "(True, 0.48)"
      ]
     },
     "execution_count": 99,
     "metadata": {},
     "output_type": "execute_result"
    }
   ],
   "source": [
    "q = GRADER.fetch_question('q6')\n",
    "a = 0\n",
    "#Probability of being in a particular quintile\n",
    "p = 0.2\n",
    "#For a quintile, number of ways they can move by more\n",
    "#than one quintile\n",
    "n = [3,2,2,2,3]\n",
    "\n",
    "for i in range(5):\n",
    "    a = a + (p*p*n[i])\n",
    "    \n",
    "GRADER.submit_answer(q, a)"
   ]
  },
  {
   "cell_type": "markdown",
   "metadata": {},
   "source": [
    "**Question 7.** Write a function `mobility(v,w)` that returns the proportion of people who moved by more than one quintile, where `v[i]` and `w[i]` measure respectively the wealth of individual $i$ at the beginning and end of a time period. Hint: look up [`np.percentile`](https://docs.scipy.org/doc/numpy/reference/generated/numpy.percentile.html#numpy.percentile) and [`np.digitize`](https://docs.scipy.org/doc/numpy/reference/generated/numpy.digitize.html). \n",
    "```\n",
    "# Submitting your answer:\n",
    "q = GRADER.fetch_question('q7')\n",
    "v,w = np.arange(q.n)**q.a, np.arange(q.n)**q.a * np.random.random(q.n)\n",
    "GRADER.submit_answer(q, mobility(v,w))\n",
    "```"
   ]
  },
  {
   "cell_type": "code",
   "execution_count": 119,
   "metadata": {},
   "outputs": [
    {
     "name": "stdout",
     "output_type": "stream",
     "text": [
      "Correct!\n"
     ]
    },
    {
     "data": {
      "text/plain": [
       "(True, 0.2778335597424842)"
      ]
     },
     "execution_count": 119,
     "metadata": {},
     "output_type": "execute_result"
    }
   ],
   "source": [
    "q = GRADER.fetch_question('q7')\n",
    "v,w = np.arange(q.n)**q.a, np.arange(q.n)**q.a * np.random.random(q.n)\n",
    "GRADER.submit_answer(q, mobility(v,w))"
   ]
  },
  {
   "cell_type": "code",
   "execution_count": 95,
   "metadata": {},
   "outputs": [
    {
     "data": {
      "text/plain": [
       "3.0"
      ]
     },
     "execution_count": 95,
     "metadata": {},
     "output_type": "execute_result"
    }
   ],
   "source": [
    "np.percentile(np.array([1,2,3,4,5]),50)"
   ]
  },
  {
   "cell_type": "code",
   "execution_count": 118,
   "metadata": {},
   "outputs": [],
   "source": [
    "#def mobility(v,w):\n",
    "bins = np.array([1,3,5])\n",
    "x = np.array([2])\n",
    "def mobility(v,w):\n",
    "    total = 0\n",
    "    binsPre = np.array([np.percentile(v,0), np.percentile(v,20), np.percentile(v, 40),\n",
    "                        np.percentile(v,60), np.percentile(v,80), np.percentile(v,100)])\n",
    "    binsPost = np.array([np.percentile(w,0), np.percentile(w,20), np.percentile(w, 40),\n",
    "                        np.percentile(w,60), np.percentile(w,80), np.percentile(w,100)])\n",
    "    for i in range(len(v)):\n",
    "        if(abs(np.digitize(w[i],binsPost) - np.digitize(v[i],binsPre)) > 1):\n",
    "            total = total + 1\n",
    "    return total/(len(v))\n"
   ]
  },
  {
   "cell_type": "markdown",
   "metadata": {
    "collapsed": true
   },
   "source": [
    "**Question 8.** Simulate the kinetic exchange model long enough for it to stabilize, and measure the wealth vector `w0`. Run it $t$ timesteps further, and find the wealth vector `v`, and compute `mobility(w0,v)`. It's up to you to decide how to judge stabilization; you don't have to explain your method but you do have to submit a correct answer.\n",
    "```\n",
    "# Submitting your answer:\n",
    "q = GRADER.fetch_question('q8')\n",
    "# For a population size q.n, measure mobility over q.t timesteps\n",
    "GRADER.submit_answer(q, your_answer)\n",
    "```"
   ]
  },
  {
   "cell_type": "code",
   "execution_count": 121,
   "metadata": {},
   "outputs": [
    {
     "data": {
      "text/plain": [
       "5"
      ]
     },
     "execution_count": 121,
     "metadata": {},
     "output_type": "execute_result"
    }
   ],
   "source": [
    "a = np.array([1,2,3,4,5])\n",
    "b = np.array([2,3,4,5,6])\n",
    "np.sum(b-a)"
   ]
  },
  {
   "cell_type": "code",
   "execution_count": 181,
   "metadata": {},
   "outputs": [
    {
     "name": "stdout",
     "output_type": "stream",
     "text": [
      "stabilisation finished\n",
      "t: 0\n",
      "t: 5\n",
      "Correct!\n"
     ]
    },
    {
     "data": {
      "text/plain": [
       "(True, 0.478927)"
      ]
     },
     "execution_count": 181,
     "metadata": {},
     "output_type": "execute_result"
    }
   ],
   "source": [
    "q = GRADER.fetch_question('q8')\n",
    "# For a population size q.n, measure mobility over q.t timesteps\n",
    "    \n",
    "def simMob(n,t):\n",
    "    mob = np.ones(t)\n",
    "    stab = False\n",
    "    prevW = np.ones(n)\n",
    "    w = np.ones(n)\n",
    "    threshold = n/100\n",
    "    while not stab:\n",
    "        a,b = pairs(n)\n",
    "        w[a],w[b] = kinetic_exchange(prevW[a],prevW[b])\n",
    "        stab = np.sum(abs(w-prevW)) < threshold\n",
    "        prevW = w\n",
    "    w0 = w\n",
    "    v = np.copy(w)\n",
    "    print(\"stabilisation finished\")\n",
    "    for t in range(t):\n",
    "        mob[t] = mobility(w0, v)\n",
    "        if(t % 5 == 0):\n",
    "            print(\"t: \" + str(t))\n",
    "        a,b = pairs(n)\n",
    "        v[a],v[b] = kinetic_exchange(v[a],v[b])       \n",
    "    return mob\n",
    "ans = simMob(q.n, q.t)    \n",
    "GRADER.submit_answer(q, ans[len(ans)-1] )"
   ]
  },
  {
   "cell_type": "markdown",
   "metadata": {},
   "source": [
    "**Question 9.** Compute the social mobility for a population of 500,000 as in Question 8, over a sequence of timesteps. Plot a graph of economic mobility as a function of time. (You don't have to submit your plot, but it may be assessed in the ticking session.) Your plot should look something like this:\n",
    "![mobility](res/ass2_q9.png)"
   ]
  },
  {
   "cell_type": "code",
   "execution_count": 185,
   "metadata": {},
   "outputs": [
    {
     "name": "stdout",
     "output_type": "stream",
     "text": [
      "stabilisation finished\n",
      "t: 0\n",
      "t: 5\n",
      "t: 10\n",
      "t: 15\n",
      "t: 20\n",
      "t: 25\n"
     ]
    },
    {
     "data": {
      "image/png": "[encoded data removed]",
      "text/plain": [
       "<matplotlib.figure.Figure at 0x7f3f75209550>"
      ]
     },
     "metadata": {},
     "output_type": "display_data"
    }
   ],
   "source": [
    "res = simMob(500000,30)\n",
    "plt.plot(res)\n",
    "plt.plot([0,30],[res[len(res)-1], res[len(res)-1]], linestyle='--', color='lightgray', linewidth=1.5)\n",
    "plt.xlabel('timestep')\n",
    "plt.title('Fraction who move by more than one quintile')\n",
    "plt.show()"
   ]
  }
 ],
 "metadata": {
  "kernelspec": {
   "display_name": "Python 3",
   "language": "python",
   "name": "python3"
  },
  "language_info": {
   "codemirror_mode": {
    "name": "ipython",
    "version": 3
   },
   "file_extension": ".py",
   "mimetype": "text/x-python",
   "name": "python",
   "nbconvert_exporter": "python",
   "pygments_lexer": "ipython3",
   "version": "3.6.4"
  }
 },
 "nbformat": 4,
 "nbformat_minor": 2
}
