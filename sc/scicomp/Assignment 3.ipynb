{
 "cells": [
  {
   "cell_type": "markdown",
   "metadata": {},
   "source": [
    "# Assignment 3. Analysis of flood data"
   ]
  },
  {
   "cell_type": "markdown",
   "metadata": {},
   "source": [
    "![Jesus Green lock](res/jesus_green_lock.jpg)\n",
    "\n",
    "This assignment asks you to analyse data provided by the UK Environment Agency concerning flooding. The agency offers an [API for near real-time data](http://environment.data.gov.uk/flood-monitoring/doc/reference) covering:\n",
    "* flood warnings and flood alerts\n",
    "* flood areas which to which warnings or alerts apply\n",
    "* measurements of water levels and flows\n",
    "* information on the monitoring stations providing those measurements\n",
    "\n",
    "In this assignment we will be working with historical data of water level measurements, at several monitoring stations in Cambridge and on the Cam. The dataset is available as a CSV file at [https://teachingfiles.blob.core.windows.net/scicomp/flood.csv](https://teachingfiles.blob.core.windows.net/scicomp/flood.csv). If you go home over Christmas and are worried about flooding, and want to extend these analyses to your home area, see [A3. Data import and cleanup](A3.%20Data%20import%20and%20cleanup.ipynb) for details of how to fetch data from a web API.\n",
    "\n",
    "_Image by [N. Chadwick](http://www.geograph.org.uk/photo/4800494)._"
   ]
  },
  {
   "cell_type": "markdown",
   "metadata": {},
   "source": [
    "<div class=\"alert alert-warning\">**Goal of the assignment.** \n",
    "    This assignment tests your skill at manipulating dataframes and indexed arrays, and your flair at plotting data.\n",
    "    You should use Pandas and numpy operations for data manipulation, rather than <code style=\"background-color:inherit\">for</code> loops,\n",
    "    wherever possible. You can organize your code however you like. Please create a new notebook for your answers to this assignment.\n",
    "</div>"
   ]
  },
  {
   "cell_type": "markdown",
   "metadata": {},
   "source": [
    "# Part A\n",
    "This section is worth 1 mark. Check your answers as described in [&sect;0.3](0.%20About%20this%20course.ipynb#grader) using `section='assignment3a'`."
   ]
  },
  {
   "cell_type": "code",
   "execution_count": 1,
   "metadata": {},
   "outputs": [],
   "source": [
    "# Import modules, and give them short aliases so we can write e.g. np.foo rather than numpy.foo\n",
    "import numpy as np\n",
    "import pandas\n",
    "import matplotlib\n",
    "import matplotlib.pyplot as plt\n",
    "# The next line is a piece of magic, to let plots appear in our Jupyter notebooks\n",
    "%matplotlib inline "
   ]
  },
  {
   "cell_type": "code",
   "execution_count": 2,
   "metadata": {},
   "outputs": [
    {
     "name": "stdout",
     "output_type": "stream",
     "text": [
      "Waiting for you to log in .. done.\n"
     ]
    }
   ],
   "source": [
    "!pip install ucamcl --upgrade\n",
    "import ucamcl\n",
    "GRADER = ucamcl.autograder('https://markmy.solutions', course='scicomp', section='assignment3a')\n",
    "# paste in whatever section is appropriate for the section of notes / assignment you're working on"
   ]
  },
  {
   "cell_type": "markdown",
   "metadata": {},
   "source": [
    "**Question 1.** Import the CSV file and print out a few lines, choosing the lines at random using `np.random.choice`. The file mistakenly includes the village Cam, near Bristol. Remove these rows, and store what's as the variable `flood`. How many rows are left?\n",
    "```\n",
    "# Submit your answer:\n",
    "GRADER.submit_answer(GRADER.fetch_question('q1'), num_rows)\n",
    "```"
   ]
  },
  {
   "cell_type": "markdown",
   "metadata": {},
   "source": [
    "**Question 2.** Complete this table of the number of entries in this dataset for each town and river.\n",
    "\n",
    "|  | Cambridge | Great Shelford | Milton | Weston Bampfylde\n",
    "| -------\n",
    "| **Bin Brook** | 2665 | 0\n",
    "| **River Cam**\n",
    "\n",
    "```\n",
    "# Submit your answer, as an unstacked indexed array:\n",
    "GRADER.submit_answer(GRADER.fetch_question('q2'), your_answer.as_matrix())\n",
    "```"
   ]
  },
  {
   "cell_type": "markdown",
   "metadata": {},
   "source": [
    "**Question 3.** Each measurement station has a unique `measure_id` and `label`. Complete this table of the number of measurement stations for each town and river. Use only the Pandas operations for split-apply-combine, don't use any numpy operations or Python `for` loops or list comprehensions. \n",
    "\n",
    "| | Cambridge | Great Shelford | Milton | Weston Bampylde\n",
    "|-----\n",
    "| **Bin Brook** | 1 | 0\n",
    "| **River Cam**\n",
    "\n",
    "```\n",
    "# Submit your answer. Let your_answer be an unstacked indexed array.\n",
    "GRADER.submit_answer(GRADER.fetch_question('q3'), your_answer.as_matrix())\n",
    "```"
   ]
  },
  {
   "cell_type": "markdown",
   "metadata": {},
   "source": [
    "**Question 4.** \n",
    "Each measurement station has low and high reference levels, in columns `low` and `high`. In this dataset, the reference levels are stored for every measurement, but we can verify that every `measure_id` has a unique pair `(low,high)` with\n",
    "```\n",
    "assert all(flood.groupby(['measure_id','low','high']).apply(len).groupby('measure_id').apply(len) == 1), \"Reference levels non-constant\"\n",
    "```\n",
    "Add a column `norm_value`, by rescaling `value` linearly so that `value=low` correponds to `norm_value=0` and `value=high` corresponds to `norm_value=1`.\n",
    "Use `np.nanpercentile` to find the [_tercile points_](https://en.wiktionary.org/wiki/tercile), the two values that split the entire `norm_value` column into three roughly equal parts.\n",
    "\n",
    "```\n",
    "# Submit your answer:\n",
    "GRADER.submit_answer(GRADER.fetch_question('q4'), [tercile1, tercile2])\n",
    "```"
   ]
  },
  {
   "cell_type": "markdown",
   "metadata": {},
   "source": [
    "**Question 5.** Complete the following dataframe, listing the number of observations in each tercile and the total number of observations per station.\n",
    "\n",
    "| label | norm_value_tercile | n | ntot\n",
    "|----\n",
    "| Bin Brook | low | 19 | 2665\n",
    "| Bin Brook | med | 1653 | 2665\n",
    "| Bin Brook | high | 993 | 2665\n",
    "| Cambridge Jesus Lock | high | 1906 | 2651\n",
    "\n",
    "```\n",
    "# Submit your answer:\n",
    "assert np.array_equal(your_dataframe.columns, ['label','norm_value_tercile','n','ntot']), 'columns are wrong'\n",
    "GRADER.submit_answer(GRADER.fetch_question('q5'), your_dataframe)\n",
    "```\n",
    "<div class=\"alert alert-info\">\n",
    "Update on 2017-12-09: When submitting a dataframe, please make sure that the columns have the names and order shown. The rows can be in any order.\n",
    "</div>"
   ]
  },
  {
   "cell_type": "markdown",
   "metadata": {},
   "source": [
    "**Question 6.** Complete this dataframe listing the fraction of observations in each tercile per station:\n",
    "\n",
    "| label | low | med | high\n",
    "|----\n",
    "| Bin Brook | 0.007 | 0.620 | 0.373\n",
    "| Cambridge | 0.807 | 0.194 | 0.000\n",
    "\n",
    "```\n",
    "# Submit your answer:\n",
    "assert np.array_equal(your_dataframe.columns, ['label','low','med','high']), 'columns are wrong'\n",
    "GRADER.submit_answer(GRADER.fetch_question('q6'), your_dataframe)\n",
    "```"
   ]
  },
  {
   "cell_type": "markdown",
   "metadata": {},
   "source": [
    "**Question 7.** Fill in the rest of this indexed array, giving the `low` and `high` values for each measurement station:\n",
    "\n",
    "| label | ref | |\n",
    "|----\n",
    "| Bin Brook | high | 0.368\n",
    "| | low | 0.057\n",
    "| Cambridge | high | 1.250\n",
    "| | low | 0.141\n",
    "\n",
    "```\n",
    "# Submit your answer. Let your_answer be an indexed array.\n",
    "GRADER.submit_answer(GRADER.fetch_question('q7'), your_answer.reset_index(name='val'))\n",
    "```"
   ]
  },
  {
   "cell_type": "markdown",
   "metadata": {},
   "source": [
    "# Part B\n",
    "This section is worth 1 mark. There is no automated testing of your answers here, but your code may be assessed in the ticking session.\n",
    "\n",
    "You should pay attention to axis ranges, axis labelling, colour schemes, etc. in reproducing the plot, though you shouldn't aim to be pixel-perfect.\n",
    "    You will need to spend time <a href=\"https://stackoverflow.com/questions/tagged/matplotlib\">searching</a> how to control matplotlib plots."
   ]
  },
  {
   "cell_type": "markdown",
   "metadata": {},
   "source": [
    "**Question 8.** Reproduce this plot:\n",
    "\n",
    "![fraction of observations in each tercile](res/ass3_q7.png)"
   ]
  },
  {
   "cell_type": "markdown",
   "metadata": {},
   "source": [
    "**Question 9.** Reproduce this plot:\n",
    "\n",
    "![Water levels over time with reference](res/ass3_q9_v2.png)\n",
    "\n",
    "\n",
    "The light shaded area shows the range from `low` to `high` for each station. The dark shaded area shows the inter-tercile range, `low+tercile1*(high-low)` to `low+tercile2*(high-low)` where `tercile1` and `tercile2` are your answers to Question 4. They can be plotted with [`ax.axhspan`](https://matplotlib.org/api/_as_gen/matplotlib.axes.Axes.axhspan.html#matplotlib.axes.Axes.axhspan).\n",
    "Here are some code snippets for working with datetimes that may be helpful.\n",
    "```\n",
    "# Create a column with datetime objects\n",
    "import datetime, pytz\n",
    "def as_datetime(s): return datetime.datetime.strptime(s, '%Y-%m-%dT%H:%M:%SZ').replace(tzinfo=pytz.UTC)\n",
    "flood['datetime'] = np.vectorize(as_datetime)(flood['t'])\n",
    "\n",
    "# Date-axis control, taken from http://matplotlib.org/examples/api/date_demo.html\n",
    "# Given a matplotlib axis, print out date labels nicely\n",
    "ax.xaxis.set_major_locator(matplotlib.dates.WeekdayLocator(byweekday=matplotlib.dates.MO, tz=pytz.UTC))\n",
    "ax.xaxis.set_minor_locator(matplotlib.dates.DayLocator(tz=pytz.UTC))\n",
    "ax.xaxis.set_major_formatter(matplotlib.dates.DateFormatter('%a %d %b'))\n",
    "# then, at the end,\n",
    "fig.autofmt_xdate(bottom=0.2, rotation=-30, ha='left')\n",
    "```\n",
    "\n",
    "<div class=\"alert alert-info\">\n",
    "Update on 2017-12-05: Fixed the dark-shaded areas, which had previously been plotted in the wrong place.\n",
    "</div>"
   ]
  }
 ],
 "metadata": {
  "kernelspec": {
   "display_name": "Python 3",
   "language": "python",
   "name": "python3"
  },
  "language_info": {
   "codemirror_mode": {
    "name": "ipython",
    "version": 3
   },
   "file_extension": ".py",
   "mimetype": "text/x-python",
   "name": "python",
   "nbconvert_exporter": "python",
   "pygments_lexer": "ipython3",
   "version": "3.6.3"
  }
 },
 "nbformat": 4,
 "nbformat_minor": 2
}
