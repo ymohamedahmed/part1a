{
 "cells": [
  {
   "cell_type": "markdown",
   "metadata": {},
   "source": [
    "# Assignment 3. Analysis of flood data"
   ]
  },
  {
   "cell_type": "markdown",
   "metadata": {},
   "source": [
    "![Jesus Green lock](res/jesus_green_lock.jpg)\n",
    "\n",
    "This assignment asks you to analyse data provided by the UK Environment Agency concerning flooding. The agency offers an [API for near real-time data](http://environment.data.gov.uk/flood-monitoring/doc/reference) covering:\n",
    "* flood warnings and flood alerts\n",
    "* flood areas which to which warnings or alerts apply\n",
    "* measurements of water levels and flows\n",
    "* information on the monitoring stations providing those measurements\n",
    "\n",
    "In this assignment we will be working with historical data of water level measurements, at several monitoring stations in Cambridge and on the Cam. The dataset is available as a CSV file at [https://teachingfiles.blob.core.windows.net/scicomp/flood.csv](https://teachingfiles.blob.core.windows.net/scicomp/flood.csv). If you go home over Christmas and are worried about flooding, and want to extend these analyses to your home area, see [A3. Data import and cleanup](A3.%20Data%20import%20and%20cleanup.ipynb) for details of how to fetch data from a web API.\n",
    "\n",
    "_Image by [N. Chadwick](http://www.geograph.org.uk/photo/4800494)._"
   ]
  },
  {
   "cell_type": "markdown",
   "metadata": {},
   "source": [
    "<div class=\"alert alert-warning\">**Goal of the assignment.** \n",
    "    This assignment tests your skill at manipulating dataframes and indexed arrays, and your flair at plotting data.\n",
    "    You should use Pandas and numpy operations for data manipulation, rather than <code style=\"background-color:inherit\">for</code> loops,\n",
    "    wherever possible. You can organize your code however you like. Please create a new notebook for your answers to this assignment.\n",
    "</div>"
   ]
  },
  {
   "cell_type": "markdown",
   "metadata": {},
   "source": [
    "# Part A\n",
    "This section is worth 1 mark. Check your answers as described in [&sect;0.3](0.%20About%20this%20course.ipynb#grader) using `section='assignment3a'`."
   ]
  },
  {
   "cell_type": "code",
   "execution_count": 1,
   "metadata": {},
   "outputs": [],
   "source": [
    "# Import modules, and give them short aliases so we can write e.g. np.foo rather than numpy.foo\n",
    "import numpy as np\n",
    "import pandas\n",
    "import matplotlib\n",
    "import matplotlib.pyplot as plt\n",
    "# The next line is a piece of magic, to let plots appear in our Jupyter notebooks\n",
    "%matplotlib inline "
   ]
  },
  {
   "cell_type": "code",
   "execution_count": 237,
   "metadata": {},
   "outputs": [
    {
     "name": "stdout",
     "output_type": "stream",
     "text": [
      "Waiting for you to log in ....... done.\n"
     ]
    }
   ],
   "source": [
    "!pip install ucamcl --upgrade\n",
    "import ucamcl\n",
    "GRADER = ucamcl.autograder('https://markmy.solutions', course='scicomp', section='assignment3a')\n",
    "# paste in whatever section is appropriate for the section of notes / assignment you're working on"
   ]
  },
  {
   "cell_type": "markdown",
   "metadata": {},
   "source": [
    "**Question 1.** Import the CSV file and print out a few lines, choosing the lines at random using `np.random.choice`. The file mistakenly includes the village Cam, near Bristol. Remove these rows, and store what's as the variable `flood`. How many rows are left?\n",
    "```\n",
    "# Submit your answer:\n",
    "GRADER.submit_answer(GRADER.fetch_question('q1'), num_rows)\n",
    "```"
   ]
  },
  {
   "cell_type": "code",
   "execution_count": 3,
   "metadata": {},
   "outputs": [
    {
     "name": "stdout",
     "output_type": "stream",
     "text": [
      "                  label              town      river\n",
      "10614  Weston Bampfylde  Weston Bampfylde  River Cam\n",
      "      label town      river\n",
      "15979   Cam  Cam  River Cam\n",
      "                      label    town      river\n",
      "15154  Cambridge Baits Bite  Milton  River Cam\n",
      "         label            town      river\n",
      "4227  Dernford  Great Shelford  River Cam\n",
      "Correct!\n"
     ]
    },
    {
     "data": {
      "text/plain": [
       "(True, 15890)"
      ]
     },
     "execution_count": 3,
     "metadata": {},
     "output_type": "execute_result"
    }
   ],
   "source": [
    "floods = pandas.read_csv('flood.csv')\n",
    "for i in range(4):\n",
    "    i = np.random.choice(len(floods),1)\n",
    "    print(floods[['label','town','river']].iloc[i])\n",
    "rows = floods['town'] != 'Cam'\n",
    "flood = floods.loc[rows]\n",
    "GRADER.submit_answer(GRADER.fetch_question('q1'), len(flood))"
   ]
  },
  {
   "cell_type": "markdown",
   "metadata": {},
   "source": [
    "**Question 2.** Complete this table of the number of entries in this dataset for each town and river.\n",
    "\n",
    "|  | Cambridge | Great Shelford | Milton | Weston Bampfylde\n",
    "| -------\n",
    "| **Bin Brook** | 2665 | 0\n",
    "| **River Cam**\n",
    "\n",
    "```\n",
    "# Submit your answer, as an unstacked indexed array:\n",
    "GRADER.submit_answer(GRADER.fetch_question('q2'), your_answer.as_matrix())\n",
    "```"
   ]
  },
  {
   "cell_type": "code",
   "execution_count": 4,
   "metadata": {},
   "outputs": [
    {
     "name": "stdout",
     "output_type": "stream",
     "text": [
      "Correct!\n"
     ]
    },
    {
     "data": {
      "text/plain": [
       "(True, [[2665, 0, 0, 0], [5298, 2617, 2653, 2657]])"
      ]
     },
     "execution_count": 4,
     "metadata": {},
     "output_type": "execute_result"
    }
   ],
   "source": [
    "x = flood.groupby(['river','town']).apply(len)\n",
    "x = x.unstack(fill_value = 0).as_matrix().tolist()\n",
    "GRADER.submit_answer(GRADER.fetch_question('q2'), x)"
   ]
  },
  {
   "cell_type": "markdown",
   "metadata": {},
   "source": [
    "**Question 3.** Each measurement station has a unique `measure_id` and `label`. Complete this table of the number of measurement stations for each town and river. Use only the Pandas operations for split-apply-combine, don't use any numpy operations or Python `for` loops or list comprehensions. \n",
    "\n",
    "| | Cambridge | Great Shelford | Milton | Weston Bampylde\n",
    "|-----\n",
    "| **Bin Brook** | 1 | 0\n",
    "| **River Cam**\n",
    "\n",
    "```\n",
    "# Submit your answer. Let your_answer be an unstacked indexed array.\n",
    "GRADER.submit_answer(GRADER.fetch_question('q3'), your_answer.as_matrix())\n",
    "```"
   ]
  },
  {
   "cell_type": "code",
   "execution_count": 5,
   "metadata": {},
   "outputs": [
    {
     "name": "stdout",
     "output_type": "stream",
     "text": [
      "Correct!\n"
     ]
    },
    {
     "data": {
      "text/plain": [
       "(True, [[1, 0, 0, 0], [2, 1, 1, 1]])"
      ]
     },
     "execution_count": 5,
     "metadata": {},
     "output_type": "execute_result"
    }
   ],
   "source": [
    "result = flood.groupby(['river', 'town'])['measure_id'].nunique().unstack(fill_value=0).as_matrix().tolist()\n",
    "GRADER.submit_answer(GRADER.fetch_question('q3'), result)"
   ]
  },
  {
   "cell_type": "markdown",
   "metadata": {},
   "source": [
    "**Question 4.** \n",
    "Each measurement station has low and high reference levels, in columns `low` and `high`. In this dataset, the reference levels are stored for every measurement, but we can verify that every `measure_id` has a unique pair `(low,high)` with\n",
    "```\n",
    "assert all(flood.groupby(['measure_id','low','high']).apply(len).groupby('measure_id').apply(len) == 1), \"Reference levels non-constant\"\n",
    "```\n",
    "Add a column `norm_value`, by rescaling `value` linearly so that `value=low` correponds to `norm_value=0` and `value=high` corresponds to `norm_value=1`.\n",
    "Use `np.nanpercentile` to find the [_tercile points_](https://en.wiktionary.org/wiki/tercile), the two values that split the entire `norm_value` column into three roughly equal parts.\n",
    "\n",
    "```\n",
    "# Submit your answer:\n",
    "GRADER.submit_answer(GRADER.fetch_question('q4'), [tercile1, tercile2])\n",
    "```"
   ]
  },
  {
   "cell_type": "code",
   "execution_count": 6,
   "metadata": {},
   "outputs": [
    {
     "name": "stderr",
     "output_type": "stream",
     "text": [
      "/usr/lib/python3.6/site-packages/ipykernel_launcher.py:2: SettingWithCopyWarning: \n",
      "A value is trying to be set on a copy of a slice from a DataFrame.\n",
      "Try using .loc[row_indexer,col_indexer] = value instead\n",
      "\n",
      "See the caveats in the documentation: http://pandas.pydata.org/pandas-docs/stable/indexing.html#indexing-view-versus-copy\n",
      "  \n"
     ]
    },
    {
     "name": "stdout",
     "output_type": "stream",
     "text": [
      "Correct!\n"
     ]
    },
    {
     "data": {
      "text/plain": [
       "(True, [0.036970243462578906, 0.31511254019292606])"
      ]
     },
     "execution_count": 6,
     "metadata": {},
     "output_type": "execute_result"
    }
   ],
   "source": [
    "#axis=1 applies the function to each row\n",
    "flood['norm_value']=flood.apply(lambda x: (x['value'] - x['low']) / (x['high'] - x['low']), axis=1)\n",
    "listF = flood['norm_value'].as_matrix().tolist()\n",
    "terciles = [np.nanpercentile(listF, 100/3), np.nanpercentile(listF, 200/3)]\n",
    "GRADER.submit_answer(GRADER.fetch_question('q4'), terciles)"
   ]
  },
  {
   "cell_type": "markdown",
   "metadata": {},
   "source": [
    "**Question 5.** Complete the following dataframe, listing the number of observations in each tercile and the total number of observations per station.\n",
    "\n",
    "| label | norm_value_tercile | n | ntot\n",
    "|----\n",
    "| Bin Brook | low | 19 | 2665\n",
    "| Bin Brook | med | 1653 | 2665\n",
    "| Bin Brook | high | 993 | 2665\n",
    "| Cambridge Jesus Lock | high | 1906 | 2651\n",
    "\n",
    "```\n",
    "# Submit your answer:\n",
    "assert np.array_equal(your_dataframe.columns, ['label','norm_value_tercile','n','ntot']), 'columns are wrong'\n",
    "GRADER.submit_answer(GRADER.fetch_question('q5'), your_dataframe)\n",
    "```\n",
    "<div class=\"alert alert-info\">\n",
    "Update on 2017-12-09: When submitting a dataframe, please make sure that the columns have the names and order shown. The rows can be in any order.\n",
    "</div>"
   ]
  },
  {
   "cell_type": "code",
   "execution_count": 106,
   "metadata": {},
   "outputs": [
    {
     "name": "stdout",
     "output_type": "stream",
     "text": [
      "                   label norm_value_tercile     n  ntot\n",
      "0              Bin Brook               high   993  2665\n",
      "1              Bin Brook                low    19  2665\n",
      "2              Bin Brook                med  1653  2665\n",
      "3              Cambridge                low  2132  2645\n",
      "4              Cambridge                med   513  2645\n",
      "5   Cambridge Baits Bite               high  2285  2653\n",
      "6   Cambridge Baits Bite                low     4  2653\n",
      "7   Cambridge Baits Bite                med   364  2653\n",
      "8   Cambridge Jesus Lock               high  1906  2651\n",
      "9   Cambridge Jesus Lock                low    14  2651\n",
      "10  Cambridge Jesus Lock                med   731  2651\n",
      "11              Dernford               high    69  2617\n",
      "12              Dernford                low  2469  2617\n",
      "13              Dernford                med    79  2617\n",
      "14      Weston Bampfylde                low   672  2657\n",
      "15      Weston Bampfylde                med  1985  2657\n",
      "Correct!\n"
     ]
    },
    {
     "data": {
      "text/plain": [
       "(True,\n",
       " [{'label': 'Bin Brook', 'n': 19, 'norm_value_tercile': 'low', 'ntot': 2665},\n",
       "  {'label': 'Bin Brook', 'n': 1653, 'norm_value_tercile': 'med', 'ntot': 2665},\n",
       "  {'label': 'Bin Brook', 'n': 993, 'norm_value_tercile': 'high', 'ntot': 2665},\n",
       "  {'label': 'Cambridge', 'n': 2132, 'norm_value_tercile': 'low', 'ntot': 2645},\n",
       "  {'label': 'Cambridge', 'n': 513, 'norm_value_tercile': 'med', 'ntot': 2645},\n",
       "  {'label': 'Cambridge Baits Bite',\n",
       "   'n': 4,\n",
       "   'norm_value_tercile': 'low',\n",
       "   'ntot': 2653},\n",
       "  {'label': 'Cambridge Baits Bite',\n",
       "   'n': 364,\n",
       "   'norm_value_tercile': 'med',\n",
       "   'ntot': 2653},\n",
       "  {'label': 'Cambridge Baits Bite',\n",
       "   'n': 2285,\n",
       "   'norm_value_tercile': 'high',\n",
       "   'ntot': 2653},\n",
       "  {'label': 'Cambridge Jesus Lock',\n",
       "   'n': 14,\n",
       "   'norm_value_tercile': 'low',\n",
       "   'ntot': 2651},\n",
       "  {'label': 'Cambridge Jesus Lock',\n",
       "   'n': 731,\n",
       "   'norm_value_tercile': 'med',\n",
       "   'ntot': 2651},\n",
       "  {'label': 'Cambridge Jesus Lock',\n",
       "   'n': 1906,\n",
       "   'norm_value_tercile': 'high',\n",
       "   'ntot': 2651},\n",
       "  {'label': 'Dernford', 'n': 2469, 'norm_value_tercile': 'low', 'ntot': 2617},\n",
       "  {'label': 'Dernford', 'n': 79, 'norm_value_tercile': 'med', 'ntot': 2617},\n",
       "  {'label': 'Dernford', 'n': 69, 'norm_value_tercile': 'high', 'ntot': 2617},\n",
       "  {'label': 'Weston Bampfylde',\n",
       "   'n': 672,\n",
       "   'norm_value_tercile': 'low',\n",
       "   'ntot': 2657},\n",
       "  {'label': 'Weston Bampfylde',\n",
       "   'n': 1985,\n",
       "   'norm_value_tercile': 'med',\n",
       "   'ntot': 2657}])"
      ]
     },
     "execution_count": 106,
     "metadata": {},
     "output_type": "execute_result"
    }
   ],
   "source": [
    "df = pandas.DataFrame(columns = ['label', 'norm_value','norm_value_tercile', 'n', 'ntot'])\n",
    "df['label']=flood['label']\n",
    "df['norm_value']=flood['norm_value']\n",
    "#Get rid of Nan values\n",
    "df = df[np.isfinite(df['norm_value'])]\n",
    "df['norm_value_tercile']=df['norm_value'].map(\n",
    "    lambda x : 'low' if x <= terciles[0] else ('med' if x <= terciles[1] \n",
    "                                               else 'high' ))\n",
    "df = df.groupby(['label','norm_value_tercile']).apply(len).reset_index(name='n')\n",
    "y = df.groupby('label')['n'].apply(sum).reset_index(name='ntot')\n",
    "z = df.merge(y, on='label')\n",
    "print(z)\n",
    "GRADER.submit_answer(GRADER.fetch_question('q5'), z)"
   ]
  },
  {
   "cell_type": "markdown",
   "metadata": {},
   "source": [
    "**Question 6.** Complete this dataframe listing the fraction of observations in each tercile per station:\n",
    "\n",
    "| label | low | med | high\n",
    "|----\n",
    "| Bin Brook | 0.007 | 0.620 | 0.373\n",
    "| Cambridge | 0.807 | 0.194 | 0.000\n",
    "\n",
    "```\n",
    "# Submit your answer:\n",
    "assert np.array_equal(your_dataframe.columns, ['label','low','med','high']), 'columns are wrong'\n",
    "GRADER.submit_answer(GRADER.fetch_question('q6'), your_dataframe)\n",
    "```"
   ]
  },
  {
   "cell_type": "code",
   "execution_count": 260,
   "metadata": {},
   "outputs": [
    {
     "name": "stdout",
     "output_type": "stream",
     "text": [
      "Correct!\n"
     ]
    },
    {
     "data": {
      "text/plain": [
       "(True,\n",
       " [{'high': 0.3726078799249531,\n",
       "   'label': 'Bin Brook',\n",
       "   'low': 0.007129455909943715,\n",
       "   'med': 0.6202626641651032},\n",
       "  {'high': 0.0,\n",
       "   'label': 'Cambridge',\n",
       "   'low': 0.8060491493383742,\n",
       "   'med': 0.1939508506616257},\n",
       "  {'high': 0.8612891066716925,\n",
       "   'label': 'Cambridge Baits Bite',\n",
       "   'low': 0.0015077271013946476,\n",
       "   'med': 0.13720316622691292},\n",
       "  {'high': 0.7189739720860053,\n",
       "   'label': 'Cambridge Jesus Lock',\n",
       "   'low': 0.005281026027913994,\n",
       "   'med': 0.2757450018860807},\n",
       "  {'high': 0.026366068016813144,\n",
       "   'label': 'Dernford',\n",
       "   'low': 0.9434466946885747,\n",
       "   'med': 0.030187237294612153},\n",
       "  {'high': 0.0,\n",
       "   'label': 'Weston Bampfylde',\n",
       "   'low': 0.2529168234851336,\n",
       "   'med': 0.7470831765148664}])"
      ]
     },
     "execution_count": 260,
     "metadata": {},
     "output_type": "execute_result"
    }
   ],
   "source": [
    "dfFract = pandas.DataFrame(columns = ['label', 'low','med', 'high'])\n",
    "dfFract['label'] = z['label']\n",
    "dfFract['low'] = z.loc[z['norm_value_tercile'] == 'low']['n']/z['ntot']\n",
    "dfFract['med'] = z.loc[z['norm_value_tercile'] == 'med']['n']/z['ntot']\n",
    "dfFract['high'] = z.loc[z['norm_value_tercile'] == 'high']['n']/z['ntot']\n",
    "test = dfFract.groupby(['label','low']).apply(len).reset_index()\n",
    "low = dfFract.groupby(['label','low']).apply(len).reset_index()\n",
    "med = dfFract.groupby(['label','med']).apply(len).reset_index()\n",
    "high = dfFract.groupby(['label','high']).apply(len).reset_index()\n",
    "temp = pandas.merge(low, med,  on='label')\n",
    "b = pandas.merge(temp, high, how = 'left',on='label')\n",
    "b = b[['label','low','med','high']].fillna(0)\n",
    "assert np.array_equal(b.columns, ['label','low','med','high']), 'columns are wrong'\n",
    "GRADER.submit_answer(GRADER.fetch_question('q6'), b)"
   ]
  },
  {
   "cell_type": "markdown",
   "metadata": {},
   "source": [
    "**Question 7.** Fill in the rest of this indexed array, giving the `low` and `high` values for each measurement station:\n",
    "\n",
    "| label | ref | |\n",
    "|----\n",
    "| Bin Brook | high | 0.368\n",
    "| | low | 0.057\n",
    "| Cambridge | high | 1.250\n",
    "| | low | 0.141\n",
    "\n",
    "```\n",
    "# Submit your answer. Let your_answer be an indexed array.\n",
    "GRADER.submit_answer(GRADER.fetch_question('q7'), your_answer.reset_index(name='val'))\n",
    "```"
   ]
  },
  {
   "cell_type": "code",
   "execution_count": 259,
   "metadata": {},
   "outputs": [
    {
     "name": "stdout",
     "output_type": "stream",
     "text": [
      "Correct!\n"
     ]
    },
    {
     "data": {
      "text/plain": [
       "(True,\n",
       " [{'label': 'Bin Brook', 'ref': 'high', 'val': 0.368},\n",
       "  {'label': 'Bin Brook', 'ref': 'low', 'val': 0.057},\n",
       "  {'label': 'Cambridge', 'ref': 'high', 'val': 1.25},\n",
       "  {'label': 'Cambridge', 'ref': 'low', 'val': 0.141},\n",
       "  {'label': 'Cambridge Baits Bite', 'ref': 'high', 'val': 0.294},\n",
       "  {'label': 'Cambridge Baits Bite', 'ref': 'low', 'val': 0.218},\n",
       "  {'label': 'Cambridge Jesus Lock', 'ref': 'high', 'val': 0.74},\n",
       "  {'label': 'Cambridge Jesus Lock', 'ref': 'low', 'val': 0.637},\n",
       "  {'label': 'Dernford', 'ref': 'high', 'val': 0.395},\n",
       "  {'label': 'Dernford', 'ref': 'low', 'val': 0.127},\n",
       "  {'label': 'Weston Bampfylde', 'ref': 'high', 'val': 0.6},\n",
       "  {'label': 'Weston Bampfylde', 'ref': 'low', 'val': 0.026000000000000002}])"
      ]
     },
     "execution_count": 259,
     "metadata": {},
     "output_type": "execute_result"
    }
   ],
   "source": [
    "selectedLow = flood[['label','low']]\n",
    "selectedHigh = flood[['label','high']]\n",
    "highs = pandas.DataFrame(columns = ['label','ref','val'])\n",
    "lows = pandas.DataFrame(columns = ['label','ref','val'])\n",
    "highs['label'] = dfFract['label'].unique()\n",
    "highs['ref'] = dfFract['label'].apply(lambda x : 'high')\n",
    "selectedLow = selectedLow.groupby(['label','low']).apply(len).reset_index()\n",
    "selectedHigh = selectedHigh.groupby(['label','high']).apply(len).reset_index()\n",
    "lows['label'] = dfFract['label'].unique()\n",
    "lows['ref'] = dfFract['label'].apply(lambda x : 'low')\n",
    "tempHigh = pandas.merge(highs, selectedHigh, on='label')[['label','ref','high']]\n",
    "tempHigh.columns = ['label','ref','val']\n",
    "tempLow = pandas.merge(lows, selectedLow, on='label')[['label','ref','low']]\n",
    "tempLow.columns = ['label','ref','val']\n",
    "ans = pandas.merge(tempHigh, tempLow,how='outer', on=['label','ref','val']).groupby(['label','ref','val']).apply(len).reset_index()\n",
    "ans = ans[['label','ref','val']].groupby(['label','ref','val']).apply(len).reset_index()\n",
    "GRADER.submit_answer(GRADER.fetch_question('q7'), ans)\n"
   ]
  },
  {
   "cell_type": "markdown",
   "metadata": {},
   "source": [
    "# Part B\n",
    "This section is worth 1 mark. There is no automated testing of your answers here, but your code may be assessed in the ticking session.\n",
    "\n",
    "You should pay attention to axis ranges, axis labelling, colour schemes, etc. in reproducing the plot, though you shouldn't aim to be pixel-perfect.\n",
    "    You will need to spend time <a href=\"https://stackoverflow.com/questions/tagged/matplotlib\">searching</a> how to control matplotlib plots."
   ]
  },
  {
   "cell_type": "markdown",
   "metadata": {},
   "source": [
    "**Question 8.** Reproduce this plot:\n",
    "\n",
    "![fraction of observations in each tercile](res/ass3_q7.png)"
   ]
  },
  {
   "cell_type": "code",
   "execution_count": 338,
   "metadata": {},
   "outputs": [
    {
     "name": "stdout",
     "output_type": "stream",
     "text": [
      "                  label       low       med      high\n",
      "0             Bin Brook  0.007129  0.620263  0.372608\n",
      "1             Cambridge  0.806049  0.193951  0.000000\n",
      "2  Cambridge Baits Bite  0.001508  0.137203  0.861289\n",
      "3  Cambridge Jesus Lock  0.005281  0.275745  0.718974\n",
      "4              Dernford  0.943447  0.030187  0.026366\n",
      "5      Weston Bampfylde  0.252917  0.747083  0.000000\n",
      "(-1.0, 6.5)\n"
     ]
    },
    {
     "data": {
      "image/png": "[encoded data removed]",
      "text/plain": [
       "<matplotlib.figure.Figure at 0x7f2d52fb8e48>"
      ]
     },
     "metadata": {},
     "output_type": "display_data"
    }
   ],
   "source": [
    "print(b)\n",
    "x = b['label']\n",
    "plt.gca().get_yaxis().grid(zorder=3)\n",
    "plt.gca().set_axisbelow(True)\n",
    "plt.gca().set_xlim((-1, 6.5))\n",
    "low = plt.bar(x, b['low'],bottom = 0, align = 'center', color='#08693f')\n",
    "med = plt.bar(x, b['med'], bottom=b['low'], align = 'center', color='#20a73e')\n",
    "high = plt.bar(x, b['high'], bottom=b['med'] + b['low'],align = 'center',color='#6bc327')\n",
    "plt.legend((low[0],med[0],high[0]),('low','med','high'))\n",
    "plt.xticks(x, rotation=-30, ha='left')  \n",
    "plt.title('Fraction of observations in each tercile')\n",
    "matplotlib.rcParams.update({'font.size': 22})\n",
    "print(plt.gca().get_xlim())\n",
    "# plt.rcParams[\"figure.figsize\"] = [20,10]\n",
    "plt.show()\n"
   ]
  },
  {
   "cell_type": "markdown",
   "metadata": {},
   "source": [
    "**Question 9.** Reproduce this plot:\n",
    "\n",
    "![Water levels over time with reference](res/ass3_q9_v2.png)\n",
    "\n",
    "\n",
    "The light shaded area shows the range from `low` to `high` for each station. The dark shaded area shows the inter-tercile range, `low+tercile1*(high-low)` to `low+tercile2*(high-low)` where `tercile1` and `tercile2` are your answers to Question 4. They can be plotted with [`ax.axhspan`](https://matplotlib.org/api/_as_gen/matplotlib.axes.Axes.axhspan.html#matplotlib.axes.Axes.axhspan).\n",
    "Here are some code snippets for working with datetimes that may be helpful.\n",
    "```\n",
    "# Create a column with datetime objects\n",
    "import datetime, pytz\n",
    "def as_datetime(s): return datetime.datetime.strptime(s, '%Y-%m-%dT%H:%M:%SZ').replace(tzinfo=pytz.UTC)\n",
    "flood['datetime'] = np.vectorize(as_datetime)(flood['t'])\n",
    "\n",
    "# Date-axis control, taken from http://matplotlib.org/examples/api/date_demo.html\n",
    "# Given a matplotlib axis, print out date labels nicely\n",
    "ax.xaxis.set_major_locator(matplotlib.dates.WeekdayLocator(byweekday=matplotlib.dates.MO, tz=pytz.UTC))\n",
    "ax.xaxis.set_minor_locator(matplotlib.dates.DayLocator(tz=pytz.UTC))\n",
    "ax.xaxis.set_major_formatter(matplotlib.dates.DateFormatter('%a %d %b'))\n",
    "# then, at the end,\n",
    "fig.autofmt_xdate(bottom=0.2, rotation=-30, ha='left')\n",
    "```\n",
    "\n",
    "<div class=\"alert alert-info\">\n",
    "Update on 2017-12-05: Fixed the dark-shaded areas, which had previously been plotted in the wrong place.\n",
    "</div>"
   ]
  },
  {
   "cell_type": "code",
   "execution_count": 394,
   "metadata": {},
   "outputs": [
    {
     "name": "stderr",
     "output_type": "stream",
     "text": [
      "/usr/lib/python3.6/site-packages/ipykernel_launcher.py:4: SettingWithCopyWarning: \n",
      "A value is trying to be set on a copy of a slice from a DataFrame.\n",
      "Try using .loc[row_indexer,col_indexer] = value instead\n",
      "\n",
      "See the caveats in the documentation: http://pandas.pydata.org/pandas-docs/stable/indexing.html#indexing-view-versus-copy\n",
      "  after removing the cwd from sys.path.\n"
     ]
    },
    {
     "ename": "ValueError",
     "evalue": "the 'axes' parameter is not supported in the pandas implementation of transpose()",
     "output_type": "error",
     "traceback": [
      "\u001b[0;31m---------------------------------------------------------------------------\u001b[0m",
      "\u001b[0;31mValueError\u001b[0m                                Traceback (most recent call last)",
      "\u001b[0;32m<ipython-input-394-8935f1c9b5bb>\u001b[0m in \u001b[0;36m<module>\u001b[0;34m()\u001b[0m\n\u001b[1;32m     15\u001b[0m     \u001b[0max\u001b[0m\u001b[0;34m.\u001b[0m\u001b[0mtitle\u001b[0m\u001b[0;34m.\u001b[0m\u001b[0mset_text\u001b[0m\u001b[0;34m(\u001b[0m\u001b[0mlocations\u001b[0m\u001b[0;34m[\u001b[0m\u001b[0mi\u001b[0m\u001b[0;34m]\u001b[0m\u001b[0;34m)\u001b[0m\u001b[0;34m\u001b[0m\u001b[0m\n\u001b[1;32m     16\u001b[0m \u001b[0;31m#     ax.plot(dates, flood[['value']].loc[flood['label']==locations[i]].unstack().tolist())\u001b[0m\u001b[0;34m\u001b[0m\u001b[0;34m\u001b[0m\u001b[0m\n\u001b[0;32m---> 17\u001b[0;31m     \u001b[0mdates\u001b[0m \u001b[0;34m=\u001b[0m \u001b[0mflood\u001b[0m\u001b[0;34m[\u001b[0m\u001b[0;34m[\u001b[0m\u001b[0;34m'datetime'\u001b[0m\u001b[0;34m]\u001b[0m\u001b[0;34m]\u001b[0m\u001b[0;34m.\u001b[0m\u001b[0mloc\u001b[0m\u001b[0;34m[\u001b[0m\u001b[0mflood\u001b[0m\u001b[0;34m[\u001b[0m\u001b[0;34m'label'\u001b[0m\u001b[0;34m]\u001b[0m\u001b[0;34m==\u001b[0m\u001b[0mlocations\u001b[0m\u001b[0;34m[\u001b[0m\u001b[0mi\u001b[0m\u001b[0;34m]\u001b[0m\u001b[0;34m]\u001b[0m\u001b[0;34m.\u001b[0m\u001b[0munstack\u001b[0m\u001b[0;34m(\u001b[0m\u001b[0;34m)\u001b[0m\u001b[0;34m.\u001b[0m\u001b[0mtolist\u001b[0m\u001b[0;34m(\u001b[0m\u001b[0;34m)\u001b[0m\u001b[0;34m\u001b[0m\u001b[0m\n\u001b[0m\u001b[1;32m     18\u001b[0m \u001b[0;34m\u001b[0m\u001b[0m\n\u001b[1;32m     19\u001b[0m     \u001b[0max\u001b[0m\u001b[0;34m.\u001b[0m\u001b[0mxaxis\u001b[0m\u001b[0;34m.\u001b[0m\u001b[0mset_major_locator\u001b[0m\u001b[0;34m(\u001b[0m\u001b[0mmatplotlib\u001b[0m\u001b[0;34m.\u001b[0m\u001b[0mdates\u001b[0m\u001b[0;34m.\u001b[0m\u001b[0mWeekdayLocator\u001b[0m\u001b[0;34m(\u001b[0m\u001b[0mbyweekday\u001b[0m\u001b[0;34m=\u001b[0m\u001b[0mmatplotlib\u001b[0m\u001b[0;34m.\u001b[0m\u001b[0mdates\u001b[0m\u001b[0;34m.\u001b[0m\u001b[0mMO\u001b[0m\u001b[0;34m,\u001b[0m \u001b[0mtz\u001b[0m\u001b[0;34m=\u001b[0m\u001b[0mpytz\u001b[0m\u001b[0;34m.\u001b[0m\u001b[0mUTC\u001b[0m\u001b[0;34m)\u001b[0m\u001b[0;34m)\u001b[0m\u001b[0;34m\u001b[0m\u001b[0m\n",
      "\u001b[0;32m/usr/lib/python3.6/site-packages/pandas/core/frame.py\u001b[0m in \u001b[0;36munstack\u001b[0;34m(self, level, fill_value)\u001b[0m\n\u001b[1;32m   4544\u001b[0m         \"\"\"\n\u001b[1;32m   4545\u001b[0m         \u001b[0;32mfrom\u001b[0m \u001b[0mpandas\u001b[0m\u001b[0;34m.\u001b[0m\u001b[0mcore\u001b[0m\u001b[0;34m.\u001b[0m\u001b[0mreshape\u001b[0m\u001b[0;34m.\u001b[0m\u001b[0mreshape\u001b[0m \u001b[0;32mimport\u001b[0m \u001b[0munstack\u001b[0m\u001b[0;34m\u001b[0m\u001b[0m\n\u001b[0;32m-> 4546\u001b[0;31m         \u001b[0;32mreturn\u001b[0m \u001b[0munstack\u001b[0m\u001b[0;34m(\u001b[0m\u001b[0mself\u001b[0m\u001b[0;34m,\u001b[0m \u001b[0mlevel\u001b[0m\u001b[0;34m,\u001b[0m \u001b[0mfill_value\u001b[0m\u001b[0;34m)\u001b[0m\u001b[0;34m\u001b[0m\u001b[0m\n\u001b[0m\u001b[1;32m   4547\u001b[0m \u001b[0;34m\u001b[0m\u001b[0m\n\u001b[1;32m   4548\u001b[0m     _shared_docs['melt'] = (\"\"\"\n",
      "\u001b[0;32m/usr/lib/python3.6/site-packages/pandas/core/reshape/reshape.py\u001b[0m in \u001b[0;36munstack\u001b[0;34m(obj, level, fill_value)\u001b[0m\n\u001b[1;32m    469\u001b[0m             \u001b[0;32mreturn\u001b[0m \u001b[0m_unstack_frame\u001b[0m\u001b[0;34m(\u001b[0m\u001b[0mobj\u001b[0m\u001b[0;34m,\u001b[0m \u001b[0mlevel\u001b[0m\u001b[0;34m,\u001b[0m \u001b[0mfill_value\u001b[0m\u001b[0;34m=\u001b[0m\u001b[0mfill_value\u001b[0m\u001b[0;34m)\u001b[0m\u001b[0;34m\u001b[0m\u001b[0m\n\u001b[1;32m    470\u001b[0m         \u001b[0;32melse\u001b[0m\u001b[0;34m:\u001b[0m\u001b[0;34m\u001b[0m\u001b[0m\n\u001b[0;32m--> 471\u001b[0;31m             \u001b[0;32mreturn\u001b[0m \u001b[0mobj\u001b[0m\u001b[0;34m.\u001b[0m\u001b[0mT\u001b[0m\u001b[0;34m.\u001b[0m\u001b[0mstack\u001b[0m\u001b[0;34m(\u001b[0m\u001b[0mdropna\u001b[0m\u001b[0;34m=\u001b[0m\u001b[0;32mFalse\u001b[0m\u001b[0;34m)\u001b[0m\u001b[0;34m\u001b[0m\u001b[0m\n\u001b[0m\u001b[1;32m    472\u001b[0m     \u001b[0;32melse\u001b[0m\u001b[0;34m:\u001b[0m\u001b[0;34m\u001b[0m\u001b[0m\n\u001b[1;32m    473\u001b[0m         unstacker = _Unstacker(obj.values, obj.index, level=level,\n",
      "\u001b[0;32m/usr/lib/python3.6/site-packages/pandas/core/frame.py\u001b[0m in \u001b[0;36mtranspose\u001b[0;34m(self, *args, **kwargs)\u001b[0m\n\u001b[1;32m   1907\u001b[0m         \u001b[0;34m\"\"\"Transpose index and columns\"\"\"\u001b[0m\u001b[0;34m\u001b[0m\u001b[0m\n\u001b[1;32m   1908\u001b[0m         \u001b[0mnv\u001b[0m\u001b[0;34m.\u001b[0m\u001b[0mvalidate_transpose\u001b[0m\u001b[0;34m(\u001b[0m\u001b[0margs\u001b[0m\u001b[0;34m,\u001b[0m \u001b[0mdict\u001b[0m\u001b[0;34m(\u001b[0m\u001b[0;34m)\u001b[0m\u001b[0;34m)\u001b[0m\u001b[0;34m\u001b[0m\u001b[0m\n\u001b[0;32m-> 1909\u001b[0;31m         \u001b[0;32mreturn\u001b[0m \u001b[0msuper\u001b[0m\u001b[0;34m(\u001b[0m\u001b[0mDataFrame\u001b[0m\u001b[0;34m,\u001b[0m \u001b[0mself\u001b[0m\u001b[0;34m)\u001b[0m\u001b[0;34m.\u001b[0m\u001b[0mtranspose\u001b[0m\u001b[0;34m(\u001b[0m\u001b[0;36m1\u001b[0m\u001b[0;34m,\u001b[0m \u001b[0;36m0\u001b[0m\u001b[0;34m,\u001b[0m \u001b[0;34m**\u001b[0m\u001b[0mkwargs\u001b[0m\u001b[0;34m)\u001b[0m\u001b[0;34m\u001b[0m\u001b[0m\n\u001b[0m\u001b[1;32m   1910\u001b[0m \u001b[0;34m\u001b[0m\u001b[0m\n\u001b[1;32m   1911\u001b[0m     \u001b[0mT\u001b[0m \u001b[0;34m=\u001b[0m \u001b[0mproperty\u001b[0m\u001b[0;34m(\u001b[0m\u001b[0mtranspose\u001b[0m\u001b[0;34m)\u001b[0m\u001b[0;34m\u001b[0m\u001b[0m\n",
      "\u001b[0;32m/usr/lib/python3.6/site-packages/pandas/core/generic.py\u001b[0m in \u001b[0;36mtranspose\u001b[0;34m(self, *args, **kwargs)\u001b[0m\n\u001b[1;32m    597\u001b[0m         new_axes = self._construct_axes_dict_from(self, [self._get_axis(x)\n\u001b[1;32m    598\u001b[0m                                                          for x in axes_names])\n\u001b[0;32m--> 599\u001b[0;31m         \u001b[0mnew_values\u001b[0m \u001b[0;34m=\u001b[0m \u001b[0mself\u001b[0m\u001b[0;34m.\u001b[0m\u001b[0mvalues\u001b[0m\u001b[0;34m.\u001b[0m\u001b[0mtranspose\u001b[0m\u001b[0;34m(\u001b[0m\u001b[0maxes_numbers\u001b[0m\u001b[0;34m)\u001b[0m\u001b[0;34m\u001b[0m\u001b[0m\n\u001b[0m\u001b[1;32m    600\u001b[0m         \u001b[0;32mif\u001b[0m \u001b[0mkwargs\u001b[0m\u001b[0;34m.\u001b[0m\u001b[0mpop\u001b[0m\u001b[0;34m(\u001b[0m\u001b[0;34m'copy'\u001b[0m\u001b[0;34m,\u001b[0m \u001b[0;32mNone\u001b[0m\u001b[0;34m)\u001b[0m \u001b[0;32mor\u001b[0m \u001b[0;34m(\u001b[0m\u001b[0mlen\u001b[0m\u001b[0;34m(\u001b[0m\u001b[0margs\u001b[0m\u001b[0;34m)\u001b[0m \u001b[0;32mand\u001b[0m \u001b[0margs\u001b[0m\u001b[0;34m[\u001b[0m\u001b[0;34m-\u001b[0m\u001b[0;36m1\u001b[0m\u001b[0;34m]\u001b[0m\u001b[0;34m)\u001b[0m\u001b[0;34m:\u001b[0m\u001b[0;34m\u001b[0m\u001b[0m\n\u001b[1;32m    601\u001b[0m             \u001b[0mnew_values\u001b[0m \u001b[0;34m=\u001b[0m \u001b[0mnew_values\u001b[0m\u001b[0;34m.\u001b[0m\u001b[0mcopy\u001b[0m\u001b[0;34m(\u001b[0m\u001b[0;34m)\u001b[0m\u001b[0;34m\u001b[0m\u001b[0m\n",
      "\u001b[0;32m/usr/lib/python3.6/site-packages/pandas/core/base.py\u001b[0m in \u001b[0;36mtranspose\u001b[0;34m(self, *args, **kwargs)\u001b[0m\n\u001b[1;32m    694\u001b[0m     \u001b[0;32mdef\u001b[0m \u001b[0mtranspose\u001b[0m\u001b[0;34m(\u001b[0m\u001b[0mself\u001b[0m\u001b[0;34m,\u001b[0m \u001b[0;34m*\u001b[0m\u001b[0margs\u001b[0m\u001b[0;34m,\u001b[0m \u001b[0;34m**\u001b[0m\u001b[0mkwargs\u001b[0m\u001b[0;34m)\u001b[0m\u001b[0;34m:\u001b[0m\u001b[0;34m\u001b[0m\u001b[0m\n\u001b[1;32m    695\u001b[0m         \u001b[0;34m\"\"\" return the transpose, which is by definition self \"\"\"\u001b[0m\u001b[0;34m\u001b[0m\u001b[0m\n\u001b[0;32m--> 696\u001b[0;31m         \u001b[0mnv\u001b[0m\u001b[0;34m.\u001b[0m\u001b[0mvalidate_transpose\u001b[0m\u001b[0;34m(\u001b[0m\u001b[0margs\u001b[0m\u001b[0;34m,\u001b[0m \u001b[0mkwargs\u001b[0m\u001b[0;34m)\u001b[0m\u001b[0;34m\u001b[0m\u001b[0m\n\u001b[0m\u001b[1;32m    697\u001b[0m         \u001b[0;32mreturn\u001b[0m \u001b[0mself\u001b[0m\u001b[0;34m\u001b[0m\u001b[0m\n\u001b[1;32m    698\u001b[0m \u001b[0;34m\u001b[0m\u001b[0m\n",
      "\u001b[0;32m/usr/lib/python3.6/site-packages/pandas/compat/numpy/function.py\u001b[0m in \u001b[0;36m__call__\u001b[0;34m(self, args, kwargs, fname, max_fname_arg_count, method)\u001b[0m\n\u001b[1;32m     52\u001b[0m                 validate_args_and_kwargs(fname, args, kwargs,\n\u001b[1;32m     53\u001b[0m                                          \u001b[0mmax_fname_arg_count\u001b[0m\u001b[0;34m,\u001b[0m\u001b[0;34m\u001b[0m\u001b[0m\n\u001b[0;32m---> 54\u001b[0;31m                                          self.defaults)\n\u001b[0m\u001b[1;32m     55\u001b[0m             \u001b[0;32melse\u001b[0m\u001b[0;34m:\u001b[0m\u001b[0;34m\u001b[0m\u001b[0m\n\u001b[1;32m     56\u001b[0m                 raise ValueError(\"invalid validation method \"\n",
      "\u001b[0;32m/usr/lib/python3.6/site-packages/pandas/util/_validators.py\u001b[0m in \u001b[0;36mvalidate_args_and_kwargs\u001b[0;34m(fname, args, kwargs, max_fname_arg_count, compat_args)\u001b[0m\n\u001b[1;32m    216\u001b[0m \u001b[0;34m\u001b[0m\u001b[0m\n\u001b[1;32m    217\u001b[0m     \u001b[0mkwargs\u001b[0m\u001b[0;34m.\u001b[0m\u001b[0mupdate\u001b[0m\u001b[0;34m(\u001b[0m\u001b[0margs_dict\u001b[0m\u001b[0;34m)\u001b[0m\u001b[0;34m\u001b[0m\u001b[0m\n\u001b[0;32m--> 218\u001b[0;31m     \u001b[0mvalidate_kwargs\u001b[0m\u001b[0;34m(\u001b[0m\u001b[0mfname\u001b[0m\u001b[0;34m,\u001b[0m \u001b[0mkwargs\u001b[0m\u001b[0;34m,\u001b[0m \u001b[0mcompat_args\u001b[0m\u001b[0;34m)\u001b[0m\u001b[0;34m\u001b[0m\u001b[0m\n\u001b[0m\u001b[1;32m    219\u001b[0m \u001b[0;34m\u001b[0m\u001b[0m\n\u001b[1;32m    220\u001b[0m \u001b[0;34m\u001b[0m\u001b[0m\n",
      "\u001b[0;32m/usr/lib/python3.6/site-packages/pandas/util/_validators.py\u001b[0m in \u001b[0;36mvalidate_kwargs\u001b[0;34m(fname, kwargs, compat_args)\u001b[0m\n\u001b[1;32m    155\u001b[0m     \u001b[0mkwds\u001b[0m \u001b[0;34m=\u001b[0m \u001b[0mkwargs\u001b[0m\u001b[0;34m.\u001b[0m\u001b[0mcopy\u001b[0m\u001b[0;34m(\u001b[0m\u001b[0;34m)\u001b[0m\u001b[0;34m\u001b[0m\u001b[0m\n\u001b[1;32m    156\u001b[0m     \u001b[0m_check_for_invalid_keys\u001b[0m\u001b[0;34m(\u001b[0m\u001b[0mfname\u001b[0m\u001b[0;34m,\u001b[0m \u001b[0mkwargs\u001b[0m\u001b[0;34m,\u001b[0m \u001b[0mcompat_args\u001b[0m\u001b[0;34m)\u001b[0m\u001b[0;34m\u001b[0m\u001b[0m\n\u001b[0;32m--> 157\u001b[0;31m     \u001b[0m_check_for_default_values\u001b[0m\u001b[0;34m(\u001b[0m\u001b[0mfname\u001b[0m\u001b[0;34m,\u001b[0m \u001b[0mkwds\u001b[0m\u001b[0;34m,\u001b[0m \u001b[0mcompat_args\u001b[0m\u001b[0;34m)\u001b[0m\u001b[0;34m\u001b[0m\u001b[0m\n\u001b[0m\u001b[1;32m    158\u001b[0m \u001b[0;34m\u001b[0m\u001b[0m\n\u001b[1;32m    159\u001b[0m \u001b[0;34m\u001b[0m\u001b[0m\n",
      "\u001b[0;32m/usr/lib/python3.6/site-packages/pandas/util/_validators.py\u001b[0m in \u001b[0;36m_check_for_default_values\u001b[0;34m(fname, arg_val_dict, compat_args)\u001b[0m\n\u001b[1;32m     67\u001b[0m                               \u001b[0;34m\"supported in the pandas \"\u001b[0m\u001b[0;34m\u001b[0m\u001b[0m\n\u001b[1;32m     68\u001b[0m                               \u001b[0;34m\"implementation of {fname}()\"\u001b[0m\u001b[0;34m.\u001b[0m\u001b[0;34m\u001b[0m\u001b[0m\n\u001b[0;32m---> 69\u001b[0;31m                               format(fname=fname, arg=key)))\n\u001b[0m\u001b[1;32m     70\u001b[0m \u001b[0;34m\u001b[0m\u001b[0m\n\u001b[1;32m     71\u001b[0m \u001b[0;34m\u001b[0m\u001b[0m\n",
      "\u001b[0;31mValueError\u001b[0m: the 'axes' parameter is not supported in the pandas implementation of transpose()"
     ]
    },
    {
     "data": {
      "image/png": "[encoded data removed]",
      "text/plain": [
       "<matplotlib.figure.Figure at 0x7f2d5053add8>"
      ]
     },
     "metadata": {},
     "output_type": "display_data"
    }
   ],
   "source": [
    "# Create a column with datetime objects\n",
    "import datetime, pytz\n",
    "def as_datetime(s): return datetime.datetime.strptime(s, '%Y-%m-%dT%H:%M:%SZ').replace(tzinfo=pytz.UTC)\n",
    "flood['datetime'] = np.vectorize(as_datetime)(flood['t'])\n",
    "fig = plt.figure()\n",
    "matplotlib.rcParams.update({'font.size': 8})\n",
    "# Date-axis control, taken from http://matplotlib.org/examples/api/date_demo.html\n",
    "# Given a matplotlib axis, print out date labels nicely\n",
    "locations = b['label'].unique().tolist()\n",
    "# print(flood[['datetime','value']].loc[flood['label']==locations[0]])\n",
    "# print(flood[['value']].loc[flood['label']==locations[i]].unstack().tolist())\n",
    "\n",
    "for i in range(len(locations)):\n",
    "    ax = fig.add_subplot(3,3,i+1)\n",
    "    ax.title.set_text(locations[i])\n",
    "#     ax.plot(dates, flood[['value']].loc[flood['label']==locations[i]].unstack().tolist())\n",
    "    dates = flood[['datetime']].loc[flood['label']==locations[i]].unstack().tolist()\n",
    "    \n",
    "    ax.xaxis.set_major_locator(matplotlib.dates.WeekdayLocator(byweekday=matplotlib.dates.MO, tz=pytz.UTC))\n",
    "    ax.xaxis.set_minor_locator(matplotlib.dates.DayLocator(tz=pytz.UTC))\n",
    "    ax.xaxis.set_major_formatter(matplotlib.dates.DateFormatter('%a %d %b'))\n",
    "    ax.plot(dates, flood[['value']].loc[flood['label']==locations[i]].unstack().tolist())\n",
    "    \n",
    "    \n",
    "# then, at the end,\n",
    "fig.autofmt_xdate(bottom=0.2, rotation=-30, ha='left')"
   ]
  },
  {
   "cell_type": "code",
   "execution_count": null,
   "metadata": {},
   "outputs": [],
   "source": []
  }
 ],
 "metadata": {
  "kernelspec": {
   "display_name": "Python 3",
   "language": "python",
   "name": "python3"
  },
  "language_info": {
   "codemirror_mode": {
    "name": "ipython",
    "version": 3
   },
   "file_extension": ".py",
   "mimetype": "text/x-python",
   "name": "python",
   "nbconvert_exporter": "python",
   "pygments_lexer": "ipython3",
   "version": "3.6.3"
  }
 },
 "nbformat": 4,
 "nbformat_minor": 2
}
