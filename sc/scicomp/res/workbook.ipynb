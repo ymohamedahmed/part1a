{
 "cells": [
  {
   "cell_type": "markdown",
   "metadata": {},
   "source": [
    "Run these commands to connect to the online grader. Click on the button that appears, and log in using your Cambridge University Raven account."
   ]
  },
  {
   "cell_type": "code",
   "execution_count": 3,
   "metadata": {},
   "outputs": [
    {
     "data": {
      "text/html": [
       "\n",
       "        <style type=\"text/css\">\n",
       "        #sQC7GstMGBcrZg a {\n",
       "          font-size: 130%;\n",
       "          display: inline-block;\n",
       "          padding: 0.15em 0.4em; margin-bottom: 0;\n",
       "          border-radius: 0.3em;\n",
       "          color: white;\n",
       "          background-color: #337ab7;\n",
       "          border: 1px solid transparent;\n",
       "          border-color: #2e6da4;\n",
       "          font-weight: normal; text-align: center; vertical-align: middle;\n",
       "          cursor: pointer;\n",
       "          white-space: nowrap;\n",
       "          text-decoration: none;\n",
       "          }\n",
       "        #sQC7GstMGBcrZg a:hover {\n",
       "          background-color: #286090;\n",
       "          border-color: #204d74;\n",
       "          }\n",
       "        </style>\n",
       "        <div>\n",
       "        <span id='sQC7GstMGBcrZg'>\n",
       "        <a href=\"http://127.0.0.1:8000/login/raven/?show=scicomp&show=notes2&signing_key=-----BEGIN%20PUBLIC%20KEY-----%0AMIIBIjANBgkqhkiG9w0BAQEFAAOCAQ8AMIIBCgKCAQEAwmtSzk2GQhI/l5pcHlbU%0Ar%2B/MuW9IikkZ67jmC1sX9/0PaTWSsa2C0IqCDTuHbqoK5xXAgfF61sErfz48WfqW%0AWMbptDXCps7djAkYbRULeBK7nOGu1vUGC22NhOYdj4MF4viRxioJD70mCOGLW9U9%0AnlTbSwNN//UnHS5lJkkUYxmTpALFvAiPiyFdo31wORKeHymjyS7/UguRqdQwUdla%0AZ0wrUK8kS/BH3KsspAYJ5MBzNjl%2BEG4aIOm3oAox/Pusa8xiS6t/RiTsFz95AmW1%0AJEX007XMY3AmEDWUUs8PCB6Gse8jKsCf8hoC7W4VhbE0roJ3MES6KvrS3DotDA75%0AAwIDAQAB%0A-----END%20PUBLIC%20KEY-----%0A\" target='grader_login'>log in</a>\n",
       "        </span>\n",
       "        </div>\n",
       "        <script type='text/javascript'>\n",
       "        window.setTimeout(function() {\n",
       "            var n = document.getElementById('sQC7GstMGBcrZg');\n",
       "            n.parentNode.removeChild(n);\n",
       "            console.log('Sign-in link expired');\n",
       "        }, 1000*30);\n",
       "        </script>\n",
       "        "
      ],
      "text/plain": [
       "<IPython.core.display.HTML object>"
      ]
     },
     "metadata": {},
     "output_type": "display_data"
    },
    {
     "name": "stdout",
     "output_type": "stream",
     "text": [
      "Waiting for you to log in ... done\n"
     ]
    },
    {
     "data": {
      "text/html": [
       "\n",
       "            <script type=\"text/javascript\">\n",
       "            var n = document.getElementById('sQC7GstMGBcrZg');\n",
       "            n.parentNode.removeChild(n);\n",
       "            console.log('Sign-in link used');\n",
       "            </script>\n",
       "            "
      ],
      "text/plain": [
       "<IPython.core.display.HTML object>"
      ]
     },
     "metadata": {},
     "output_type": "display_data"
    }
   ],
   "source": [
    "!pip install ucamcl\n",
    "from ucamcl import autograder\n",
    "GRADER = autograder('https://markmy.solutions/', course='scicomp', section='notes2')"
   ]
  },
  {
   "cell_type": "markdown",
   "metadata": {},
   "source": [
    "<div style=\"background-color:wheat\">**Exercise (ex1).**\n",
    "Let $x$ and $y$ be random numbers in $[-1,1]$, and let $d=\\sqrt{x^2+y^2}$. Repeat $n$ times, and report\n",
    "the mean and standard deviation of your $n$ values for $d$.\n",
    "</div>"
   ]
  },
  {
   "cell_type": "code",
   "execution_count": null,
   "metadata": {
    "collapsed": true
   },
   "outputs": [],
   "source": [
    "# This will tell you which value of n to work with, and what format the answer should be in.\n",
    "q = GRADER.fetch_question('ex1')\n",
    "q"
   ]
  },
  {
   "cell_type": "code",
   "execution_count": null,
   "metadata": {
    "collapsed": true
   },
   "outputs": [],
   "source": [
    "# This will tell you that you got the answer wrong (corr=FALSE), and what the correct answer is (ans).\n",
    "corr,ans = GRADER.submit_answer(q, {'mean':3, 'sd':2.5})\n",
    "ans"
   ]
  },
  {
   "cell_type": "markdown",
   "metadata": {},
   "source": [
    "<div style=\"background-color:wheat\">**Exercise (ex2).**\n",
    "Given <code style=\"background-color:wheat\">n</code>, produce the list <code style=\"background-color:wheat\">[0, 1, ..., n-1]</code>.\n",
    "</div>"
   ]
  },
  {
   "cell_type": "code",
   "execution_count": null,
   "metadata": {
    "collapsed": true
   },
   "outputs": [],
   "source": [
    "q = GRADER.fetch_question('ex2')\n",
    "q"
   ]
  },
  {
   "cell_type": "code",
   "execution_count": null,
   "metadata": {
    "collapsed": true
   },
   "outputs": [],
   "source": [
    "a = list(range(q.n))\n",
    "corr,soln = GRADER.submit_answer(q, a)"
   ]
  }
 ],
 "metadata": {
  "kernelspec": {
   "display_name": "Python 3",
   "language": "python",
   "name": "python3"
  },
  "language_info": {
   "codemirror_mode": {
    "name": "ipython",
    "version": 3
   },
   "file_extension": ".py",
   "mimetype": "text/x-python",
   "name": "python",
   "nbconvert_exporter": "python",
   "pygments_lexer": "ipython3",
   "version": "3.6.1"
  }
 },
 "nbformat": 4,
 "nbformat_minor": 2
}
